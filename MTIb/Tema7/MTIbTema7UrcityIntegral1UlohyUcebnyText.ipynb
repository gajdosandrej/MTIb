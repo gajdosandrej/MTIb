{
 "cells": [
  {
   "cell_type": "markdown",
   "metadata": {},
   "source": [
    "**Autor:** Andrej Gajdoš  <br> \n",
    "*[Ústav matematických vied](https://www.upjs.sk/prirodovedecka-fakulta/ustav/umv/), [Prírodovedecká fakulta](https://www.upjs.sk/prirodovedecka-fakulta/), Univerzita Pavla Jozefa Šafárika v Košiciach,* <br> \n",
    "email: [andrej.gajdos@upjs.sk](mailto:andrej.gajdos@upjs.sk)\n",
    "***\n",
    "**_Tento materiál vznikol za podpory grantu VVGS-2021-1758._** \n",
    "*** \n",
    "\n",
    "**<font size=6 color=gold> MTIb: Téma 7 - Určitý integrál I.: úlohy k učebnému textu </font>**   "
   ]
  },
  {
   "cell_type": "markdown",
   "metadata": {},
   "source": [
    "--- \n",
    "\n",
    "**1. Rýchlosť bicykla je daná funkciou $v(t)=5t$, kde $t$ je čas v sekundách a $v$ je rýchlosť v stopách za sekundu. Akú dráhu prejde bicykel za $3$ sekundy? Nakreslite aj obrázok a pri výpočte sa inšpirujte myšlienkami z Príkladu 1.** "
   ]
  },
  {
   "cell_type": "code",
   "execution_count": null,
   "metadata": {},
   "outputs": [],
   "source": []
  },
  {
   "cell_type": "markdown",
   "metadata": {},
   "source": [
    "--- \n",
    "\n",
    "**2. Pre funkciu $3x^2 + 2x -3$ určte pomocou interaktívnych kódov uvedených vyššie hodnoty Riemannových súčtov $L_n$, $R_n$, $M_n$ pre $n\\in\\{5,10,15,20\\}$. Čo sa deje s hodnotami $L_n$, $R_n$, $M_n$, keď sa počet intervalov $n$ zväčšuje?**"
   ]
  },
  {
   "cell_type": "code",
   "execution_count": null,
   "metadata": {},
   "outputs": [],
   "source": []
  },
  {
   "cell_type": "markdown",
   "metadata": {},
   "source": [
    "--- \n",
    "\n",
    "**3. Nájdite dvojicu funkcií $f$, $g$, pre ktorú bude platiť na konkrétnom intervale $\\langle a,b \\rangle$ vlastnosť: Ak $f(x) \\leq g(x)$, potom $\\displaystyle\\int\\limits_a^b f(x)\\, \\mathrm{d}x \\leq \\displaystyle\\int\\limits_a^b g(x)\\, \\mathrm{d}x$. Napíšte konkrétne funkcie $f,g$, konkrétny interval $\\langle a,b \\rangle$ a vykreslite aj grafy nájdených funkcií na zvolenom intervale (do jedného obrázka).**"
   ]
  },
  {
   "cell_type": "code",
   "execution_count": null,
   "metadata": {},
   "outputs": [],
   "source": []
  },
  {
   "cell_type": "markdown",
   "metadata": {},
   "source": [
    "--- \n",
    "\n",
    "**4. Pomocou Newtonovej-Leibnizovej formuly vypočítajte $\\displaystyle\\int\\limits_{\\pi/6}^{3\\pi/2} 4\\sin(2x)\\,\\mathrm{d}x$ a výpočet overte v Sage.**"
   ]
  },
  {
   "cell_type": "code",
   "execution_count": null,
   "metadata": {},
   "outputs": [],
   "source": []
  },
  {
   "cell_type": "markdown",
   "metadata": {},
   "source": [
    "---\n",
    "\n",
    "**5. Aké <span style=\"color:red\"> konkrétne </span> otázky máte k náplni študijných materiálov, ktoré by ste chceli na hodine prediskutovať?**"
   ]
  },
  {
   "cell_type": "code",
   "execution_count": null,
   "metadata": {},
   "outputs": [],
   "source": []
  }
 ],
 "metadata": {
  "kernelspec": {
   "display_name": "SageMath 9.1",
   "language": "sage",
   "name": "sagemath"
  },
  "language_info": {
   "codemirror_mode": {
    "name": "ipython",
    "version": 3
   },
   "file_extension": ".py",
   "mimetype": "text/x-python",
   "name": "python",
   "nbconvert_exporter": "python",
   "pygments_lexer": "ipython3",
   "version": "3.7.3"
  }
 },
 "nbformat": 4,
 "nbformat_minor": 2
}
