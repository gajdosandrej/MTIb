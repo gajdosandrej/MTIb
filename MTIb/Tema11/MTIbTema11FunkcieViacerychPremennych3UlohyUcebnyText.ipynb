{
 "cells": [
  {
   "cell_type": "markdown",
   "metadata": {},
   "source": [
    "**Autor:** Andrej Gajdoš  <br> \n",
    "*[Ústav matematických vied](https://www.upjs.sk/prirodovedecka-fakulta/ustav/umv/), [Prírodovedecká fakulta](https://www.upjs.sk/prirodovedecka-fakulta/), Univerzita Pavla Jozefa Šafárika v Košiciach,* <br> \n",
    "email: [andrej.gajdos@upjs.sk](mailto:andrej.gajdos@upjs.sk)\n",
    "*** \n",
    "**_Tento materiál vznikol za podpory grantu VVGS-2021-1758._** \n",
    "*** \n",
    "\n",
    "**<font size=6 color=green> MTIb: Téma 11 - Funkcie viacerých premenných III.: úlohy k učebnému textu </font>**   "
   ]
  },
  {
   "cell_type": "markdown",
   "metadata": {},
   "source": [
    "--- \n",
    "\n",
    "**1. Uveďte príklad funkcie jednej reálnej premennej, ktorá nie je diferencovateľná (resp. nemá deriváciu) v konkrétnom bode. Pomôžte si experimentovaním - výpočtami (limít resp. derivácií) a grafmi v Sage. Pripomeňte si tému 3. Vysvetlite a zdôvodnite prečo Vami zvolená funkcia nie je diferencovateľná (resp. nemá deriváciu) v danom bode.** "
   ]
  },
  {
   "cell_type": "code",
   "execution_count": null,
   "metadata": {},
   "outputs": [],
   "source": []
  },
  {
   "cell_type": "markdown",
   "metadata": {},
   "source": [
    "--- \n",
    "\n",
    "**2. Skúste vymyslieť iný príklad funkcie, ktorá nebude diferencovateľná v nejakom bode. Pomôžte si experimentovaním či grafmi v Sage. Taktiež môžete využiť interaktívne kódy z predošlých dvoch tém. Skúste podobne ako v Príklade 1 alebo aspoň na základe grafu zdôvodniť, v ktorom bode a prečo by Vami nájdená funkcia nemala byť diferencovateľná.**"
   ]
  },
  {
   "cell_type": "code",
   "execution_count": null,
   "metadata": {},
   "outputs": [],
   "source": []
  },
  {
   "cell_type": "markdown",
   "metadata": {},
   "source": [
    "--- \n",
    "\n",
    "**3. Overte výpočet v Príklade 3 pomocou Sage. Pre porovnanie určte aj presnú hodnotu  $1.01^{2.02}$ a vyjadrite chybu aproximácie (v absolútnej hodnote rozdiel presnej hodnoty a aproximácie).** \n"
   ]
  },
  {
   "cell_type": "code",
   "execution_count": null,
   "metadata": {},
   "outputs": [],
   "source": []
  },
  {
   "cell_type": "markdown",
   "metadata": {},
   "source": [
    "--- \n",
    "\n",
    "**4. Pokúste sa nájsť predpis funkcie dvoch premenných, ktorej dotyková rovina by bola daná predpisom z Príkladu 4. Pre kontrolu v Sage vykreslite na vhodnej množine nájdenú funkciu, dotykovú rovinu aj bod dotyku.** \n"
   ]
  },
  {
   "cell_type": "code",
   "execution_count": null,
   "metadata": {},
   "outputs": [],
   "source": []
  },
  {
   "cell_type": "markdown",
   "metadata": {},
   "source": [
    "--- \n",
    "\n",
    "**5. Urobte kontrolné výpočty pre nájdenie lokálnych extrémov z Príkladu 6 v Sage. Pomôžte si prípadne kódmi z predošlých tém.**"
   ]
  },
  {
   "cell_type": "code",
   "execution_count": null,
   "metadata": {},
   "outputs": [],
   "source": []
  },
  {
   "cell_type": "markdown",
   "metadata": {},
   "source": [
    "--- \n",
    "\n",
    "**6. Aké <span style=\"color:red\"> konkrétne </span> otázky máte k náplni študijných materiálov, ktoré by ste chceli na hodine prediskutovať?**"
   ]
  },
  {
   "cell_type": "code",
   "execution_count": null,
   "metadata": {},
   "outputs": [],
   "source": []
  }
 ],
 "metadata": {
  "kernelspec": {
   "display_name": "SageMath 9.0",
   "language": "sage",
   "name": "sagemath"
  },
  "language_info": {
   "codemirror_mode": {
    "name": "ipython",
    "version": 3
   },
   "file_extension": ".py",
   "mimetype": "text/x-python",
   "name": "python",
   "nbconvert_exporter": "python",
   "pygments_lexer": "ipython3",
   "version": "3.7.3"
  }
 },
 "nbformat": 4,
 "nbformat_minor": 2
}
