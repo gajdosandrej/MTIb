{
 "cells": [
  {
   "cell_type": "markdown",
   "metadata": {},
   "source": [
    "**Autor:** Andrej Gajdoš  <br> \n",
    "*[Ústav matematických vied](https://www.upjs.sk/prirodovedecka-fakulta/ustav/umv/), [Prírodovedecká fakulta](https://www.upjs.sk/prirodovedecka-fakulta/), Univerzita Pavla Jozefa Šafárika v Košiciach,* <br> \n",
    "email: [andrej.gajdos@upjs.sk](mailto:andrej.gajdos@upjs.sk)\n",
    "*** \n",
    "**_Tento materiál vznikol za podpory grantu VVGS-2021-1758._** \n",
    "*** \n",
    "\n",
    "**<font size=6 color=green> MTIb: Téma 2 - Spojitosť funkcie: úlohy k učebnému textu </font>**"
   ]
  },
  {
   "cell_type": "markdown",
   "metadata": {},
   "source": [
    "--- \n",
    "\n",
    "**1. Uveďte príklad pre ilustráciu Vety 2. Vymyslite konkrétnu funkciu resp. funkcie $f,g$, zvoľte konkrétny bod $x_0$ a zdôvodnite, prečo výsledná funkcia je v bode $x_0$ spojitá. Pomôžte si grafmi v Sage a tiež tvrdeniami o limitách z témy 1.**  "
   ]
  },
  {
   "cell_type": "code",
   "execution_count": null,
   "metadata": {},
   "outputs": [],
   "source": []
  },
  {
   "cell_type": "markdown",
   "metadata": {},
   "source": [
    "---\n",
    "\n",
    "**2. Uveďte príklad pre ilustráciu Vety 3. Vymyslite konkrétne funkcie $f$ a $g$, zvoľte konkrétny bod $x_0$ a zdôvodnite, prečo výsledná funkcia je v bode $x_0$ spojitá. Pomôžte si grafmi v Sage a tiež tvrdeniami o limitách z témy 1.**"
   ]
  },
  {
   "cell_type": "code",
   "execution_count": null,
   "metadata": {},
   "outputs": [],
   "source": []
  },
  {
   "cell_type": "markdown",
   "metadata": {},
   "source": [
    "--- \n",
    "\n",
    "**3. Uvažujte funkciu $y=\\dfrac{1}{x}$. Prečo túto funkciu nie je možné dodefinovať v bode $x_0=0$ na spojitú funkciu podobne ako v Príklade 6? Nápoveda: Pomocou Sage preskúmajte, čo sa deje s funkčnými hodnotami, keď sa blížia hodnoty $x$ k $x_0=0$ sprava a zľava. Aké sú jednostranné limity v bode $x_0=0$ ? Zároveň si pomôžte Príkladom 6 a komentárom nad ním.**"
   ]
  },
  {
   "cell_type": "code",
   "execution_count": null,
   "metadata": {},
   "outputs": [],
   "source": []
  },
  {
   "cell_type": "markdown",
   "metadata": {},
   "source": [
    "---\n",
    "\n",
    "**4. Uveďte príklad  funkcie takej, ktorá je definovaná na uzavretom intervale, no nie je na ňom spojitá a tým pádom ani ohraničená.** \n"
   ]
  },
  {
   "cell_type": "code",
   "execution_count": null,
   "metadata": {},
   "outputs": [],
   "source": []
  },
  {
   "cell_type": "markdown",
   "metadata": {},
   "source": [
    "--- \n",
    "\n",
    "**5. Uveďte príklad funkcie pre ilustráciu tvrdenia vo Vete 12. Nezabudnite overiť/zdôvodniť, že Vami zvolená funkcia spĺňa predpoklady, ktoré sú vo Vete 12, a že pre Vami zvolenú funkciu platí to, čo tvrdí Veta 12.**"
   ]
  },
  {
   "cell_type": "code",
   "execution_count": null,
   "metadata": {},
   "outputs": [],
   "source": []
  },
  {
   "cell_type": "markdown",
   "metadata": {},
   "source": [
    "---\n",
    "\n",
    "**6. Pomocou interaktívneho kódu (v učebnom texte) pre metódu bisekcie nájdite riešenie rovnice z Príkladu 10 postupne s týmito presnosťami: $\\varepsilon\\in\\{0.1, 0.01, 0.001, 0.0001\\}$. Čo sa deje s počtom intervalov (resp. iterácií), keď zvyšujete  presnosť $\\varepsilon$ ?**  \n"
   ]
  },
  {
   "cell_type": "code",
   "execution_count": null,
   "metadata": {},
   "outputs": [],
   "source": []
  },
  {
   "cell_type": "markdown",
   "metadata": {},
   "source": [
    "--- \n",
    "\n",
    "**7. Aké <span style=\"color:red\"> konkrétne </span> otázky máte k náplni študijných materiálov, ktoré by ste chceli na hodine prediskutovať?** "
   ]
  },
  {
   "cell_type": "code",
   "execution_count": null,
   "metadata": {},
   "outputs": [],
   "source": []
  }
 ],
 "metadata": {
  "kernelspec": {
   "display_name": "SageMath 9.2",
   "language": "sage",
   "name": "sagemath"
  },
  "language_info": {
   "codemirror_mode": {
    "name": "ipython",
    "version": 3
   },
   "file_extension": ".py",
   "mimetype": "text/x-python",
   "name": "python",
   "nbconvert_exporter": "python",
   "pygments_lexer": "ipython3",
   "version": "3.7.7"
  }
 },
 "nbformat": 4,
 "nbformat_minor": 2
}
