{
 "cells": [
  {
   "cell_type": "markdown",
   "metadata": {},
   "source": [
    "**Autor:** Andrej Gajdoš  <br> \n",
    "*[Ústav matematických vied](https://www.upjs.sk/prirodovedecka-fakulta/ustav/umv/), [Prírodovedecká fakulta](https://www.upjs.sk/prirodovedecka-fakulta/), Univerzita Pavla Jozefa Šafárika v Košiciach,* <br> \n",
    "email: [andrej.gajdos@upjs.sk](mailto:andrej.gajdos@upjs.sk)\n",
    "*** \n",
    "**_Tento materiál vznikol za podpory grantu VVGS-2021-1758._** \n",
    "*** \n",
    "\n",
    "**<font size=6 color=green> MTIb: Téma 2 - Spojitosť funkcie: úlohy </font>**"
   ]
  },
  {
   "cell_type": "markdown",
   "metadata": {},
   "source": [
    "---\n",
    "\n",
    "**$\\bigstar$ 1. Z definície dokážte, že funkcia $f:\\ y=\\dfrac{x}{x+1}$ je v bode $x_0=0$ spojitá sprava.**"
   ]
  },
  {
   "cell_type": "code",
   "execution_count": null,
   "metadata": {},
   "outputs": [],
   "source": []
  },
  {
   "cell_type": "markdown",
   "metadata": {},
   "source": [
    "---\n",
    "\n",
    "**2. Rozhodnite, či je funkcia $g:\\ y=\\begin{cases} \n",
    "      x^2, & \\quad 0\\leq x\\leq 1,\\\\\n",
    "      2-x, & \\quad 1<x\\leq 2 \n",
    "   \\end{cases}$\n",
    "spojitá na intervale $[0,2]$.**\n"
   ]
  },
  {
   "cell_type": "code",
   "execution_count": null,
   "metadata": {},
   "outputs": [],
   "source": []
  },
  {
   "cell_type": "markdown",
   "metadata": {},
   "source": [
    "--- \n",
    "\n",
    "**3. Zistite, kde je funkcia $h:\\ y=\\begin{cases} \n",
    "      \\dfrac{x^2-9}{x+3}, & \\quad x\\neq -3,\\\\\n",
    "      -6, & \\quad x=-3 \n",
    "   \\end{cases}$ spojitá.** \n"
   ]
  },
  {
   "cell_type": "code",
   "execution_count": null,
   "metadata": {},
   "outputs": [],
   "source": []
  },
  {
   "cell_type": "markdown",
   "metadata": {},
   "source": [
    "---\n",
    "\n",
    "**4. Nájdite body nespojitosti funkcie $f: y=\\dfrac{\\dfrac{1}{x}-\\dfrac{1}{x+1}}{\\dfrac{1}{x-1}-\\dfrac{1}{x}}.$**"
   ]
  },
  {
   "cell_type": "code",
   "execution_count": null,
   "metadata": {},
   "outputs": [],
   "source": []
  },
  {
   "cell_type": "markdown",
   "metadata": {},
   "source": [
    "---\n",
    "\n",
    "**5. Nech $g:\\ y=\\begin{cases} \n",
    "      \\mathrm{e}^x, & \\quad x<0,\\\\\n",
    "a+x, & \\quad x\\geq 0 \n",
    "   \\end{cases}$.  Pre ktoré hodnoty čísla $a$ je funkcia $g$ spojitá na celom svojom definičnom obore?**\n"
   ]
  },
  {
   "cell_type": "code",
   "execution_count": null,
   "metadata": {},
   "outputs": [],
   "source": []
  },
  {
   "cell_type": "markdown",
   "metadata": {},
   "source": [
    "---\n",
    "\n",
    "**6. Dodefinujte funkciu $g$ tak, aby bola spojitá v bode $x_0=0$ (ak je to možné):** \n",
    "\n",
    "$$\\text{a) } g(x)=\\dfrac{2x^2-6x}{x^2+1}\\sin\\dfrac{4}{x}, \\qquad\\qquad \\text{b) } g(x)=\\mathrm{arctg}\\dfrac{1}{x}, \\qquad\\qquad \\text{c) } g(x)=\\left(1+2x\\right)^{\\frac{1}{x}}, \\qquad\\qquad \\text{d) } g(x)=\\dfrac{|x|}{x}.$$"
   ]
  },
  {
   "cell_type": "code",
   "execution_count": null,
   "metadata": {},
   "outputs": [],
   "source": []
  },
  {
   "cell_type": "markdown",
   "metadata": {},
   "source": [
    "---\n",
    "\n",
    "**7. Dodefinujte funkciu $f$ tak, aby bola spojitá na celom $\\mathbb{R}$ (ak je to možné):** \n",
    "\n",
    "$$\\text{a) } f(x)=\\frac{2^x - 3^x}{x}, \\qquad\\qquad \\text{b) } f(x)=\\frac{1-\\cos x}{x^2}, \\qquad\\qquad \\text{c) } f(x)=\\frac{x^2 -1}{x-1}, \\qquad\\qquad \\text{d) } f(x)=\\frac{\\sqrt{1+x}-1}{x},$$ \n",
    "\n",
    "$$\\text{e) } f(x)=\\frac{\\mathrm{tg}(2x)}{\\sqrt{|x|}}, \\qquad\\qquad \\text{f) } f(x)=\\frac{5x^2 - 3x}{2x}, \\qquad\\qquad \\text{g) } f(x)=\\frac{1}{1+2^{\\frac{1}{x}}}, \\qquad\\qquad \\text{h) } f(x)=\\frac{1}{(x-2)^2}.$$"
   ]
  },
  {
   "cell_type": "code",
   "execution_count": null,
   "metadata": {},
   "outputs": [],
   "source": []
  },
  {
   "cell_type": "markdown",
   "metadata": {},
   "source": [
    "--- \n",
    "\n",
    "**8. Uveďte príklad funkcie, ktorá je definovaná pre všetky reálne čísla $x$ a je spojitá všade s výnimkou bodu $x_0=15$.**"
   ]
  },
  {
   "cell_type": "code",
   "execution_count": null,
   "metadata": {},
   "outputs": [],
   "source": []
  },
  {
   "cell_type": "markdown",
   "metadata": {},
   "source": [
    "--- \n",
    "\n",
    "**9. Uveďte príklad funkcie, ktorá je rastúca ale nie je spojitá na intervale $[0,10]$.**"
   ]
  },
  {
   "cell_type": "code",
   "execution_count": null,
   "metadata": {},
   "outputs": [],
   "source": []
  },
  {
   "cell_type": "markdown",
   "metadata": {},
   "source": [
    "--- \n",
    "\n",
    "**10. Zistite, či rovnica $x^2-7x+5=0$ má v intervale $[0.5,1]$ reálny koreň. Ak áno, určte ho s chybou menšou ako $0.05$.**"
   ]
  },
  {
   "cell_type": "code",
   "execution_count": null,
   "metadata": {},
   "outputs": [],
   "source": []
  },
  {
   "cell_type": "markdown",
   "metadata": {},
   "source": [
    "--- \n",
    "\n",
    "**11. Načrtnite graf spojitej funkcie, ktorá spĺňa všetky uvedené podmienky:** \n",
    "\n",
    "(i) $\\,f(0)=2$; \n",
    "\n",
    "(ii) $\\,f(x)$ je klesajúca pre $0\\le x \\le 3$; \n",
    "\n",
    "(iii) $\\,f(x)$ je klesajúca pre $3<x\\le5$; \n",
    "\n",
    "(iv) $\\,f(x)$ je klesajúca pre $x>5$; \n",
    "\n",
    "(v) $f(x)\\to9$ pre $x\\to\\infty$. "
   ]
  },
  {
   "cell_type": "code",
   "execution_count": null,
   "metadata": {},
   "outputs": [],
   "source": []
  }
 ],
 "metadata": {
  "kernelspec": {
   "display_name": "SageMath 9.0",
   "language": "sage",
   "name": "sagemath"
  },
  "language_info": {
   "codemirror_mode": {
    "name": "ipython",
    "version": 3
   },
   "file_extension": ".py",
   "mimetype": "text/x-python",
   "name": "python",
   "nbconvert_exporter": "python",
   "pygments_lexer": "ipython3",
   "version": "3.7.3"
  }
 },
 "nbformat": 4,
 "nbformat_minor": 2
}
