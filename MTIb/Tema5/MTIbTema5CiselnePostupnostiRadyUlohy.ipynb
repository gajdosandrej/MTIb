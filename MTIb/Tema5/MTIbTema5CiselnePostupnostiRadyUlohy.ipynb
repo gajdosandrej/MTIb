{
 "cells": [
  {
   "cell_type": "markdown",
   "metadata": {},
   "source": [
    "**Autor:** Andrej Gajdoš  <br> \n",
    "*[Ústav matematických vied](https://www.upjs.sk/prirodovedecka-fakulta/ustav/umv/), [Prírodovedecká fakulta](https://www.upjs.sk/prirodovedecka-fakulta/), Univerzita Pavla Jozefa Šafárika v Košiciach,* <br> \n",
    "email: [andrej.gajdos@upjs.sk](mailto:andrej.gajdos@upjs.sk)\n",
    "*** \n",
    "**_Tento materiál vznikol za podpory grantu VVGS-2021-1758._** \n",
    "*** \n",
    "\n",
    "**<font size=6 color=green> MTIb: Téma 5 - Číselné postupnosti a rady: úlohy </font>**   "
   ]
  },
  {
   "attachments": {
    "priradenieGrafovPostupnosti.png": {
     "image/png": "[encoded data removed]"
    }
   },
   "cell_type": "markdown",
   "metadata": {},
   "source": [
    "--- \n",
    "\n",
    "**1. Priraďte predpisy postupností ku grafom.**\n",
    "\n",
    "![priradenieGrafovPostupnosti.png](attachment:priradenieGrafovPostupnosti.png)\n",
    "$$\\text{Zdroj: Hallet (2017).}$$ "
   ]
  },
  {
   "cell_type": "code",
   "execution_count": null,
   "metadata": {},
   "outputs": [],
   "source": []
  },
  {
   "cell_type": "markdown",
   "metadata": {},
   "source": [
    "--- \n",
    "\n",
    "**2. Rozhodnite o konvergencii nasledujúcich postupností. V prípade konvergentnej postupnosti nájdite jej limitu.**\n",
    "\n",
    "$$\\text{a) } a_n=(0.8)^n \\qquad \\text{b) } a_n=\\dfrac{1-e^{-n}}{1+e^{-n}} \\qquad \\text{c) } a_n=\\dfrac{n^2+1}{n} \\qquad \\text{d) } a_n=1+(-1)^n$$ "
   ]
  },
  {
   "cell_type": "code",
   "execution_count": null,
   "metadata": {},
   "outputs": [],
   "source": []
  },
  {
   "cell_type": "markdown",
   "metadata": {},
   "source": [
    "---\n",
    "\n",
    "**3. Vyšetrite konvergenciu radov:**\n",
    "\n",
    "$$\\text{a) } \\sum\\limits_{n=1}^{\\infty}\\frac{3^n -2^n}{6^n} \\qquad \\text{b) } \\sum\\limits_{n=1}^{\\infty}\\frac{1}{n^3 +1} \\qquad \\text{c) } \\sum\\limits_{n=1}^{\\infty}\\frac{1}{n2^n} \\qquad \\text{d) } \\sum\\limits_{n=1}^{\\infty}\\frac{1}{2n}\\left(\\frac{3}{8}\\right)^n \\qquad \\text{e) } \\sum\\limits_{n=1}^{\\infty}\\frac{1}{\\sqrt{n}}$$ \n",
    "\n",
    "$$\\text{f) } \\sum\\limits_{n=1}^{\\infty}\\frac{1}{n\\sqrt{n+1}} \\qquad \\text{g) } \\sum\\limits_{n=1}^{\\infty}\\sin\\frac{1}{n} \\qquad \\text{h) } \\sum\\limits_{n=1}^{\\infty}\\frac{\\sqrt{n+1}-\\sqrt{n}}{n} \\qquad \\text{i) } \\sum\\limits_{n=1}^{\\infty}\\frac{1}{\\ln n} \\qquad \\text{j) } \\sum\\limits_{n=1}^{\\infty}\\frac{1}{2^n -1}$$"
   ]
  },
  {
   "cell_type": "code",
   "execution_count": null,
   "metadata": {},
   "outputs": [],
   "source": []
  },
  {
   "cell_type": "markdown",
   "metadata": {},
   "source": [
    "---\n",
    "\n",
    "**4. Vyšetrite konvergenciu radov:** \n",
    "\n",
    "$$\\text{a) } \\sum\\limits_{n=1}^{\\infty}\\frac{n!}{10^n} \\qquad \\text{b) } \\sum\\limits_{n=1}^{\\infty}\\frac{5^n}{10!} \\qquad \\text{c) } \\sum\\limits_{n=1}^{\\infty}\\frac{n}{2^n} \\qquad \\text{d) } \\sum\\limits_{n=1}^{\\infty}\\frac{n!}{n^2} \\qquad \\text{e) } \\sum\\limits_{n=1}^{\\infty}\\frac{2^n}{(n+1)3^n} \\qquad \\text{f) } \\sum\\limits_{n=1}^{\\infty}\\frac{2n-1}{(\\sqrt{2})^n}$$ "
   ]
  },
  {
   "cell_type": "code",
   "execution_count": null,
   "metadata": {},
   "outputs": [],
   "source": []
  },
  {
   "cell_type": "markdown",
   "metadata": {},
   "source": [
    "--- \n",
    "\n",
    "**5. Vyšetrite konvergenciu radov:** \n",
    "\n",
    "$$\\text{a) } \\sum\\limits_{n=1}^{\\infty}\\frac{(n!)^2}{(2n)!} \\qquad \\text{b) } \\sum\\limits_{n=1}^{\\infty}\\frac{2n}{7n+1} \\qquad \\text{c) } \\sum\\limits_{n=1}^{\\infty}\\left(\\frac{n+2}{2n-1}\\right)^n \\qquad \\text{d) } \\sum\\limits_{n=1}^{\\infty}\\frac{n}{n+1} \\qquad \\text{e) } \\sum\\limits_{n=1}^{\\infty}\\frac{1}{\\ln^n n} \\qquad \\text{f) } \\sum\\limits_{n=1}^{\\infty}\\cos \\frac{1}{n}$$ "
   ]
  },
  {
   "cell_type": "code",
   "execution_count": null,
   "metadata": {},
   "outputs": [],
   "source": []
  },
  {
   "cell_type": "markdown",
   "metadata": {},
   "source": [
    "--- \n",
    "\n",
    "**6. Peter si chce zriadiť dôchodkový fond, z ktorého bude môcť pri odchode do dôchodku čerpať 20 000 dolárov a rovnakú sumu pri každom výročí odchodu do dôchodku po dobu 10 rokov. Do dôchodku plánuje odísť o 20 rokov. Akú investíciu (vklad do fondu) dnes potrebuje, ak môže vo fonde získať 5% ročný úrok?** "
   ]
  },
  {
   "cell_type": "code",
   "execution_count": null,
   "metadata": {},
   "outputs": [],
   "source": []
  },
  {
   "cell_type": "markdown",
   "metadata": {},
   "source": [
    "---\n",
    "\n",
    "**7. Celkové zásoby neobnoviteľného zdroja sú 400 miliónov ton.** \n",
    "\n",
    "**a) Ročná spotreba je v súčasnosti 25 miliónov ton ročne a má sa každý rok zvýšiť o 1%. Po koľkých rokoch sa vyčerpajú rezervy?**\n",
    "\n",
    "**b) Predpokladajme, že spotreba sa nebude zvyšovať o 1% ročne, ale bude sa znižovať o konštantné percento ročne. Ak by sa súčasné rezervy nemali vyčerpať, aké ročné percentuálne zníženie spotreby je nutné?** "
   ]
  },
  {
   "cell_type": "code",
   "execution_count": null,
   "metadata": {},
   "outputs": [],
   "source": []
  }
 ],
 "metadata": {
  "kernelspec": {
   "display_name": "SageMath 9.0",
   "language": "sage",
   "name": "sagemath"
  },
  "language_info": {
   "codemirror_mode": {
    "name": "ipython",
    "version": 3
   },
   "file_extension": ".py",
   "mimetype": "text/x-python",
   "name": "python",
   "nbconvert_exporter": "python",
   "pygments_lexer": "ipython3",
   "version": "3.7.3"
  }
 },
 "nbformat": 4,
 "nbformat_minor": 2
}
