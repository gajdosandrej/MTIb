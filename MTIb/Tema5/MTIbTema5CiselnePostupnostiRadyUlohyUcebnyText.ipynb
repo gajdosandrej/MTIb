{
 "cells": [
  {
   "cell_type": "markdown",
   "metadata": {},
   "source": [
    "**Autor:** Andrej Gajdoš  <br> \n",
    "*[Ústav matematických vied](https://www.upjs.sk/prirodovedecka-fakulta/ustav/umv/), [Prírodovedecká fakulta](https://www.upjs.sk/prirodovedecka-fakulta/), Univerzita Pavla Jozefa Šafárika v Košiciach,* <br> \n",
    "email: [andrej.gajdos@upjs.sk](mailto:andrej.gajdos@upjs.sk)\n",
    "*** \n",
    "**_Tento materiál vznikol za podpory grantu VVGS-2021-1758._** \n",
    "*** \n",
    "\n",
    "**<font size=6 color=green> MTIb: Téma 5 - Číselné postupnosti a rady: úlohy k učebnému textu </font>**   "
   ]
  },
  {
   "cell_type": "markdown",
   "metadata": {},
   "source": [
    "--- \n",
    "\n",
    "**1. Vypíšte prvých desať členov postupnosti $\\left\\{\\dfrac{(-1)^{\\frac{n(n+1)}{2}}}{n^2}\\right\\}_{n=1}^{\\infty}$.** "
   ]
  },
  {
   "cell_type": "code",
   "execution_count": null,
   "metadata": {},
   "outputs": [],
   "source": []
  },
  {
   "cell_type": "markdown",
   "metadata": {},
   "source": [
    "--- \n",
    "\n",
    "**2. Podobne ako v prípade postupnosti $\\left\\{\\dfrac{1+n}{2+n}\\right\\}_{n=1}^{\\infty}$ v učebnom texte, skúste vypísať niekoľko členov postupnosti $\\left\\{(-1)^n\\cdot\\dfrac{1}{n}\\right\\}_{n=1}^{\\infty}$, vykresliť graf a popísať jej limitné správanie.**"
   ]
  },
  {
   "cell_type": "code",
   "execution_count": null,
   "metadata": {},
   "outputs": [],
   "source": []
  },
  {
   "cell_type": "markdown",
   "metadata": {},
   "source": [
    "--- \n",
    "\n",
    "**3. Vymyslite príklad postupnosti, ktorá má limitu $-\\infty$ (využite Sage). Pokúste sa to aj zdôvodniť (dokázať z definície).**"
   ]
  },
  {
   "cell_type": "code",
   "execution_count": null,
   "metadata": {},
   "outputs": [],
   "source": []
  },
  {
   "cell_type": "markdown",
   "metadata": {},
   "source": [
    "--- \n",
    "\n",
    "**4. Na základe úvah o konvergencii geometrického radu v učebnom texte, sformulujte všeobecný vzťah pre $Q_n$ v Príklade 2 a pre $B_n$ v Príklade 3. Čo viete povedať o konvergencii postupností čiastočných súčtov $\\{Q_n\\}_{n=1}^{\\infty}$, $\\{B_n\\}_{n=1}^{\\infty}$ ? Čo z toho vyplýva pre konvergenciu príslušných nekonečných radov? Vypočíajte (v Sage) hodnoty $Q_{40}$, $B_{100}$ a interpretujte ich v kontexte daných príkladov.**"
   ]
  },
  {
   "cell_type": "code",
   "execution_count": null,
   "metadata": {},
   "outputs": [],
   "source": []
  },
  {
   "cell_type": "markdown",
   "metadata": {},
   "source": [
    "--- \n",
    "\n",
    "**5. Dokážte, že postupnosť $\\left\\{\\dfrac{1+n}{2+n}\\right\\}_{n=1}^{\\infty}$ je neklesajúca a zhora ohraničená.** "
   ]
  },
  {
   "cell_type": "code",
   "execution_count": null,
   "metadata": {},
   "outputs": [],
   "source": []
  },
  {
   "cell_type": "markdown",
   "metadata": {},
   "source": [
    "--- \n",
    "\n",
    "**6. Aké <span style=\"color:red\"> konkrétne </span> otázky máte k náplni študijných materiálov, ktoré by ste chceli na hodine prediskutovať?**"
   ]
  },
  {
   "cell_type": "code",
   "execution_count": null,
   "metadata": {},
   "outputs": [],
   "source": []
  }
 ],
 "metadata": {
  "kernelspec": {
   "display_name": "SageMath 9.0",
   "language": "sage",
   "name": "sagemath"
  },
  "language_info": {
   "codemirror_mode": {
    "name": "ipython",
    "version": 3
   },
   "file_extension": ".py",
   "mimetype": "text/x-python",
   "name": "python",
   "nbconvert_exporter": "python",
   "pygments_lexer": "ipython3",
   "version": "3.7.3"
  }
 },
 "nbformat": 4,
 "nbformat_minor": 2
}
