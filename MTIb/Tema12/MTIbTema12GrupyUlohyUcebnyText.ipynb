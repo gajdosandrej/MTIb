{
 "cells": [
  {
   "cell_type": "markdown",
   "metadata": {},
   "source": [
    "**Autor:** Andrej Gajdoš  <br> \n",
    "*[Ústav matematických vied](https://www.upjs.sk/prirodovedecka-fakulta/ustav/umv/), [Prírodovedecká fakulta](https://www.upjs.sk/prirodovedecka-fakulta/), Univerzita Pavla Jozefa Šafárika v Košiciach,* <br> \n",
    "email: [andrej.gajdos@upjs.sk](mailto:andrej.gajdos@upjs.sk)\n",
    "***\n",
    "**_Tento materiál vznikol za podpory grantu VVGS-2021-1758._** \n",
    "***  \n",
    "\n",
    "**<font size=6 color=gold> MTIb: Téma 12 - Grupy: úlohy k učebnému textu </font>**"
   ]
  },
  {
   "cell_type": "markdown",
   "metadata": {},
   "source": [
    "---\n",
    "\n",
    "**1. Vytvorte Cayleyho tabuľky pre nasledujúce množiny prvkov a binárne operácie: množina celých čísel $\\{0,1,2,3\\}$ s operáciou sčítana; množina celých čísel $\\{0,1,2,3\\}$ s operáciou násobenia; množina zvyškových tried $\\{0_3,1_3,2_3\\}$ s operáciou sčítana modulo $3$; množina zvyškových tried $\\{0_3,1_3,2_3\\}$ s operáciou násobenia modulo $3$.**"
   ]
  },
  {
   "cell_type": "code",
   "execution_count": null,
   "metadata": {},
   "outputs": [],
   "source": []
  },
  {
   "cell_type": "markdown",
   "metadata": {},
   "source": [
    "---\n",
    "\n",
    "**2. Overte, že Cayleyho tabuľka Z Príkladu 3 - 9. časť je správna.**"
   ]
  },
  {
   "cell_type": "code",
   "execution_count": null,
   "metadata": {},
   "outputs": [],
   "source": []
  },
  {
   "cell_type": "markdown",
   "metadata": {},
   "source": [
    "---\n",
    "\n",
    "**3. Overte, že otočenie rovnostranného trojuholníka proti smeru hodinových ručičiek nie je to isté, čo otočenie v smere hodinových ručičiek. Využite pri tom skladanie v grupe symetrií (resp. permutácií) z Príkladu 3 - časť 6. a ukážte tak, že nie je abelovská.**"
   ]
  },
  {
   "cell_type": "code",
   "execution_count": null,
   "metadata": {},
   "outputs": [],
   "source": []
  },
  {
   "cell_type": "markdown",
   "metadata": {},
   "source": [
    "--- \n",
    "\n",
    "**4. V Príklade 7 - časť 1. si zvoľte konkrétnu maticu $\\mathbf{M}$, dva konkrétne vektory $\\boldsymbol{x},\\boldsymbol{y}$, skalár $c$ a ilustrujte, že platia obe podmienky pre linearitu zobrazenia daného maticou $\\mathbf{M}$.**"
   ]
  },
  {
   "cell_type": "code",
   "execution_count": null,
   "metadata": {},
   "outputs": [],
   "source": []
  },
  {
   "cell_type": "markdown",
   "metadata": {},
   "source": [
    "--- \n",
    "\n",
    "**5. V Príklade 7 - časť 9. overte, že $U(8)=\\{1,3,5,7\\}$ a $U(12)=\\{1,5,7,11\\}$.**"
   ]
  },
  {
   "cell_type": "code",
   "execution_count": null,
   "metadata": {},
   "outputs": [],
   "source": []
  },
  {
   "cell_type": "markdown",
   "metadata": {},
   "source": [
    "--- \n",
    "\n",
    "**6. Ilustrujte jednotlivé časti Tvrdenia 3 na konkrétnych príkladoch. Pomôžte si príkladmi v učebnom texte.**"
   ]
  },
  {
   "cell_type": "code",
   "execution_count": null,
   "metadata": {},
   "outputs": [],
   "source": []
  },
  {
   "cell_type": "markdown",
   "metadata": {},
   "source": [
    "---\n",
    "\n",
    "**7. Ilustrujte jednotlivé časti Tvrdenia 4 na konkrétnych príkladoch. Pomôžte si príkladmi v učebnom texte.**"
   ]
  },
  {
   "cell_type": "code",
   "execution_count": null,
   "metadata": {},
   "outputs": [],
   "source": []
  },
  {
   "cell_type": "markdown",
   "metadata": {},
   "source": [
    "---\n",
    "\n",
    "**8. V Príklade 9 overte, že v časti 1 a v časti 4 ide naozaj o podgrupy príslušnej grupy (tzn. overte či sú splnené podmienky vo Vete 1).**\n"
   ]
  },
  {
   "cell_type": "code",
   "execution_count": null,
   "metadata": {},
   "outputs": [],
   "source": []
  },
  {
   "cell_type": "markdown",
   "metadata": {},
   "source": [
    "--- \n",
    "\n",
    "**9. Pomocou Vety 1 dôkážte, že v Príklade 10 - časť 2 ide naozaj o podgrupu príslušnej grupy. Prečo prvok $0$ nemôže byť súčasťou grupy $(\\mathbb{Q}\\setminus\\{0\\},\\cdot)$ ?**"
   ]
  },
  {
   "cell_type": "code",
   "execution_count": null,
   "metadata": {},
   "outputs": [],
   "source": []
  },
  {
   "cell_type": "markdown",
   "metadata": {},
   "source": [
    "--- \n",
    "\n",
    "**10. V Príklade 11 - časť 2 ukážte, že $|3_4|=4$, teda že rád prvku $3_4$ je $4$ a v časti 3 overte pomocou Sage, že rád prvku t.j. matice $\\mathbf{A}$ je $6$.** "
   ]
  },
  {
   "cell_type": "code",
   "execution_count": null,
   "metadata": {},
   "outputs": [],
   "source": []
  },
  {
   "cell_type": "markdown",
   "metadata": {},
   "source": [
    "--- \n",
    "\n",
    "**11. Načrtnite Cayleyho tabuľku pre grupu $(H,\\circ)$ z Príkladu 12 a zdôvodnite, že táto štruktúra spĺňa definíciu grupy (tzn. overte platnosť podmienok definície pre $(H,\\circ)$).**"
   ]
  },
  {
   "cell_type": "code",
   "execution_count": null,
   "metadata": {},
   "outputs": [],
   "source": []
  },
  {
   "cell_type": "markdown",
   "metadata": {},
   "source": [
    "---\n",
    "\n",
    "**12. Aké <font color=red> konkrétne </font> otázky máte k náplni študijných materiálov, ktoré by ste chceli na hodine prediskutovať?**"
   ]
  },
  {
   "cell_type": "code",
   "execution_count": null,
   "metadata": {},
   "outputs": [],
   "source": []
  }
 ],
 "metadata": {
  "kernelspec": {
   "display_name": "SageMath 9.2",
   "language": "sage",
   "name": "sagemath"
  },
  "language_info": {
   "codemirror_mode": {
    "name": "ipython",
    "version": 3
   },
   "file_extension": ".py",
   "mimetype": "text/x-python",
   "name": "python",
   "nbconvert_exporter": "python",
   "pygments_lexer": "ipython3",
   "version": "3.7.7"
  }
 },
 "nbformat": 4,
 "nbformat_minor": 2
}
