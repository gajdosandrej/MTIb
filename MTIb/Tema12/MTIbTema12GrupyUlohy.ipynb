{
 "cells": [
  {
   "cell_type": "markdown",
   "metadata": {},
   "source": [
    "**Autor:** Andrej Gajdoš  <br> \n",
    "*[Ústav matematických vied](https://www.upjs.sk/prirodovedecka-fakulta/ustav/umv/), [Prírodovedecká fakulta](https://www.upjs.sk/prirodovedecka-fakulta/), Univerzita Pavla Jozefa Šafárika v Košiciach,* <br> \n",
    "email: [andrej.gajdos@upjs.sk](mailto:andrej.gajdos@upjs.sk)\n",
    "***\n",
    "**_Tento materiál vznikol za podpory grantu VVGS-2021-1758._** \n",
    "***  \n",
    "\n",
    "**<font size=6 color=gold> MTIb: Téma 12 - Grupy: úlohy </font>**"
   ]
  },
  {
   "cell_type": "markdown",
   "metadata": {},
   "source": [
    "--- \n",
    "\n",
    "**1. Ktorá z nasledujúcich binárnych operácií na množine $\\mathbb{Z}$ je asociatívna? Ktorá je komutatívna? Ktorá má identitu?** \n",
    "\n",
    "**$\\clubsuit$ a) Odčítanie $[x,y]\\to x-y$.**\n",
    "\n",
    "**b) Umocňovanie $[x,y]\\to x^y$.** \n",
    "\n",
    "**$\\clubsuit$ c) Binárna operácia $\\ast$ definovaná vzťahom $x\\ast y:=xy-x-y+2$ .**"
   ]
  },
  {
   "cell_type": "code",
   "execution_count": null,
   "metadata": {},
   "outputs": [],
   "source": []
  },
  {
   "cell_type": "markdown",
   "metadata": {},
   "source": [
    "--- \n",
    "\n",
    "**$\\clubsuit$ 2. Ukážte, že množina $\\mathbb{Z}$ spolu s binárnou operáciou $\\diamondsuit$ tvoria grupu, ak definujeme $a\\diamondsuit b=a+b+7$.**\n"
   ]
  },
  {
   "cell_type": "code",
   "execution_count": null,
   "metadata": {},
   "outputs": [],
   "source": []
  },
  {
   "cell_type": "markdown",
   "metadata": {},
   "source": [
    "--- \n",
    "\n",
    "**$\\clubsuit$ 3. Ukážte, že množina $\\mathbb{Z}$ spolu s binárnou operáciou $\\heartsuit$ netvoria grupu, ak $a\\heartsuit b=(a+b)^2$.**"
   ]
  },
  {
   "cell_type": "code",
   "execution_count": null,
   "metadata": {},
   "outputs": [],
   "source": []
  },
  {
   "cell_type": "markdown",
   "metadata": {},
   "source": [
    "--- \n",
    "\n",
    "**4. Majme danú štruktúru $(\\mathbb{R},\\ast)$, kde binárna operácia $\\ast$ je definovaná vzťahom $x\\ast y = (x+y)\\cdot(1+xy)$, $\\forall x,y\\in\\mathbb{R}$. Overte, či je to grupa.** "
   ]
  },
  {
   "cell_type": "code",
   "execution_count": null,
   "metadata": {},
   "outputs": [],
   "source": []
  },
  {
   "cell_type": "markdown",
   "metadata": {},
   "source": [
    "--- \n",
    "\n",
    "**5. Rozhodnite a zdôvodnite, či $\\left(M_2(\\mathbb{Z}),+\\right)$ je grupa. Ak áno, tak či ide o komutatívnu grupu. Množina $M_2(\\mathbb{Z})$ značí množinu všetkých matíc typu $2\\times2$, ktorých prvky sú celé čísla.** "
   ]
  },
  {
   "cell_type": "code",
   "execution_count": null,
   "metadata": {},
   "outputs": [],
   "source": []
  },
  {
   "cell_type": "markdown",
   "metadata": {},
   "source": [
    "---\n",
    "\n",
    "**6. Ktorú vlastnosť grupy nespĺňa $\\left(\\mathbb{Z}_6,\\odot\\right)$ ?** Využite Sage na experimentovanie."
   ]
  },
  {
   "cell_type": "code",
   "execution_count": null,
   "metadata": {},
   "outputs": [],
   "source": []
  },
  {
   "cell_type": "markdown",
   "metadata": {},
   "source": [
    "--- \n",
    "\n",
    "**7. Dokážte, že $\\left(\\mathbb{Z}_3,\\oplus\\right)$ je grupa. Môžeme to isté povedať aj o $\\left(\\mathbb{Z}_3,\\odot\\right)$? Svoju odpoveď zdôvodnite.** "
   ]
  },
  {
   "cell_type": "code",
   "execution_count": null,
   "metadata": {},
   "outputs": [],
   "source": []
  },
  {
   "cell_type": "markdown",
   "metadata": {},
   "source": [
    "--- \n",
    "\n",
    "**8. Ktoré z nasledujúcich štruktúr sú grupy? Zdôvodnite.** \n",
    "\n",
    "**a) $(\\mathbb{Z},-)$.** \n",
    "\n",
    "**b) $(\\mathbb{R},\\ast)$, kde $\\ast$ je binárna operácia definovaná takto: $x\\ast y:=x+y+1$.** \n",
    "\n",
    "**c) $(G,\\diamondsuit)$, pričom $G=\\{1,2,3,4\\}$ a $x\\diamondsuit y$ je definované ako zvyšok čísla $x\\cdot y$ po delení číslom $5$.** \n",
    "\n",
    "**d) $(H,\\heartsuit)$, pričom $H=\\{1,2,3,4,5\\}$ a $x\\heartsuit y$ je definované ako zvyšok čísla $x\\cdot y$ po delení číslom $6$.** \n",
    "\n",
    "**e) $\\left(U(8),\\odot\\right)$.**"
   ]
  },
  {
   "cell_type": "code",
   "execution_count": null,
   "metadata": {},
   "outputs": [],
   "source": []
  },
  {
   "attachments": {
    "rectangle.PNG": {
     "image/png": "[encoded data removed]"
    }
   },
   "cell_type": "markdown",
   "metadata": {},
   "source": [
    "--- \n",
    "\n",
    "**9. Nech $R$ značí obdĺžnik v rovine t.j. množina bodov $\\{[x,y]\\in\\mathbb{R}^2;\\,|x|\\le 2,\\,|y|\\le1\\}$.** \n",
    "\n",
    "![rectangle.PNG](attachment:rectangle.PNG) \n",
    "\n",
    "Existujú presne 4 symetrie odbĺžnika $R$: \n",
    "\n",
    "* Identita $e$ : $[x,y]\\to [x,y]$;  \n",
    "\n",
    "* Osová symetria $h$ podľa horizontálnej osi $x$: $[x,y]\\to [x,-y]$;\n",
    "\n",
    "* Osová symetria $v$ podľa vertikálnej osi $y$: $[x,y]\\to [-x,y]$;\n",
    "\n",
    "* Rotácia $r$ o uhol $\\pi$ okolo počiatku: $[x,y]\\to [-x,-y]$. \n",
    "\n",
    "**Vytvorte Cayleyho tabuľku pre grupu symetrií obdĺžnika $R$. Je táto grupa abelovská? Zdôvodnite.**   "
   ]
  },
  {
   "cell_type": "code",
   "execution_count": null,
   "metadata": {},
   "outputs": [],
   "source": []
  },
  {
   "attachments": {
    "incomplete_cayley_tab.PNG": {
     "image/png": "[encoded data removed]"
    }
   },
   "cell_type": "markdown",
   "metadata": {},
   "source": [
    "---\n",
    "\n",
    "**10. Vyplňte chýbajúce políčka v neúplnej Cayleyho tabuľke grupy.** \n",
    "\n",
    "![incomplete_cayley_tab.PNG](attachment:incomplete_cayley_tab.PNG) \n"
   ]
  },
  {
   "cell_type": "code",
   "execution_count": null,
   "metadata": {},
   "outputs": [],
   "source": []
  },
  {
   "attachments": {
    "ls_not_cayley_tab.PNG": {
     "image/png": "[encoded data removed]"
    }
   },
   "cell_type": "markdown",
   "metadata": {},
   "source": [
    "--- \n",
    "\n",
    "**11. Zdôvodnite, prečo nasledujúci Latinský štvorec odpovedajúci postupnosti prvkov $e,g_1,g_2,g_3,g_4,g_5$, nemôže byť Cayleyho tabuľkou grupy (ukážka, že neplatí opačná implikácia k Tvrdeniu 1).** \n",
    "\n",
    "![ls_not_cayley_tab.PNG](attachment:ls_not_cayley_tab.PNG) \n"
   ]
  },
  {
   "cell_type": "code",
   "execution_count": null,
   "metadata": {},
   "outputs": [],
   "source": []
  },
  {
   "cell_type": "markdown",
   "metadata": {},
   "source": [
    "--- \n",
    "\n",
    "**$\\clubsuit$ 12. Pomocou Cayleyho tabuľky popíšte grupu transformácií generovanú symetriami štvorca.** \n",
    "\n",
    "Poznámka: \n",
    "\n",
    "Vo všeobecnosti vieme, že každý rovnostranný $n$-uholník má práve $2n$ symetrií, $n$ rotácií a $n$ osovo súmerných preklopení. \n",
    "Všetky symetrie pravidelného $n$-uholníka tvoria grupu s $2n$ prvkami. \n",
    "Každej symetrii takéhoto rovnostranného $n$-uholníka prislúcha zodpovedajúca permutácia vrcholov tohto $n$-uholníka. "
   ]
  },
  {
   "cell_type": "code",
   "execution_count": null,
   "metadata": {},
   "outputs": [],
   "source": []
  },
  {
   "attachments": {
    "cayley_tab2.PNG": {
     "image/png": "[encoded data removed]"
    }
   },
   "cell_type": "markdown",
   "metadata": {},
   "source": [
    "--- \n",
    "\n",
    "**$\\clubsuit$ 13. Na základe uvedenej Cayleyho taubľky pre grupu $(G,\\circ)$ vyriešte nasledujúce úlohy:**\n",
    "\n",
    "![cayley_tab2.PNG](attachment:cayley_tab2.PNG)  \n",
    "\n",
    "**a) určte, či je $(G,\\circ)$ komutatívna (abelovská);** \n",
    "\n",
    "**b) určte, či je $(G,\\circ)$ cyklická;** \n",
    "\n",
    "**c) nájdite inverzný prvok k prvku $d$;** \n",
    "\n",
    "**d) nájdite všetky podgrupy veľkosti resp. rádu $2$;** \n",
    "\n",
    "**e) existujú nejaké podgrupy rádu $4$ ?;** \n",
    "\n",
    "**f) nájdite podgrupu veľkosti $3$;**\n",
    "\n",
    "**g) nájdite taký prvok $x$ aby platilo $axc=f$.**"
   ]
  },
  {
   "cell_type": "code",
   "execution_count": null,
   "metadata": {},
   "outputs": [],
   "source": []
  },
  {
   "attachments": {
    "cayley_tab3.PNG": {
     "image/png": "[encoded data removed]"
    }
   },
   "cell_type": "markdown",
   "metadata": {},
   "source": [
    "--- \n",
    "\n",
    "**14. Na základe uvedenej Cayleyho taubľky pre grupu $(G,\\times)$ vyriešte nasledujúce úlohy:**\n",
    "\n",
    "![cayley_tab3.PNG](attachment:cayley_tab3.PNG) \n",
    "\n",
    "**a) Ktorý prvok je identita?** \n",
    "\n",
    "**b) Je grupa komutatívna?** \n",
    "\n",
    "**c) Existuje taký prvok $x\\in G$, pre ktorý platí $x^3=d$ ?** \n"
   ]
  },
  {
   "cell_type": "code",
   "execution_count": null,
   "metadata": {},
   "outputs": [],
   "source": []
  },
  {
   "cell_type": "markdown",
   "metadata": {},
   "source": [
    "--- \n",
    "\n",
    "**15. Nájdite rády všetkých prvkov v grupe $(\\mathbb{Z}_{10},\\oplus)$, kde $\\oplus$ je operácia sčítania zvyškových tried.**\n"
   ]
  },
  {
   "cell_type": "code",
   "execution_count": null,
   "metadata": {},
   "outputs": [],
   "source": []
  },
  {
   "cell_type": "markdown",
   "metadata": {},
   "source": [
    "--- \n",
    "\n",
    "**16. Nech $(G,\\ast)$ je grupa a nech $a\\in G$. Dokážte, že prvky $a$, $a^{-1}$ majú rovnaký rád.** "
   ]
  },
  {
   "cell_type": "code",
   "execution_count": null,
   "metadata": {},
   "outputs": [],
   "source": []
  },
  {
   "cell_type": "markdown",
   "metadata": {},
   "source": [
    "--- \n",
    "\n",
    "**17. Nech $(G,\\ast)$ je grupa a nech $a,b\\in G$. Dokážte, že prvky $ab$, $ba$ majú rovnaký rád.**\n"
   ]
  },
  {
   "cell_type": "code",
   "execution_count": null,
   "metadata": {},
   "outputs": [],
   "source": []
  },
  {
   "cell_type": "markdown",
   "metadata": {},
   "source": [
    "--- \n",
    "\n",
    "**18. Nech $(G,\\ast)$ je grupa a nech $a,b,e\\in G$, prcičom $e$ je identita. Ďalej predpokladajme, že $ab=ba$ a súčasne $a^m=b^n=e$. Dokážte, že $(ab)^{mn}=e$.**\n"
   ]
  },
  {
   "cell_type": "code",
   "execution_count": null,
   "metadata": {},
   "outputs": [],
   "source": []
  },
  {
   "cell_type": "markdown",
   "metadata": {},
   "source": [
    "--- \n",
    "\n",
    "**19. Dokážte, že všetky prvky konečného rádu v nejakej abelovskej grupe tvoria podgrupu.** Využite pri tom poznatky z predošlých úloh (môžete ich považovať za fakty): rád prvku a k nemu inverzného prvku je rovnaký; ak $ab=ba$ a súčasne $a^m=b^n=e$, tak platí $(ab)^{mn}=e$. \n"
   ]
  },
  {
   "cell_type": "code",
   "execution_count": null,
   "metadata": {},
   "outputs": [],
   "source": []
  },
  {
   "cell_type": "markdown",
   "metadata": {},
   "source": [
    "---\n",
    "\n",
    "**20. Ktoré z nasledujúcich zobrazení sú homomorfizmy medzi príslušnými grupami?**  \n",
    "\n",
    "**a) $x\\to\\ln|x|$, z $\\left(\\mathbb{R}\\setminus{},\\times\\right)$ do $(\\mathbb{R},+)$.** \n",
    "\n",
    "**b) $x\\to3x$, z $(\\mathbb{Z},+)$ do $(\\mathbb{Z},+)$.** \n",
    "\n",
    "**c) $[x,y]\\to xy$, z $(\\mathbb{R}^2,+)$ do $(\\mathbb{R},+)$.** \n",
    "\n",
    "**d) $[x,y]\\to x-2y$, z $(\\mathbb{R}^2,+)$ do $(\\mathbb{R},+)$.**\n"
   ]
  },
  {
   "cell_type": "code",
   "execution_count": null,
   "metadata": {},
   "outputs": [],
   "source": []
  },
  {
   "cell_type": "markdown",
   "metadata": {},
   "source": [
    "--- \n",
    "\n",
    "**21. Zistite, či $(\\mathbb{Z}_7\\setminus0_7,\\odot)$ je cyklická grupa, pričom $\\odot$ je operácia násobenia zvyškových tried.** "
   ]
  },
  {
   "cell_type": "code",
   "execution_count": null,
   "metadata": {},
   "outputs": [],
   "source": []
  },
  {
   "cell_type": "markdown",
   "metadata": {},
   "source": [
    "--- \n",
    "\n",
    "**$\\clubsuit$ 22. Nájdite všetky podgrupy grupy $(\\mathbb{Z}_6,\\oplus)$.**"
   ]
  },
  {
   "cell_type": "code",
   "execution_count": null,
   "metadata": {},
   "outputs": [],
   "source": []
  },
  {
   "cell_type": "markdown",
   "metadata": {},
   "source": [
    "---\n",
    "\n",
    "**23. Vysvetlite, prečo každá z nasedujúcich podmnožín množiny celých čísel $\\mathbb{Z}$ nie je podgrupa grupy $(\\mathbb{Z},+)$:** \n",
    "\n",
    "**a) Množina nepárnych celých čísel $\\{2n+1;\\,n\\in\\mathbb{Z}\\}$;** \n",
    "\n",
    "**b) Množina všetkých nezáporných celých čísel $\\{n\\in\\mathbb{Z};\\,n\\ge0\\}$;** \n",
    "\n",
    "**c) Množina $\\{-2,-1,0,1,2\\}$;** \n",
    "\n",
    "**d) prázdna množina.**\n"
   ]
  },
  {
   "cell_type": "code",
   "execution_count": null,
   "metadata": {},
   "outputs": [],
   "source": []
  },
  {
   "cell_type": "markdown",
   "metadata": {},
   "source": [
    "--- \n",
    "\n",
    "**24. Rozhodnite, či množina $H=\\left\\{(1,2,3,4),(1,3,2,4)\\right\\}$ spolu s operáciou skladania permutácií (resp. symetrií) $\\circ$, je podgrupou grupy $(S_4,\\circ)$.**"
   ]
  },
  {
   "cell_type": "code",
   "execution_count": null,
   "metadata": {},
   "outputs": [],
   "source": []
  },
  {
   "cell_type": "markdown",
   "metadata": {},
   "source": [
    "--- \n",
    "\n",
    "**25. Určte rády nasledujúcich grúp:** \n",
    "\n",
    "**a) $(\\mathbb{Z}_5,+)$;** \n",
    "\n",
    "**b) $(\\mathbb{Z},+)$** \n",
    "\n",
    "**c) $S_6$;** \n",
    "\n",
    "**d) $GL(3,\\mathbb{R})$.**"
   ]
  },
  {
   "cell_type": "code",
   "execution_count": null,
   "metadata": {},
   "outputs": [],
   "source": []
  },
  {
   "cell_type": "markdown",
   "metadata": {},
   "source": [
    "---\n",
    "\n",
    "**26. Určte rády nasledujucich prvkov v príslušných grupách:** \n",
    "\n",
    "**a) $2$ v $(\\mathbb{Z}_{10},+)$;** \n",
    "\n",
    "**b) $\\begin{pmatrix}0&-1\\\\ 1&0 \\end{pmatrix}$ v $GL(2,\\mathbb{R})$;** \n",
    "\n",
    "**c) identický prvok $e_G$ v ľubovoľnej grupe $G$;** \n",
    "\n",
    "**d) $\\pi$ v $(\\mathbb{R},+)$.**"
   ]
  },
  {
   "cell_type": "code",
   "execution_count": null,
   "metadata": {},
   "outputs": [],
   "source": []
  },
  {
   "cell_type": "markdown",
   "metadata": {},
   "source": [
    "--- \n",
    "\n",
    "**27. Nech $(G,\\ast)$ je grupa a nech $a\\in G$ je taký prvok, že $|a|=18$. Aký je rád prvku $a^2$ ? Aký je inverzný prvok k prvku $a^9$ ?**\n"
   ]
  },
  {
   "cell_type": "code",
   "execution_count": null,
   "metadata": {},
   "outputs": [],
   "source": []
  },
  {
   "cell_type": "markdown",
   "metadata": {},
   "source": [
    "--- \n",
    "\n",
    "**28. Nech $(G,\\ast)$ je konečná grupa kde $|G|=n$. Dokážte (s využitím Lagrangeovej vety), že pre ľubovoľný prvok $a\\in G$ platí $a^n=e$.**"
   ]
  },
  {
   "cell_type": "code",
   "execution_count": null,
   "metadata": {},
   "outputs": [],
   "source": []
  },
  {
   "cell_type": "markdown",
   "metadata": {},
   "source": [
    "--- \n",
    "\n",
    "**29. Vytvorte Cayleyho tabuľku pre $U(5)$ a $U(8)$, pričom za binárnu operáciu vezmite násobenie pri príslušnom module.** "
   ]
  },
  {
   "cell_type": "code",
   "execution_count": null,
   "metadata": {},
   "outputs": [],
   "source": []
  },
  {
   "cell_type": "markdown",
   "metadata": {},
   "source": [
    "--- \n",
    "\n",
    "**30. Ukážte, že $U(5)$, $U(8)$ a $U(12)$ majú po 4 prvky. Ďalej zdôvodnite, že $U(5)$ má prvok rádu $4$ ale $U(8)$ a $U(12)$ taký prvok nemajú.** "
   ]
  },
  {
   "cell_type": "code",
   "execution_count": null,
   "metadata": {},
   "outputs": [],
   "source": []
  },
  {
   "cell_type": "markdown",
   "metadata": {},
   "source": [
    "--- \n",
    "\n",
    "**$\\clubsuit$ 31. Nech $G$ je grupa so 4 prvkami. Dokážte, že v nej nemôžu byť tri prvky rádu $4$.** "
   ]
  },
  {
   "cell_type": "code",
   "execution_count": null,
   "metadata": {},
   "outputs": [],
   "source": []
  },
  {
   "cell_type": "markdown",
   "metadata": {},
   "source": [
    "---\n",
    "\n",
    "**32. Určte podgrupu grupy $(\\mathbb{Z}_{12},+)$ generovanú množinou:** \n",
    "\n",
    "**a) $\\{2,9\\}$;** \n",
    "\n",
    "**b) $\\{4,6,8\\}$.**\n",
    "\n",
    "Podgrupa grupy $(G,\\ast)$ generovaná množinou $M$ je najmenšia grupa $(M,\\ast)$ taká, ktorá obsahuje množinu $M$.  "
   ]
  },
  {
   "cell_type": "code",
   "execution_count": null,
   "metadata": {},
   "outputs": [],
   "source": []
  },
  {
   "cell_type": "markdown",
   "metadata": {},
   "source": [
    "--- \n",
    "\n",
    "**$\\clubsuit$ 33. Majme dané dve permutácie: $\\pi=(2,3,1,6,4,5)$, $\\sigma=(1,3,6,4,2,5)$.** \n",
    "\n",
    "**a) Určte $\\pi\\circ\\sigma$ a $\\sigma\\circ\\pi$.** \n",
    "\n",
    "**b) Určte $\\pi^{-1}$, $\\sigma^{-1}$.** \n",
    "\n",
    "**c) Určte rád pre $\\pi$ a $\\sigma$.** \n",
    "\n",
    "**d) Určte $\\pi^{22}$.** \n",
    "\n",
    "**e) Určte počet inverzií v $\\pi$ aj v $\\sigma$.**"
   ]
  },
  {
   "cell_type": "code",
   "execution_count": null,
   "metadata": {},
   "outputs": [],
   "source": []
  },
  {
   "cell_type": "markdown",
   "metadata": {},
   "source": [
    "---\n",
    "\n",
    "**$\\clubsuit$ 34. Ktorú vlastnosť poľa nespĺňa $\\left(\\mathbb{Z}_4,\\oplus,\\odot\\right)$ ?** Využite Sage na experimentovanie. "
   ]
  },
  {
   "cell_type": "code",
   "execution_count": null,
   "metadata": {},
   "outputs": [],
   "source": []
  },
  {
   "cell_type": "markdown",
   "metadata": {},
   "source": [
    "---\n",
    "\n",
    "**35. Dokážte, že $\\left(\\mathbb{Z}_3,\\oplus,\\odot\\right)$ je pole.**"
   ]
  },
  {
   "cell_type": "code",
   "execution_count": null,
   "metadata": {},
   "outputs": [],
   "source": []
  }
 ],
 "metadata": {
  "kernelspec": {
   "display_name": "SageMath 9.2",
   "language": "sage",
   "name": "sagemath"
  },
  "language_info": {
   "codemirror_mode": {
    "name": "ipython",
    "version": 3
   },
   "file_extension": ".py",
   "mimetype": "text/x-python",
   "name": "python",
   "nbconvert_exporter": "python",
   "pygments_lexer": "ipython3",
   "version": "3.7.7"
  }
 },
 "nbformat": 4,
 "nbformat_minor": 2
}
