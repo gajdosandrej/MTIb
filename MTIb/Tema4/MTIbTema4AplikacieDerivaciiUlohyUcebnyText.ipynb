{
 "cells": [
  {
   "cell_type": "markdown",
   "metadata": {},
   "source": [
    "**Author:** Andrej Gajdoš  <br> *[Faculty of Science](https://www.upjs.sk/en/faculty-of-science/?prefferedLang=EN), P. J. Šafárik University in Košice, Slovakia* <br> email: [andrej.gajdos@upjs.sk](mailto:andrej.gajdos@upjs.sk)\n",
    "*** \n",
    "**_Tento materiál vznikol za podpory grantu VVGS-2021-1758._** \n",
    "***\n",
    "\n",
    "**<font size=6 color=green> MTIb: Téma 4 - Aplikácie derivácií funkcií: úlohy k učebnému textu </font>**"
   ]
  },
  {
   "cell_type": "markdown",
   "metadata": {},
   "source": [
    "--- \n",
    "\n",
    "**1. Prečo platí $\\lim_{x\\to\\infty}\\sqrt{1-\\frac1{x^2}}=\\sqrt1$ ? Je to časť výpočtu v Poznámke 2. Pomôžte si tvrdeniami o limitách z predchádzajúcich tém.**"
   ]
  },
  {
   "cell_type": "code",
   "execution_count": null,
   "metadata": {},
   "outputs": [],
   "source": []
  },
  {
   "cell_type": "markdown",
   "metadata": {},
   "source": [
    "--- \n",
    "\n",
    "**2. Prečo platí vzťah $\\lim\\limits_{x\\to0^+}e^{x\\ln x}=e^{\\lim\\limits_{x\\to0^+}x\\ln x}$, ktorý sa využil v Príklade 3? Pomôžte si tvrdeniami o limitách a spojitosti z predchádzajúcich tém.**"
   ]
  },
  {
   "cell_type": "code",
   "execution_count": null,
   "metadata": {},
   "outputs": [],
   "source": []
  },
  {
   "cell_type": "markdown",
   "metadata": {},
   "source": [
    "--- \n",
    "\n",
    "**3. Ilustrujte Dôsledok 1 na konkrétnom príklade funkcie. Všimnite si, že ide o dve implikácie! Ilustrujte a popíšte obe. Na výpočty a vizualizáciu funkcie môžete použiť Sage.**"
   ]
  },
  {
   "cell_type": "code",
   "execution_count": null,
   "metadata": {},
   "outputs": [],
   "source": []
  },
  {
   "cell_type": "markdown",
   "metadata": {},
   "source": [
    "--- \n",
    "\n",
    "**4. Aplikujte Tvrdenie 5 na funkcie $f(x)=x^2$, $g(x)=-x^2$, pričom zvoľte bod $x_0=0$ a za okolie tohto bodu vezmite napr. interval $(-1,1)$. Pomôžte si grafmi uvedených funkcií, ktoré sú znázornené pod Tvrdením 5. Postup riadne okomentujte.**"
   ]
  },
  {
   "cell_type": "code",
   "execution_count": null,
   "metadata": {},
   "outputs": [],
   "source": []
  },
  {
   "cell_type": "markdown",
   "metadata": {},
   "source": [
    "--- \n",
    "\n",
    "**5. Ilustrujte Tvrdenie 7 na konkrétnom príklade funkcie. Na výpočty môžete použiť Sage.**"
   ]
  },
  {
   "cell_type": "code",
   "execution_count": null,
   "metadata": {},
   "outputs": [],
   "source": []
  },
  {
   "cell_type": "markdown",
   "metadata": {},
   "source": [
    "---\n",
    "\n",
    "**6. Využite Tvrdenie 5 i Sage a pre úplnosť overte, že v bode $\\theta=\\frac{\\pi}{4}$ v Príklade 13 je naozaj lokálne maximum.**  \n"
   ]
  },
  {
   "cell_type": "code",
   "execution_count": null,
   "metadata": {},
   "outputs": [],
   "source": []
  },
  {
   "cell_type": "markdown",
   "metadata": {},
   "source": [
    "---\n",
    "\n",
    "**7. Aplikáciou Tvrdenia 5 v Príklade 14 pre úplnosť overte, že v bode $r=1.85$ je lokálne minimum.**"
   ]
  },
  {
   "cell_type": "code",
   "execution_count": null,
   "metadata": {},
   "outputs": [],
   "source": []
  },
  {
   "cell_type": "markdown",
   "metadata": {},
   "source": [
    "--- \n",
    "\n",
    "**8. Aké <span style=\"color:red\"> konkrétne </span> otázky máte k náplni študijných materiálov, ktoré by ste chceli na hodine prediskutovať?** "
   ]
  },
  {
   "cell_type": "code",
   "execution_count": null,
   "metadata": {},
   "outputs": [],
   "source": []
  }
 ],
 "metadata": {
  "kernelspec": {
   "display_name": "SageMath 9.0",
   "language": "sage",
   "name": "sagemath"
  },
  "language_info": {
   "codemirror_mode": {
    "name": "ipython",
    "version": 3
   },
   "file_extension": ".py",
   "mimetype": "text/x-python",
   "name": "python",
   "nbconvert_exporter": "python",
   "pygments_lexer": "ipython3",
   "version": "3.7.3"
  }
 },
 "nbformat": 4,
 "nbformat_minor": 2
}
