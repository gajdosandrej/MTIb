{
 "cells": [
  {
   "cell_type": "markdown",
   "metadata": {},
   "source": [
    "**Autor:** Andrej Gajdoš  <br> \n",
    "*[Ústav matematických vied](https://www.upjs.sk/prirodovedecka-fakulta/ustav/umv/), [Prírodovedecká fakulta](https://www.upjs.sk/prirodovedecka-fakulta/), Univerzita Pavla Jozefa Šafárika v Košiciach,* <br> \n",
    "email: [andrej.gajdos@upjs.sk](mailto:andrej.gajdos@upjs.sk)\n",
    "*** \n",
    "**_Tento materiál vznikol za podpory grantu VVGS-2021-1758._** \n",
    "*** \n",
    "\n",
    "**<font size=6 color=green> MTIb: Téma 8 - Určitý integrál II.: študijné inštrukcie </font>**  "
   ]
  },
  {
   "cell_type": "markdown",
   "metadata": {},
   "source": [
    "***\n",
    "<a id=motivacia></a>\n",
    "# <font color=brown> Motivácia</font>"
   ]
  },
  {
   "attachments": {
    "area.gif": {
     "image/gif": "[encoded data removed]"
    },
    "curve_length.gif": {
     "image/gif": "[encoded data removed]"
    },
    "volume.jpg": {
     "image/jpeg": "[encoded data removed]"
    }
   },
   "cell_type": "markdown",
   "metadata": {},
   "source": [
    "\n",
    "![curve_length.gif](attachment:curve_length.gif) \n",
    "\n",
    "V rámci témy 8 nadviažeme na poznatky z témy 7 a ukážeme si ako využiť **určité integrály** pri **výpočte dĺžok kriviek**, pri **výpočte obsahov plôch** vymedzených grafmi funkcií a tiež ako nám **integrály** pomôžu pri **výpočte objemov rotačných \n",
    "telies**. Samozrejme, **aplikácie určitých integrálov** presahujú aj do iných oblastí ako napr. fyzika či ekonómia. \n",
    "\n",
    "![volume.jpg](attachment:volume.jpg) \n",
    "\n",
    "V druhej časti učebného textu sa ešte pozrieme na tzv. **nevlastné integrály**. Jedná sa o výpočet takých **určitých integrálov**, kde horná a/alebo dolná integračná hranica sú rovné hodnote plus resp. mínus nekonečno. Ďalší typ **nevlastného integrálu** je taký, že interval, na ktorom sa integruje je konečnej dĺžky, no integrand \"ubieha\" do nekonečna v blízkosti hornej a/alebo dolnej integračnej hranice. Aj tieto typy **integrálov** majú v praxi svoje miesto, a preto si ukážeme ako ich vypočítať alebo aspoň určiť, či ich hodnota je (konečné) reálne číslo. \n",
    "\n",
    "![area.gif](attachment:area.gif) \n"
   ]
  },
  {
   "cell_type": "markdown",
   "metadata": {},
   "source": [
    "***\n",
    "<a id=ciele></a>\n",
    "# <font color=brown> Učebné ciele</font>"
   ]
  },
  {
   "cell_type": "markdown",
   "metadata": {},
   "source": [
    "### Základné \n",
    "\n",
    "\n",
    "* Oboznámiť sa s metódami výpočtu obsahov, objemov a dĺžok kriviek pomocou určitých integrálov. \n",
    "\n",
    "\n",
    "* Naučiť sa využívať Sage pri kreslení obrázkov pre získanie lepšej predstavy o oblastiach (plochách), objemoch a krivkách. \n",
    "\n",
    "\n",
    "* Oboznámiť sa so základnými typmi nevlastných integrálov a spôsobom ich výpočtu. "
   ]
  },
  {
   "cell_type": "markdown",
   "metadata": {},
   "source": [
    "### Pokročilé \n",
    "\n",
    "\n",
    "* Vedieť vypočítať (pomocou určitého integrálu) obsah plochy vymedzenej grafmi funkcií. \n",
    "\n",
    "\n",
    "* Určiť (pomocou určitého integrálu) objem rotačného telesa. \n",
    "\n",
    "\n",
    "* Vypočítať (pomocou určitého integrálu) dĺžku krivky, ktorá je daná predpisom funkcie. \n",
    "\n",
    "\n",
    "* Určiť, či nevlastný integrál konverguje alebo diverguje (aj využitím porovnávacieho kritéria) a v niektorých prípadoch tiež určiť, k akej hodnote zadaný nevlastný integrál konverguje. "
   ]
  },
  {
   "cell_type": "markdown",
   "metadata": {},
   "source": [
    "***\n",
    "<a id=zdroje></a>\n",
    "# <font color=brown> Zdroje k štúdiu</font>"
   ]
  },
  {
   "cell_type": "markdown",
   "metadata": {},
   "source": [
    "### Primárne\n",
    "(povinné)\n",
    "\n",
    "\n",
    "* Jupyter Notebook: *MTIbTema8UrcityIntegral2.ipynb*; \n",
    "    "
   ]
  },
  {
   "cell_type": "markdown",
   "metadata": {},
   "source": [
    "### Sekundárne\n",
    "(doplňujúce)\n",
    "\n",
    "\n",
    "* Video: \n",
    "    \n",
    "    * [Výpočet plochy pod krivkou](https://www.youtube.com/watch?v=XkPKqDZ3KGM&list=PLD-MTmOzXT5Nv58cFPbmNW1gPxiCmqODJ&index=33&ab_channel=Isibalo) (10:09); \n",
    "    \n",
    "    * [Plocha pod krivkou a nad krivkou](https://www.youtube.com/watch?v=UrgQE9Z6ghM&list=PLD-MTmOzXT5Nv58cFPbmNW1gPxiCmqODJ&index=34&ab_channel=Isibalo) (23:26); \n",
    "    \n",
    "    * [Plocha pod rôznymi krivkami](https://www.youtube.com/watch?v=uYglMOiUsZM&list=PLD-MTmOzXT5Nv58cFPbmNW1gPxiCmqODJ&index=35&ab_channel=Isibalo) (6:54); \n",
    "    \n",
    "    * [Plocha medzi krivkami](https://www.youtube.com/watch?v=bankdlATF00&list=PLD-MTmOzXT5Nv58cFPbmNW1gPxiCmqODJ&index=36&ab_channel=Isibalo) (12:50); \n",
    "    \n",
    "    * [Objemy rotačných telies](https://www.youtube.com/watch?v=pljci7C46Oc&list=PLD-MTmOzXT5Nv58cFPbmNW1gPxiCmqODJ&index=37&ab_channel=Isibalo) (19:10); \n",
    "    \n",
    "    * [Úvod k nevlastnému integrálu](https://www.youtube.com/watch?v=Q14Jc5pCrh0&list=PLD-MTmOzXT5Nv58cFPbmNW1gPxiCmqODJ&index=38&ab_channel=Isibalo) (5:16); \n",
    "    \n",
    "    * [Integrály na neuzavretom intervale](https://www.youtube.com/watch?v=Je4wx4M-1jY&list=PLD-MTmOzXT5Nv58cFPbmNW1gPxiCmqODJ&index=39&ab_channel=Isibalo) (14:56); \n",
    "  \n",
    "    * [Vety, nutná podmienka a ich využitie](https://www.youtube.com/watch?v=W4qcutAZVZc&list=PLD-MTmOzXT5Nv58cFPbmNW1gPxiCmqODJ&index=40&ab_channel=Isibalo) (7:47); \n",
    "    \n",
    "    * [Nevlastné integrály z neohraničených funkcií](https://www.youtube.com/watch?v=zx28NUEKjVU&list=PLD-MTmOzXT5Nv58cFPbmNW1gPxiCmqODJ&index=41&ab_channel=Isibalo) (16:46); \n",
    "  \n",
    "    * [Zhrnutie a doplnenie](https://www.youtube.com/watch?v=2-RsRQcH6UY&list=PLD-MTmOzXT5Nv58cFPbmNW1gPxiCmqODJ&index=42&ab_channel=Isibalo) (10:48);\n",
    "    \n",
    "    \n",
    "    \n",
    "* [Prednáška](https://umv.science.upjs.sk/madaras/MZIb/MZIb_3.pdf) z predošlých rokov; \n",
    "\n",
    "\n",
    "* Vlastné zdroje (ak nejaké zaujímavé nájdete, nezabudnite ich zdieľať ako príspevok k danej téme v Google triede). "
   ]
  },
  {
   "cell_type": "markdown",
   "metadata": {},
   "source": [
    "***\n",
    "<a id=ulohy></a>\n",
    "# <font color=brown> Úlohy k učebnému textu</font>"
   ]
  },
  {
   "cell_type": "markdown",
   "metadata": {},
   "source": [
    "1. Vypočítajte približne dĺžku krivky danú grafom funkcie $y=\\sin x$ na intervale $\\langle 0,\\pi \\rangle$ tak, ako je to popísané v učebnom texte - t.j. rozdeľte interval $\\langle 0,\\pi \\rangle$ na štyri podintervaly rovnakej dĺžky a ukážte, ako sa dopracovať k odhadu $3.79$ pre dĺžku krivky. "
   ]
  },
  {
   "cell_type": "markdown",
   "metadata": {},
   "source": [
    "2. Vypočítajte presnú dĺžku krivky danú grafom funkcie $y=\\sin x$ na intervale $\\langle 0,\\pi \\rangle$. "
   ]
  },
  {
   "cell_type": "markdown",
   "metadata": {},
   "source": [
    "3. Zdôvodnite (dokážte), prečo  $\\lim\\limits_{b\\to2^-}\\left(-\\dfrac{1}{b-2}-\\dfrac{1}{2}\\right)$ z Príkladu 10  neexistuje (prečo neexistuje vlastná limita). "
   ]
  },
  {
   "cell_type": "markdown",
   "metadata": {},
   "source": [
    "4. Zdôvodnite (dokážte), prečo  $\\lim\\limits_{a\\to0^+}\\left(-\\dfrac{1}{3}\\right)\\left(\\dfrac{1}{8}-\\dfrac{1}{a^3}\\right)$ z Príkladu ??  neexistuje (prečo neexistuje vlastná limita). "
   ]
  },
  {
   "cell_type": "markdown",
   "metadata": {},
   "source": [
    "5. Ukážte, že $\\displaystyle\\int_{-1}^{0}\\dfrac{1}{x^4}\\,\\mathrm{d}x$ z Príkladu 11 diverguje. "
   ]
  },
  {
   "cell_type": "markdown",
   "metadata": {},
   "source": [
    "6. Vymyslite konkrétny príklad nevlastného integrálu tak, aby odpovedal situácii popísanej v Poznámke 3. Skúste tiež vyšetriť konvergenciu takého integrálu (pomôžte si výpočtami v Sage). "
   ]
  },
  {
   "cell_type": "markdown",
   "metadata": {},
   "source": [
    "7. Aké **konkrétne** otázky máte k náplni študijných materiálov, ktoré by ste chceli na hodine prediskutovať?"
   ]
  },
  {
   "cell_type": "markdown",
   "metadata": {},
   "source": [
    "***\n",
    "<a id=instrukcie></a>\n",
    "# <font color=brown> Inštrukcie k odovzdaniu úloh</font>"
   ]
  },
  {
   "cell_type": "markdown",
   "metadata": {},
   "source": [
    "Úlohy uvedené vyššie resp. v *MTIbTema8UrcityIntegral2UlohyUcebnyText.ipynb* (viď zadanie Téma 8 - Úlohy k učebnému textu v Google triede) je potrebné v stanovenom termíne samostatne vyriešiť a odovzdať v Google triede. Ďalšie pokyny k odovzdaniu sú uvedené priamo v Google triede.  \n",
    "  \n",
    "Úlohy je potrebné **vypracovať samostatne**! Prípadné konzultácie k téme s vyučújúcim alebo s ostatnými kolegami - spolužiakmi (napr. v rámci Google triedy) nie sú vylúčené (sú dokonca žiadúce), avšak vypracovanie stanovených úloh má byť samostatná práca študenta, aby študent i vyučujúci zistili, ako sú zvládnuté základy resp. primárne ciele danej témy. **Tieto úlohy (k učebnému textu) sú povinné**, nie však bodované. Zistené nedostatky, ťažkosti či slabšie miesta by mali poslúžiť pre ďalší rozvoj, jednak z iniciatívy samotného študenta ale budú tiež zaradené do vyučovacieho procesu v rámci spoločnej výučby, kde budú následne prediskutované a objasnené. Vaše riešenia a postrehy môžu tiež veľkou mierou prispieť k skvalitneniu interaktívnych učebných textov. Zistené  plagiátorstvo či podozrenia z porušovania pravidiel pri vypracovaní úloh, môžu mať negatívny dopad v ďalšom hodnotení v rámci predmetu MTIb. \n",
    "\n",
    "Veľa zdaru pri riešení úloh!\n"
   ]
  }
 ],
 "metadata": {
  "kernelspec": {
   "display_name": "SageMath 9.1",
   "language": "sage",
   "name": "sagemath"
  },
  "language_info": {
   "codemirror_mode": {
    "name": "ipython",
    "version": 3
   },
   "file_extension": ".py",
   "mimetype": "text/x-python",
   "name": "python",
   "nbconvert_exporter": "python",
   "pygments_lexer": "ipython3",
   "version": "3.7.3"
  }
 },
 "nbformat": 4,
 "nbformat_minor": 2
}
