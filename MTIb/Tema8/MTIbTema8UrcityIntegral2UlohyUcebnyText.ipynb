{
 "cells": [
  {
   "cell_type": "markdown",
   "metadata": {},
   "source": [
    "**Autor:** Andrej Gajdoš  <br> \n",
    "*[Ústav matematických vied](https://www.upjs.sk/prirodovedecka-fakulta/ustav/umv/), [Prírodovedecká fakulta](https://www.upjs.sk/prirodovedecka-fakulta/), Univerzita Pavla Jozefa Šafárika v Košiciach,* <br> \n",
    "email: [andrej.gajdos@upjs.sk](mailto:andrej.gajdos@upjs.sk)\n",
    "*** \n",
    "**_Tento materiál vznikol za podpory grantu VVGS-2021-1758._** \n",
    "*** \n",
    "\n",
    "**<font size=6 color=green> MTIb: Téma 8 - Určitý integrál II.: úlohy k učebnému textu </font>**   "
   ]
  },
  {
   "cell_type": "markdown",
   "metadata": {},
   "source": [
    "--- \n",
    "\n",
    "**1. Vypočítajte približne dĺžku krivky danú grafom funkcie $y=\\sin x$ na intervale $\\langle 0,\\pi \\rangle$ tak, ako je to popísané v učebnom texte - t.j. rozdeľte interval $\\langle 0,\\pi \\rangle$ na štyri podintervaly rovnakej dĺžky a ukážte, ako sa dopracovať k odhadu $3.79$ pre dĺžku krivky.** "
   ]
  },
  {
   "cell_type": "code",
   "execution_count": null,
   "metadata": {},
   "outputs": [],
   "source": []
  },
  {
   "cell_type": "markdown",
   "metadata": {},
   "source": [
    "--- \n",
    "\n",
    "**2. Vypočítajte presnú dĺžku krivky danú grafom funkcie $y=\\sin x$ na intervale $\\langle 0,\\pi \\rangle$.**"
   ]
  },
  {
   "cell_type": "code",
   "execution_count": null,
   "metadata": {},
   "outputs": [],
   "source": []
  },
  {
   "cell_type": "markdown",
   "metadata": {},
   "source": [
    "--- \n",
    "\n",
    "**3. Zdôvodnite (dokážte), prečo  $\\lim\\limits_{b\\to2^-}\\left(-\\dfrac{1}{b-2}-\\dfrac{1}{2}\\right)$ z Príkladu 10  neexistuje (prečo neexistuje vlastná limita).** "
   ]
  },
  {
   "cell_type": "code",
   "execution_count": null,
   "metadata": {},
   "outputs": [],
   "source": []
  },
  {
   "cell_type": "markdown",
   "metadata": {},
   "source": [
    "--- \n",
    "\n",
    "**4. Zdôvodnite (dokážte), prečo  $\\lim\\limits_{a\\to0^+}\\left(-\\dfrac{1}{3}\\right)\\left(\\dfrac{1}{8}-\\dfrac{1}{a^3}\\right)$ z Príkladu 11  neexistuje (prečo neexistuje vlastná limita).**"
   ]
  },
  {
   "cell_type": "code",
   "execution_count": null,
   "metadata": {},
   "outputs": [],
   "source": []
  },
  {
   "cell_type": "markdown",
   "metadata": {},
   "source": [
    "--- \n",
    "\n",
    "**5. Ukážte, že $\\displaystyle\\int_{-1}^{0}\\dfrac{1}{x^4}\\,\\mathrm{d}x$ z Príkladu 11 diverguje.**"
   ]
  },
  {
   "cell_type": "code",
   "execution_count": null,
   "metadata": {},
   "outputs": [],
   "source": []
  },
  {
   "cell_type": "markdown",
   "metadata": {},
   "source": [
    "--- \n",
    "\n",
    "**6. Vymyslite konkrétny príklad nevlastného integrálu tak, aby odpovedal situácii popísanej v Poznámke 3. Skúste tiež vyšetriť konvergenciu takého integrálu (pomôžte si výpočtami v Sage).**"
   ]
  },
  {
   "cell_type": "code",
   "execution_count": null,
   "metadata": {},
   "outputs": [],
   "source": []
  },
  {
   "cell_type": "markdown",
   "metadata": {},
   "source": [
    "--- \n",
    "\n",
    "**7. Aké <span style=\"color:red\"> konkrétne </span> otázky máte k náplni študijných materiálov, ktoré by ste chceli na hodine prediskutovať?**"
   ]
  },
  {
   "cell_type": "code",
   "execution_count": null,
   "metadata": {},
   "outputs": [],
   "source": []
  }
 ],
 "metadata": {
  "kernelspec": {
   "display_name": "SageMath 9.0",
   "language": "sage",
   "name": "sagemath"
  },
  "language_info": {
   "codemirror_mode": {
    "name": "ipython",
    "version": 3
   },
   "file_extension": ".py",
   "mimetype": "text/x-python",
   "name": "python",
   "nbconvert_exporter": "python",
   "pygments_lexer": "ipython3",
   "version": "3.7.3"
  }
 },
 "nbformat": 4,
 "nbformat_minor": 2
}
