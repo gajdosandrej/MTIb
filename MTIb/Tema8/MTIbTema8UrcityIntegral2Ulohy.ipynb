{
 "cells": [
  {
   "cell_type": "markdown",
   "metadata": {},
   "source": [
    "**Autor:** Andrej Gajdoš  <br> \n",
    "*[Ústav matematických vied](https://www.upjs.sk/prirodovedecka-fakulta/ustav/umv/), [Prírodovedecká fakulta](https://www.upjs.sk/prirodovedecka-fakulta/), Univerzita Pavla Jozefa Šafárika v Košiciach,* <br> \n",
    "email: [andrej.gajdos@upjs.sk](mailto:andrej.gajdos@upjs.sk)\n",
    "*** \n",
    "**_Tento materiál vznikol za podpory grantu VVGS-2021-1758._** \n",
    "*** \n",
    "\n",
    "**<font size=6 color=green> MTIb: Téma 8 - Určitý integrál II.: úlohy </font>**   "
   ]
  },
  {
   "cell_type": "markdown",
   "metadata": {},
   "source": [
    "--- \n",
    "\n",
    "**1. Nájdite obsah roviny ohraničenej krivkami:** \n",
    "\n",
    "$$\\text{a) } y=x,\\ y=\\frac{x}{2},\\ x=4; \\qquad \\text{b) } y=x^2+2x-3,\\ y=0; \\qquad \\text{c) } y=x^2+2x,\\ y=x+2; \\qquad \\text{d) } y=x^2,\\ y=\\frac{x^2}{4},\\ y=4;$$ \n",
    "\n",
    "\n",
    "$$\\text{e) } y=\\mathrm{e}^{2x},\\ y=1-x,\\ x=1; \\qquad \\text{f) } y=x^2-x-6,\\ y=-x^2+5x+14; \\qquad \\text{g) } y=3,\\ y=7-x,\\ x=1;$$\n",
    "\n",
    "\n",
    "$$\\text{h) } y=x^2,\\ y=-x^2,\\ x=4; \\qquad \\text{i) } y=x^2,\\ y^2=x; \\qquad \\text{j) } y=\\mathrm{e}^x,\\ y=\\mathrm{e}^{-x},\\ x=\\ln 2.$$\n"
   ]
  },
  {
   "cell_type": "code",
   "execution_count": null,
   "metadata": {},
   "outputs": [],
   "source": []
  },
  {
   "cell_type": "markdown",
   "metadata": {},
   "source": [
    "--- \n",
    "\n",
    "**2. Nájdite objem rotačného telesa, ktoré vznikne otáčaním útvaru ohraničeného danými krivkami okolo osi $x$:**\n",
    "\n",
    "$$\\text{a) } y=x,\\ y=3x,\\ x=2; \\qquad \\text{b) } y=x^2,\\ 2x+y-3=0; \\qquad \\text{c) } y=x^2+2,\\ y=2x^2+1;$$\n",
    "\n",
    "$$\\text{d) } y=\\frac{x^2}{4},\\ y=1; \\qquad \\text{e) } y=\\ln x,\\ x=\\mathrm{e}; \\qquad \\text{f) } y=x^2-4x+7,\\ y=1+4x-x^2.$$\n"
   ]
  },
  {
   "cell_type": "code",
   "execution_count": null,
   "metadata": {},
   "outputs": [],
   "source": []
  },
  {
   "cell_type": "markdown",
   "metadata": {},
   "source": [
    "---\n",
    "\n",
    "**3. Vypočítajte dĺžku danej krivky na uvedenom intervale:** \n",
    "\n",
    "$$\\text{a) } y=2x+1,\\ x\\in [0,1]; \\qquad \\text{b) } y=\\sqrt{4-x^2},\\ x\\in [0,1]; \\qquad \\text{c) } y=\\frac{1}{3}(x^2+2)^{\\frac{3}{2}},\\ x\\in [0,3]; \\qquad \\text{d) } y=\\ln x,\\ x\\in [\\sqrt{3},\\sqrt{8}].$$\n",
    " "
   ]
  },
  {
   "cell_type": "code",
   "execution_count": null,
   "metadata": {},
   "outputs": [],
   "source": []
  },
  {
   "cell_type": "markdown",
   "metadata": {},
   "source": [
    "---\n",
    "\n",
    "**4. Vyšetrite konvergenciu nevlastných integrálov. V prípade, že integrál konverguje, určte tiež k akej hodnote:**\n",
    "\n",
    "$$\\text{a) } \\displaystyle\\int_{1}^{\\infty}\\frac{1}{5x+2}\\,\\mathrm{d}x; \\qquad \\text{b) } \\displaystyle\\int_{1}^{\\infty}\\frac{1}{(x+2)^2}\\,\\mathrm{d}x; \\qquad \\text{c) } \\displaystyle\\int_{0}^{1}\\ln x\\,\\mathrm{d}x; \\qquad \\text{d) } \\displaystyle\\int_{0}^{\\infty}e^{-\\sqrt{x}}\\,\\mathrm{d}x; \\qquad \\text{e) } \\displaystyle\\int_{0}^{\\infty}xe^{-x^2}\\,\\mathrm{d}x;$$\n",
    "\n",
    "$$\\text{f) } \\displaystyle\\int_{1}^{\\infty}e^{-2x}\\,\\mathrm{d}x; \\qquad \\text{g) } \\displaystyle\\int_{0}^{\\infty}\\frac{x}{e^x}\\,\\mathrm{d}x; \\qquad \\text{h) } \\displaystyle\\int_{1}^{\\infty}\\frac{x}{4+x^2}\\,\\mathrm{d}x; \\qquad \\text{i) } \\displaystyle\\int_{\\pi/4}^{\\pi/2}\\frac{\\sin x}{\\sqrt{\\cos x}}\\,\\mathrm{d}x; \\qquad \\text{j) } \\displaystyle\\int_{0}^{1}\\frac{x^4+1}{x}\\,\\mathrm{d}x;$$ \n",
    "\n",
    "$$\\text{k) } \\displaystyle\\int_{1}^{\\infty}\\frac{1}{\\sqrt{x^2+1}}\\,\\mathrm{d}x; \\qquad \\text{l) } \\displaystyle\\int_{2}^{\\infty}\\frac{1}{x\\ln x}\\,\\mathrm{d}x; \\qquad \\text{m) } \\displaystyle\\int_{0}^{1}\\frac{\\ln x}{x}\\,\\mathrm{d}x; \\qquad \\text{n) } \\displaystyle\\int_{4}^{\\infty}\\frac{\\mathrm{d}x}{\\sqrt{4-x^2}}\\,\\mathrm{d}x; \\qquad \\text{o) } \\displaystyle\\int_{4}^{\\infty}\\frac{\\mathrm{d}x}{x^2-1}\\,\\mathrm{d}x.$$ "
   ]
  },
  {
   "cell_type": "code",
   "execution_count": null,
   "metadata": {},
   "outputs": [],
   "source": []
  },
  {
   "cell_type": "markdown",
   "metadata": {},
   "source": [
    "--- \n",
    "\n",
    "**5. Aplikovaním porovnávacieho kritéria vyšetrite konvergenciu nevlastných integrálov:** \n",
    "\n",
    "$$\\text{a) } \\displaystyle\\int_{1}^{\\infty}\\frac{x^2}{x^4+1}\\,\\mathrm{d}x; \\qquad \\text{b) } \\displaystyle\\int_{2}^{\\infty}\\frac{x^3}{x^4-1}\\,\\mathrm{d}x; \\qquad \\text{c) } \\displaystyle\\int_{1}^{\\infty}\\frac{x^2+1}{x^3+3x+2}\\,\\mathrm{d}x; \\qquad \\text{d) } \\displaystyle\\int_{1}^{\\infty}\\frac{1}{x^2+5x+1}\\,\\mathrm{d}x; \\qquad \\text{e) } \\displaystyle\\int_{1}^{\\infty}\\frac{x}{x^2+2x+4}\\,\\mathrm{d}x;$$ \n",
    "\n",
    "$$\\text{f) } \\displaystyle\\int_{1}^{\\infty}\\frac{x^2-6x+1}{x^2+4}\\,\\mathrm{d}x; \\qquad \\text{g) } \\displaystyle\\int_{1}^{\\infty}\\frac{5x+2}{x^4+8x^2+4}\\,\\mathrm{d}x; \\qquad \\text{h) } \\displaystyle\\int_{1}^{\\infty}\\frac{1}{e^{5t}+2}\\,\\mathrm{d}t; \\qquad \\text{i) } \\displaystyle\\int_{1}^{\\infty}\\frac{x^2+4}{x^4+3x^2+11}\\,\\mathrm{d}x.$$ \n"
   ]
  },
  {
   "cell_type": "code",
   "execution_count": null,
   "metadata": {},
   "outputs": [],
   "source": []
  }
 ],
 "metadata": {
  "kernelspec": {
   "display_name": "SageMath 9.0",
   "language": "sage",
   "name": "sagemath"
  },
  "language_info": {
   "codemirror_mode": {
    "name": "ipython",
    "version": 3
   },
   "file_extension": ".py",
   "mimetype": "text/x-python",
   "name": "python",
   "nbconvert_exporter": "python",
   "pygments_lexer": "ipython3",
   "version": "3.7.3"
  }
 },
 "nbformat": 4,
 "nbformat_minor": 2
}
