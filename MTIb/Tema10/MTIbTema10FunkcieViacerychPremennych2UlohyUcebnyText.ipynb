{
 "cells": [
  {
   "cell_type": "markdown",
   "metadata": {},
   "source": [
    "**Autor:** Andrej Gajdoš  <br> \n",
    "*[Ústav matematických vied](https://www.upjs.sk/prirodovedecka-fakulta/ustav/umv/), [Prírodovedecká fakulta](https://www.upjs.sk/prirodovedecka-fakulta/), Univerzita Pavla Jozefa Šafárika v Košiciach,* <br> \n",
    "email: [andrej.gajdos@upjs.sk](mailto:andrej.gajdos@upjs.sk)\n",
    "***\n",
    "**_Tento materiál vznikol za podpory grantu VVGS-2021-1758._** \n",
    "***  \n",
    "\n",
    "**<font size=6 color=green> MTIb: Téma 10 - Funkcie viacerých premenných II.: úlohy k učebnému textu </font>**   "
   ]
  },
  {
   "cell_type": "markdown",
   "metadata": {},
   "source": [
    "--- \n",
    "\n",
    "**1. Určte (napíšte rovnicu) a v Sage vykreslite nejaké (Vami ľubovoľne zvolené) okolia bodov $[0,0]$, $[-2,4]$, $[1,1]$, $[3,-2]$, $[-5,-5]$.** "
   ]
  },
  {
   "cell_type": "code",
   "execution_count": null,
   "metadata": {},
   "outputs": [],
   "source": []
  },
  {
   "cell_type": "markdown",
   "metadata": {},
   "source": [
    "--- \n",
    "\n",
    "**2. Pre funkciu z Príkladu 1 vypočítajte pomocou Sage niekoľko funkčných hodnôt v bodoch $[x,y]$, ktoré sú blízko bodu $[0,0]$ a súčasne ležia na krivke $y=0$ ale aj v bodoch, ktoré sú blízko bodu $[0,0]$ a súčasne ležia na krivke $x=0$. V prvom prípade môžete zvoliť napr. body $\\left\\{[0.25,0],[0.2,0],[15,0],[0.1,0],[0.05,0]\\right\\}$ a v druhom prípade napr. body $\\{[0,0.25],[0,0.2],[0,0.15],[0,0.1],[0,0.05]\\}$. Všimnite si ako rôzne sú tieto funkčné hodnoty podzĺž uvedených dvoch kriviek v blízkosti bodu $[0,0]$. Tento numerický pohľaď tiež naznačuje neexistenciu limity danej funkcie v bode $[0,0]$.**"
   ]
  },
  {
   "cell_type": "code",
   "execution_count": null,
   "metadata": {},
   "outputs": [],
   "source": []
  },
  {
   "cell_type": "markdown",
   "metadata": {},
   "source": [
    "--- \n",
    "\n",
    "**3. Vyberte si dve tvrdenia (vlastnosti) z Vety 1 a ilustrujte ich na konkrétnych jednoduchých príkladoch.** \n"
   ]
  },
  {
   "cell_type": "code",
   "execution_count": null,
   "metadata": {},
   "outputs": [],
   "source": []
  },
  {
   "cell_type": "markdown",
   "metadata": {},
   "source": [
    "---\n",
    "\n",
    "**4. Ukážte (podobne ako v Príklade 1), že limita z Príkladu 3 je rovná $0$ pozdĺž akejkoľvek priamky v tvare $y=ax$.** "
   ]
  },
  {
   "cell_type": "code",
   "execution_count": null,
   "metadata": {},
   "outputs": [],
   "source": []
  },
  {
   "cell_type": "markdown",
   "metadata": {},
   "source": [
    "--- \n",
    "\n",
    "**5. Z definície (t.j. pomocou limity, analogickým prístupom ako v Príklade 7) vypočítajte parciálnu deriváciu $f_y(x,y)$ funkcie $f(x,y)$ z Príkladu 7.**"
   ]
  },
  {
   "cell_type": "code",
   "execution_count": null,
   "metadata": {},
   "outputs": [],
   "source": []
  },
  {
   "cell_type": "markdown",
   "metadata": {},
   "source": [
    "--- \n",
    "\n",
    "**6. Aké pravidlá/tvrdenia pre derivovanie funkcie jednej premennej boli použité v Príklade 8 ? (Pripomeňte si tému 3). Overte správnosť výsledkov v Príklade 8 aj pomocou Sage.**"
   ]
  },
  {
   "cell_type": "code",
   "execution_count": null,
   "metadata": {},
   "outputs": [],
   "source": []
  },
  {
   "cell_type": "markdown",
   "metadata": {},
   "source": [
    "--- \n",
    "\n",
    "**7. Aké <span style=\"color:red\"> konkrétne </span> otázky máte k náplni študijných materiálov, ktoré by ste chceli na hodine prediskutovať?**"
   ]
  },
  {
   "cell_type": "code",
   "execution_count": null,
   "metadata": {},
   "outputs": [],
   "source": []
  }
 ],
 "metadata": {
  "kernelspec": {
   "display_name": "SageMath 9.0",
   "language": "sage",
   "name": "sagemath"
  },
  "language_info": {
   "codemirror_mode": {
    "name": "ipython",
    "version": 3
   },
   "file_extension": ".py",
   "mimetype": "text/x-python",
   "name": "python",
   "nbconvert_exporter": "python",
   "pygments_lexer": "ipython3",
   "version": "3.7.3"
  }
 },
 "nbformat": 4,
 "nbformat_minor": 2
}
