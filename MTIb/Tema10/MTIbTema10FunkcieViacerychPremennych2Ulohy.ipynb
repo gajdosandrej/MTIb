{
 "cells": [
  {
   "cell_type": "markdown",
   "metadata": {},
   "source": [
    "**Autor:** Andrej Gajdoš  <br> \n",
    "*[Ústav matematických vied](https://www.upjs.sk/prirodovedecka-fakulta/ustav/umv/), [Prírodovedecká fakulta](https://www.upjs.sk/prirodovedecka-fakulta/), Univerzita Pavla Jozefa Šafárika v Košiciach,* <br> \n",
    "email: [andrej.gajdos@upjs.sk](mailto:andrej.gajdos@upjs.sk)\n",
    "***\n",
    "**_Tento materiál vznikol za podpory grantu VVGS-2021-1758._** \n",
    "***  \n",
    "\n",
    "**<font size=6 color=green> MTIb: Téma 10 - Funkcie viacerých premenných II.: úlohy </font>**   "
   ]
  },
  {
   "cell_type": "markdown",
   "metadata": {},
   "source": [
    "--- \n",
    "\n",
    "**1. Vypočítajte nasledujúce limity funkcií dvoch premenných pre $[x,y]\\to[0,0]$:** \n",
    "\n",
    "$$\\text{a) }f(x,y)=e^{-x-y}; \\qquad \\text{b) }f(x,y)=x^2+y^2; \\qquad \\text{c) }f(x,y)=\\frac{x}{x^2+1}; \\qquad \\text{d) }f(x,y)=\\frac{x+y}{(\\sin y)+2}; \\qquad \\text{e) }f(x,y)=\\frac{\\sin\\left(x^2+y^2\\right)}{x^2+y^2}.$$\n",
    "\n"
   ]
  },
  {
   "cell_type": "code",
   "execution_count": null,
   "metadata": {},
   "outputs": [],
   "source": []
  },
  {
   "cell_type": "markdown",
   "metadata": {},
   "source": [
    "---\n",
    "\n",
    "**2. Uvažujte krivku v tvare $y=ax$ a ukážte, že limity daných funkcií pre $[x,y]\\to[0,0]$ neexistujú:** \n",
    "\n",
    "$$\\text{a) } f(x,y)=\\frac{x+y}{x-y},\\,x\\neq y; \\qquad \\text{b) } f(x,y)=\\frac{x^2-y^2}{x^2+y^2}; \\qquad \\text{c) }f(x,y)=\\frac{3xy}{x^2+y^2}.$$\n"
   ]
  },
  {
   "cell_type": "code",
   "execution_count": null,
   "metadata": {},
   "outputs": [],
   "source": []
  },
  {
   "cell_type": "markdown",
   "metadata": {},
   "source": [
    "---\n",
    "\n",
    "**3. Približujúc sa k počiatku súradnicového systému po kladnej časti osi $x$ a po kladnej časti osi $y$ ukážte, že nasledovná limita neexistuje**\n",
    "\n",
    "\n",
    "$$\\lim\\limits_{[x,y] \\to [0,0]} \\frac{2x-y^2}{2x+y^2}.$$"
   ]
  },
  {
   "cell_type": "code",
   "execution_count": null,
   "metadata": {},
   "outputs": [],
   "source": []
  },
  {
   "cell_type": "markdown",
   "metadata": {},
   "source": [
    "--- \n",
    "\n",
    "**4. Ukážte, že funkcia $f(x,y)$ nemá limitu pre $[x,y]\\to[0,0]$** \n",
    "\n",
    "$$f(x,y)=\\frac{xy}{|xy|},\\quad x\\neq0,\\,y\\neq0.$$"
   ]
  },
  {
   "cell_type": "code",
   "execution_count": null,
   "metadata": {},
   "outputs": [],
   "source": []
  },
  {
   "cell_type": "markdown",
   "metadata": {},
   "source": [
    "--- \n",
    "\n",
    "**5. Ukážte, že funkcia $f$ nemá limitu v bode $[0,0]$. Využite k tomu $[x,y]\\to[0,0]$ po krivke s rovnicou $y=kx^2$ a voľbu rôznych hodnôt pre parameter $k$** \n",
    "\n",
    "$$f(x,y)=\\frac{x^2}{x^2+y},\\quad x^2+y\\neq0.$$\n"
   ]
  },
  {
   "cell_type": "code",
   "execution_count": null,
   "metadata": {},
   "outputs": [],
   "source": []
  },
  {
   "cell_type": "markdown",
   "metadata": {},
   "source": [
    "--- \n",
    "\n",
    "**6. Vypočítajte nasledujúce limity funkcií dvoch premenných:** \n",
    "\n",
    "$$\\text{a) }\\lim\\limits_{x\\to0\\\\y\\to0} \\left(x+y\\sin \\frac{1}{x}\\right); \\qquad \\text{b) }\\lim\\limits_{x\\to0\\\\y\\to0} \\left(x\\sin \\frac{1}{y}+y\\sin\\frac{1}{x}\\right).$$"
   ]
  },
  {
   "cell_type": "code",
   "execution_count": null,
   "metadata": {},
   "outputs": [],
   "source": []
  },
  {
   "cell_type": "markdown",
   "metadata": {},
   "source": [
    "--- \n",
    "\n",
    "**7. Rozhodnite, čí sú dané funkcie spojité na celej uvažovanej oblasti:** \n",
    "\n",
    "$$\\text{a) }z=\\frac{1}{x^2+y^2},\\,-1\\le x\\le1,\\,-1\\le y\\le1; \\qquad \\text{b) }z=\\frac{1}{x^2+y^2},\\,1\\le x\\le2,\\,1\\le y\\le2; \\qquad \\text{c) }z=\\frac{y}{x^2+2},\\,x^2+y^2\\le1;$$\n",
    "\n",
    "$$\\text{d) }z=\\frac{e^{\\sin x}}{\\cos y},\\,-\\frac{\\pi}{2}\\le x\\le\\frac{\\pi}{2},\\,0\\le y\\le\\frac{\\pi}{4}; \\qquad \\text{e) }\\mathrm{tg}(xy),\\,-2\\le x\\le2,\\,-2\\le y\\le2; \\qquad \\text{f) }\\sqrt{2x-y},\\,x^2+y^2\\le4.$$\n"
   ]
  },
  {
   "cell_type": "code",
   "execution_count": null,
   "metadata": {},
   "outputs": [],
   "source": []
  },
  {
   "cell_type": "markdown",
   "metadata": {},
   "source": [
    "--- \n",
    "\n",
    "**8. Vypočítajte parciálne derivácie prvého rádu nasledujúcich funkcií v bode $A$, ak:** \n",
    "\n",
    "$$\\text{a) }f(x,y)=\\mathrm{e}^{x}\\sin y,\\ A=(1,2); \\quad \\text{b) }f(x,y)=\\frac{x}{y}+\\frac{y}{x} ,\\ A=(1,1); \\quad \\text{c) }f(x,y)=\\frac{\\pi x^2 y}{3},\\ A=(4,6); \\quad \\text{d) }f(x,y)=\\frac{x\\cos y -y\\cos x}{1+\\sin x +\\sin y},\\ A=(0,0).$$\n"
   ]
  },
  {
   "cell_type": "code",
   "execution_count": null,
   "metadata": {},
   "outputs": [],
   "source": []
  },
  {
   "cell_type": "markdown",
   "metadata": {},
   "source": [
    "--- \n",
    "\n",
    "**9. Vypočítajte parciálne derivácie prvého rádu nasledujúcich funkcií, ak:** \n",
    "\n",
    "$$\\text{a) }f(x,y)=\\ln\\frac{\\sqrt{x}-\\sqrt{y}}{\\sqrt{x}+\\sqrt{y}}; \\qquad \\text{b) }f(x,y,z)=\\mathrm{arctg}(x-y)^{z}; \\qquad \\text{c) }f(x,y)=xy\\mathrm{e}^{x+2y};$$\n",
    "\n",
    "$$\\text{d) }f(x,y,z)=\\frac{xy}{x+y}+\\frac{yz}{y+z}; \\qquad \\text{e) }f(x,y,z)=\\sqrt{xy}(2x+3z)^{yz}; \\qquad \\text{f) }f(x,y,z)=2\\cos(xy-z)+(2x-z)^2 y^3.$$\n"
   ]
  },
  {
   "cell_type": "code",
   "execution_count": null,
   "metadata": {},
   "outputs": [],
   "source": []
  },
  {
   "cell_type": "markdown",
   "metadata": {},
   "source": [
    "--- \n",
    "\n",
    "**10. Vypočítajte parciálne derivácie prvého rádu nasledujúcich zložených funkcií:** \n",
    "\n",
    "$$\\text{a) }z=\\mathrm{arctg}(u),\\text{ kde } u=10^xy; \\qquad \\text{b) }z=x\\sqrt{y},\\text{ kde } x=\\ln t,\\ y=1+\\mathrm{e}^t;$$ \n",
    "\n",
    "$$\\text{c) }z=\\arcsin \\frac{u}{v},\\text{ kde } u=2x+y,\\ v=2x-y; \\qquad \\text{d) }z=u^2 v-uv^2,\\text{ kde } u=x\\cos y,\\ v=x\\sin y;$$ \n",
    "\n",
    "$$\\text{e) }z=u\\mathrm{e}^{\\frac{u}{v}},\\text{ kde } u=x^2+y^2,\\ v=xy; \\qquad \\text{f) }z=\\ln(u^2+v^2),\\text{ kde } u=y\\cos x,\\ v=x\\sin y.$$"
   ]
  },
  {
   "cell_type": "code",
   "execution_count": null,
   "metadata": {},
   "outputs": [],
   "source": []
  },
  {
   "cell_type": "markdown",
   "metadata": {},
   "source": [
    "--- \n",
    "\n",
    "**11. Nájdite príklad takej funkcie $z=f(x,y)$, pre ktorú všade platí $f_x>0$ a súčasne $f_y<0$.**  "
   ]
  },
  {
   "cell_type": "code",
   "execution_count": null,
   "metadata": {},
   "outputs": [],
   "source": []
  }
 ],
 "metadata": {
  "kernelspec": {
   "display_name": "SageMath 9.0",
   "language": "sage",
   "name": "sagemath"
  },
  "language_info": {
   "codemirror_mode": {
    "name": "ipython",
    "version": 3
   },
   "file_extension": ".py",
   "mimetype": "text/x-python",
   "name": "python",
   "nbconvert_exporter": "python",
   "pygments_lexer": "ipython3",
   "version": "3.7.3"
  }
 },
 "nbformat": 4,
 "nbformat_minor": 2
}
