{
 "cells": [
  {
   "cell_type": "markdown",
   "metadata": {},
   "source": [
    "**Autor:** Andrej Gajdoš  <br> \n",
    "*[Ústav matematických vied](https://www.upjs.sk/prirodovedecka-fakulta/ustav/umv/), [Prírodovedecká fakulta](https://www.upjs.sk/prirodovedecka-fakulta/), Univerzita Pavla Jozefa Šafárika v Košiciach,* <br> \n",
    "email: [andrej.gajdos@upjs.sk](mailto:andrej.gajdos@upjs.sk)\n",
    "*** \n",
    "**_Tento materiál vznikol za podpory grantu VVGS-2021-1758._** \n",
    "*** \n",
    "\n",
    "**<font size=6 color=gold> MTIb: Téma 3 - Derivácia funkcie: úlohy k učebnému textu </font>**"
   ]
  },
  {
   "cell_type": "markdown",
   "metadata": {},
   "source": [
    "--- \n",
    "\n",
    "**1. Uvažujte funkciu z Príkladu 1 t.j. $f(t)=-16t^2 + 150$ a tiež bod $t_0=2$. Zvoľte $h=\\frac{1}{5}$ a pomocou interaktívneho kódu k Príkladu 1 i pomocou Poznámky 1 určte, v ktorých bodoch pretína prislúchajúca sečnica graf funkcie $f$. Taktiež určte smernicu tejto sečnice (urobte celý výpočet). Aká je interpretácia tejto konkrétnej smernice? (Opäť si pomôžte Príkladom 1).** "
   ]
  },
  {
   "cell_type": "code",
   "execution_count": null,
   "metadata": {},
   "outputs": [],
   "source": []
  },
  {
   "cell_type": "markdown",
   "metadata": {},
   "source": [
    "---\n",
    "\n",
    "**2. Vymyslite príklad funkcie $f$ (zvoľte si aj konkrétny bod $x_0$) a ilustrujte platnosť Vety 2. Zdôvodnite / overte (vykreslite i graf), že vami zvolená funkcia $f$ v bode $x_0$ spĺňa všetko uvedené vo Vete 2. Na výpočet derivácie  môžete použiť definíciu derivácie (cez limitu) alebo niektoré z pravidiel uvdené nižšie prípadne Sage.**"
   ]
  },
  {
   "cell_type": "code",
   "execution_count": null,
   "metadata": {},
   "outputs": [],
   "source": []
  },
  {
   "cell_type": "markdown",
   "metadata": {},
   "source": [
    "---\n",
    "\n",
    "**3. Z definície derivácie (cez limitu) pomocou Sage urobte kontrolný výpočet derivácie v Príklade 4.** \n"
   ]
  },
  {
   "cell_type": "code",
   "execution_count": null,
   "metadata": {},
   "outputs": [],
   "source": []
  },
  {
   "cell_type": "markdown",
   "metadata": {},
   "source": [
    "--- \n",
    "\n",
    "**4. Z definície derivácie (cez limitu) pomocou Sage urobte kontrolný výpočet jednostranných derivácií i samotnej derivácie v Príklade 5. Existuje derivácia funkcie $f(x)=x^{2/3}$ v bode $x_0=0$ v Príkade 5? Ak áno, akú ma hodnotu?  Ak nie, tak prečo?**"
   ]
  },
  {
   "cell_type": "code",
   "execution_count": null,
   "metadata": {},
   "outputs": [],
   "source": []
  },
  {
   "cell_type": "markdown",
   "metadata": {},
   "source": [
    "---\n",
    "\n",
    "**5. Vypočítajte 3., 4., 5., 6., 7., 8. deriváciu funkcie $y=\\cos\\,x$ v bode $x_0=\\dfrac{\\pi}{4}$ z Príkladu 7. Čo ste si všimli na hodnotách derivácií?**  \n"
   ]
  },
  {
   "cell_type": "code",
   "execution_count": null,
   "metadata": {},
   "outputs": [],
   "source": []
  },
  {
   "cell_type": "markdown",
   "metadata": {},
   "source": [
    "---\n",
    "\n",
    "**6.  Vymyslite konkrétny príklad funkcie a ilustrujte použitie Vety 5. Zdôvodnite / overte, že vami zvolená funkcia $f$ spĺňa predpoklady Vety 5.**"
   ]
  },
  {
   "cell_type": "code",
   "execution_count": null,
   "metadata": {},
   "outputs": [],
   "source": []
  },
  {
   "cell_type": "markdown",
   "metadata": {},
   "source": [
    "---\n",
    "\n",
    "**7. Ilustrujte Vetu 6 na konkrétnom príklade funkcie. Na výpočty môžete použiť Sage.** "
   ]
  },
  {
   "cell_type": "code",
   "execution_count": null,
   "metadata": {},
   "outputs": [],
   "source": []
  },
  {
   "cell_type": "markdown",
   "metadata": {},
   "source": [
    "--- \n",
    "\n",
    "**8. Ilustrujte Vetu 7 na konkrétnom príklade funkcie. Na výpočty môžete použiť Sage.**"
   ]
  },
  {
   "cell_type": "code",
   "execution_count": null,
   "metadata": {},
   "outputs": [],
   "source": []
  },
  {
   "cell_type": "markdown",
   "metadata": {},
   "source": [
    "--- \n",
    "\n",
    "**9. Ilustrujte Vetu 8 na konkrétnom príklade funkcie. Vykreslite aj graf funkcie a objasnite, že Vami zvolená funkcia spĺňa predpoklady Vety 8.**"
   ]
  },
  {
   "cell_type": "code",
   "execution_count": null,
   "metadata": {},
   "outputs": [],
   "source": []
  },
  {
   "cell_type": "markdown",
   "metadata": {},
   "source": [
    "--- \n",
    "\n",
    "**10. Načrtnite graf funkcie $f(x)=\\begin{cases} \n",
    "      1; & 0\\leq x < 1 \\\\\n",
    "      0; & x = 1\n",
    "   \\end{cases}$. \n",
    "Vysvetlite, prečo nie je možné aplikovať Vetu 8 na túto funkciu (ktorý predpoklad Vety 8 nespĺňa uvedená funkcia?).**"
   ]
  },
  {
   "cell_type": "code",
   "execution_count": null,
   "metadata": {},
   "outputs": [],
   "source": []
  },
  {
   "cell_type": "markdown",
   "metadata": {},
   "source": [
    "--- \n",
    "\n",
    "**11. Aké <span style=\"color:red\"> konkrétne </span> otázky máte k náplni študijných materiálov, ktoré by ste chceli na hodine prediskutovať?** "
   ]
  },
  {
   "cell_type": "code",
   "execution_count": null,
   "metadata": {},
   "outputs": [],
   "source": []
  }
 ],
 "metadata": {
  "kernelspec": {
   "display_name": "SageMath 9.1",
   "language": "sage",
   "name": "sagemath"
  },
  "language_info": {
   "codemirror_mode": {
    "name": "ipython",
    "version": 3
   },
   "file_extension": ".py",
   "mimetype": "text/x-python",
   "name": "python",
   "nbconvert_exporter": "python",
   "pygments_lexer": "ipython3",
   "version": "3.7.3"
  }
 },
 "nbformat": 4,
 "nbformat_minor": 2
}
