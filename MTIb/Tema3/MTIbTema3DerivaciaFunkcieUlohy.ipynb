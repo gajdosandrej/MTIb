{
 "cells": [
  {
   "cell_type": "markdown",
   "metadata": {},
   "source": [
    "**Autor:** Andrej Gajdoš  <br> \n",
    "*[Ústav matematických vied](https://www.upjs.sk/prirodovedecka-fakulta/ustav/umv/), [Prírodovedecká fakulta](https://www.upjs.sk/prirodovedecka-fakulta/), Univerzita Pavla Jozefa Šafárika v Košiciach,* <br> \n",
    "email: [andrej.gajdos@upjs.sk](mailto:andrej.gajdos@upjs.sk)\n",
    "*** \n",
    "**_Tento materiál vznikol za podpory grantu VVGS-2021-1758._** \n",
    "*** \n",
    "\n",
    "**<font size=6 color=green> MTIb: Téma 3 - Derivácia funkcie: úlohy </font>**"
   ]
  },
  {
   "cell_type": "markdown",
   "metadata": {},
   "source": [
    "---\n",
    "\n",
    "**1. Z definície (pomocou limity) nájdite deriváciu funkcie $f(x)$ v bode $x_0$ ak:** \n",
    "\n",
    "$$\\text{a) } f(x)=\\sin 2x,\\,x_0=\\frac{\\pi}{2};\\qquad\\qquad \\text{b) } f(x)=\\dfrac{1}{x^2-1},\\,x_0=-3;\\qquad\\qquad \\text{c) } f(x)=\\sqrt{8-x},\\,x_0=-1;\\qquad\\qquad \\text{d) } f(x)=\\dfrac{8}{4+x^2},\\,x_0=2.$$ \n"
   ]
  },
  {
   "cell_type": "code",
   "execution_count": null,
   "metadata": {},
   "outputs": [],
   "source": []
  },
  {
   "cell_type": "markdown",
   "metadata": {},
   "source": [
    "--- \n",
    "\n",
    "**2. Určte deriváciu funkcie $y=f(x)$ a upravte (na úpravu môžete využiť Sage: `simplify`, `factor`, `expand`, `canonicalize_radical` atď.), ak** \n",
    "\n",
    "$$\\text{a) } y=3x^4-2x^3+x;\\qquad\\qquad \\text{b) } y=\\frac{x}{x+2};\\qquad\\qquad \\text{c) } y=\\mathrm{tg}x;$$ \n",
    "\n",
    "$$\\text{d) } y=x^4 \\cos x; \\qquad\\qquad \\text{e) } y=4\\mathrm{e}^x-3\\ln x;\\qquad\\qquad \\text{f) } y=\\arcsin 2x.$$ "
   ]
  },
  {
   "cell_type": "code",
   "execution_count": null,
   "metadata": {},
   "outputs": [],
   "source": []
  },
  {
   "cell_type": "markdown",
   "metadata": {},
   "source": [
    "---\n",
    "\n",
    "**3. Určte deriváciu funkcie $y=f(x)$ a upravte (na úpravu môžete využiť Sage), ak** \n",
    "\n",
    "$$\\text{a) } y=\\sqrt{\\dfrac{1-x}{1+x}};\\qquad\\qquad \\text{b) } y=\\frac{\\cos x^2}{\\cos^2 x};\\qquad\\qquad \\text{c) } y=\\dfrac{x\\sqrt{2+x^2}}{2}+\\ln\\left(x+\\sqrt{2+x^2}\\right); \\qquad\\qquad \\text{d) } y=\\dfrac{\\mathrm{actg}x}{x};$$ \n",
    "\n",
    "$$\\text{e) } y=5^{\\frac{4}{\\mathrm{cotg}x}};\\qquad\\qquad \\text{f) } y=\\ln \\arcsin 5x;\\qquad\\qquad \\text{g) } y=\\log_{x}\\cos x; \\qquad\\qquad \\text{h) } y=\\sin(\\sin(\\sin x));$$ \n",
    "\n",
    "$$\\text{i) } y=\\mathrm{e}^{\\frac{5}{x^3}};\\qquad\\qquad \\text{j) } y=\\arccos\\sqrt{\\dfrac{1}{1+x^2}};\\qquad\\qquad \\text{k) } y=\\dfrac{1}{\\sqrt{6x-x^2}}; \\qquad\\qquad \\text{l) } y=\\sqrt{x-1}\\mathrm{e}^{\\sqrt{x}};$$ \n",
    "\n",
    "$$\\text{m) } y=\\sqrt[5]{\\frac{1}{\\sqrt[3]{4x+1}}};\\qquad\\qquad \\text{n) } y=\\dfrac{\\mathrm{e}^x -\\mathrm{e}^{-x}}{\\mathrm{e}^x + \\mathrm{e}^{-x}};\\qquad\\qquad \\text{o) } y=(1-x)^x;\\qquad\\qquad \\text{p) } x^{\\frac{1}{x}}$$ "
   ]
  },
  {
   "cell_type": "code",
   "execution_count": null,
   "metadata": {},
   "outputs": [],
   "source": []
  },
  {
   "cell_type": "markdown",
   "metadata": {},
   "source": [
    "---\n",
    "\n",
    "**4. Určte derivácie uvedených funkcií v príslušných bodoch:** \n",
    "\n",
    "$$\\text{a) } y=\\ln{x}+5x,\\,x_0=10;\\quad \\text{b) } y=\\dfrac{1}{\\sqrt{x+2}},\\,x_0=2;\\quad \\text{c) } y=3x^4+2x^2-1,\\,x_0=-1; \\quad \\text{d) } y=\\dfrac{x^2+2}{x+4},\\,x_0=2; \\quad \\text{e) } y=x^2\\cdot\\ln{x},\\,x_0=1.$$"
   ]
  },
  {
   "cell_type": "code",
   "execution_count": null,
   "metadata": {},
   "outputs": [],
   "source": []
  },
  {
   "cell_type": "markdown",
   "metadata": {},
   "source": [
    "--- \n",
    "\n",
    "**5. Určte derivácie druhého rádu zadaných funkcií.** \n",
    "\n",
    "$$\\text{a) } y=x\\cdot e^{-x^2};\\qquad\\qquad \\text{b) } y=1-\\ln(x^2-9);\\qquad\\qquad \\text{c) } y=7x^3 -12x^2 +x-4;\\qquad\\qquad \\text{d) } y=x-2\\mathrm{acrtg}\\,x.$$ "
   ]
  },
  {
   "cell_type": "code",
   "execution_count": null,
   "metadata": {},
   "outputs": [],
   "source": []
  },
  {
   "cell_type": "markdown",
   "metadata": {},
   "source": [
    "--- \n",
    "\n",
    "**6. Napíšte rovnicu dotyčnice a normály ku grafu funkcie $f(x)=2x^3-x^2+3x+4$ v bode $T=[-1,?]$.** "
   ]
  },
  {
   "cell_type": "code",
   "execution_count": null,
   "metadata": {},
   "outputs": [],
   "source": []
  },
  {
   "cell_type": "markdown",
   "metadata": {},
   "source": [
    "--- \n",
    "\n",
    "**7. Napíšte rovnicu dotyčnice ku grafu funkcie $f(x)=\\dfrac{x}{x-1}$, ktorá je rovnobežná s priamkou $p:\\,x+4y-4=0$.**"
   ]
  },
  {
   "cell_type": "code",
   "execution_count": null,
   "metadata": {},
   "outputs": [],
   "source": []
  },
  {
   "cell_type": "markdown",
   "metadata": {},
   "source": [
    "---\n",
    "\n",
    "**8. V ktorom bode (bodoch) má krivka $y=\\frac{x^3}{12}$ dotyčnicu zvierajúcu s osou $x$ uhol $45^{\\circ}$? Určte rovnicu dotyčnice a normály v tomto bode (bodoch).** "
   ]
  },
  {
   "cell_type": "code",
   "execution_count": null,
   "metadata": {},
   "outputs": [],
   "source": []
  },
  {
   "cell_type": "markdown",
   "metadata": {},
   "source": [
    "--- \n",
    "\n",
    "**9. Nájdite rovnicu tej dotyčnice k parabole $f(x)=x^2-x+3$, ktorá je:** \n",
    "\n",
    "**a) dotyčnicou paraboly v jej bode $T=[1,3]$;**\n",
    "\n",
    "**b) rovnobežná s priamkou $p:\\,3x-y+5=0$;**\n",
    "\n",
    "**c) kolmá na priamku $q:\\,x+y-1=0$.**"
   ]
  },
  {
   "cell_type": "code",
   "execution_count": null,
   "metadata": {},
   "outputs": [],
   "source": []
  },
  {
   "cell_type": "markdown",
   "metadata": {},
   "source": [
    "---\n",
    "\n",
    "**10. Dokážte, že funkcia $y=\\ln\\frac{1}{1+x}$ vyhovuje vzťahu $xy'+1=\\mathrm{e}^y$.** "
   ]
  },
  {
   "cell_type": "code",
   "execution_count": null,
   "metadata": {},
   "outputs": [],
   "source": []
  },
  {
   "cell_type": "markdown",
   "metadata": {},
   "source": [
    "--- \n",
    "\n",
    "**11. Uveďte príklad funkcie, ktorá je spojitá na intervale $\\langle-1,1\\rangle$, no nespĺňa podmienky Lagrangeovej vety o strednej hodnote.**"
   ]
  },
  {
   "cell_type": "code",
   "execution_count": null,
   "metadata": {},
   "outputs": [],
   "source": []
  }
 ],
 "metadata": {
  "kernelspec": {
   "display_name": "SageMath 9.0",
   "language": "sage",
   "name": "sagemath"
  },
  "language_info": {
   "codemirror_mode": {
    "name": "ipython",
    "version": 3
   },
   "file_extension": ".py",
   "mimetype": "text/x-python",
   "name": "python",
   "nbconvert_exporter": "python",
   "pygments_lexer": "ipython3",
   "version": "3.7.3"
  }
 },
 "nbformat": 4,
 "nbformat_minor": 2
}
