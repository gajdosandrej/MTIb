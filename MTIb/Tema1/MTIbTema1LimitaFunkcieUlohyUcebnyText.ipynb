{
 "cells": [
  {
   "cell_type": "markdown",
   "metadata": {},
   "source": [
    "**Autor:** Andrej Gajdoš  <br> \n",
    "*[Ústav matematických vied](https://www.upjs.sk/prirodovedecka-fakulta/ustav/umv/), [Prírodovedecká fakulta](https://www.upjs.sk/prirodovedecka-fakulta/), Univerzita Pavla Jozefa Šafárika v Košiciach,* <br> \n",
    "email: [andrej.gajdos@upjs.sk](mailto:andrej.gajdos@upjs.sk)\n",
    "*** \n",
    "**_Tento materiál vznikol za podpory grantu VVGS-2021-1758._** \n",
    "*** \n",
    "\n",
    "**<font size=6 color=green> MTIb: Téma 1 - Limita funkcie: úlohy k učebnému textu </font>**"
   ]
  },
  {
   "attachments": {
    "funkcia_pad_gule_graf.png": {
     "image/png": "[encoded data removed]"
    }
   },
   "cell_type": "markdown",
   "metadata": {},
   "source": [
    "---\n",
    "\n",
    "**1. Predpokladajme, že $g$ je funkcia daná nasledujúcim grafom. Na zodpovedanie každej z nasledujúcich otázok a), b), c) použite tento graf**\n",
    "\n",
    "![funkcia_pad_gule_graf.png](attachment:funkcia_pad_gule_graf.png) \n",
    "\n",
    "**a) Určte funkčné hodnoty $g(-2)$, $g(-1)$, $g(0)$, $g(1)$ a $g(2)$, ak sú definované. Ak hodnota funkcie $g$ v príslušnom bode nie je definovaná, vysvetlite, aká črta grafu funkcie tomu odpovedá.** \n",
    "\n",
    "\n",
    "**b) Pre každý bod $x_0\\in\\{-1,0,2\\}$ doplňte (miesto troch bodiek) nasledovnú vetu: \"Ak sa $x$ približuje k $x_0$ (ale nerovná sa $x_0$), potom sa $g(x)$ blíži k hodnote ... (ľubovoľne blízko)\".**\n",
    "\n",
    "\n",
    "**c) Čo sa deje, keď sa $x$ blíži (ale nerovná sa) k $x_0=1$ ? Bude sa $g(x)$ približovať (ľubovoľne blízko) k jednej konkrétnej hodnote?** "
   ]
  },
  {
   "cell_type": "code",
   "execution_count": null,
   "metadata": {},
   "outputs": [],
   "source": []
  },
  {
   "cell_type": "markdown",
   "metadata": {},
   "source": [
    "---\n",
    "\n",
    "**2. Inšpirujte sa Príkladom 2 a) v učebnom texte. Pomocou výpisu funkčných hodnôt pre $x$ blíko $x_0$ (v Sage) odhadnite hodnotu každej z limít uvedených nižšie, kde $x_0$ predstavuje bod, v ktorom sa ráta limita príslušnej funkcie. Presnú hodnotu limít určte na základe algebraického (analytického) prístupu za pomoci zjednodušenia funkcií ak je to potrebné a možné. Pri úprave/zjednodušovaní funkcií môžete použiť aj Sage ale mali by ste vedieť pomenovať aspoň myšlienku/úpravu, ktorá sa pri zjednodušení využila. Na záver vykreslite každú z funkcií na vhodnom intervale aby ste vizuálne (graficky) overili vypočítané limity.** \n",
    "\n",
    "$$\\text{a) } \\lim\\limits_{x \\to 1} \\dfrac{x^2-1}{x-1} \\qquad\\qquad \\text{b) } \\lim\\limits_{x \\to 0} \\dfrac{(2+x)^3-8}{x} \\qquad\\qquad \\text{c) } \\lim\\limits_{x \\to 0} \\dfrac{\\sqrt{x+1}-1}{x}$$"
   ]
  },
  {
   "cell_type": "code",
   "execution_count": null,
   "metadata": {},
   "outputs": [],
   "source": []
  },
  {
   "cell_type": "markdown",
   "metadata": {},
   "source": [
    "--- \n",
    "\n",
    "**3. V Príklade 4 nájdite vhodné $\\delta$ pre $\\varepsilon=0.01$ rovnakým prístupom ako je to urobené pre $\\varepsilon=0.5$. Taktiež to overte pomocou interaktívneho kódu.** "
   ]
  },
  {
   "cell_type": "code",
   "execution_count": null,
   "metadata": {},
   "outputs": [],
   "source": []
  },
  {
   "cell_type": "markdown",
   "metadata": {},
   "source": [
    "--- \n",
    "\n",
    "**4. Preskúmajte (podobne ako v Príklade 2) pomocou Sage, ako sa správa funkcia z Príkladu 5 v (pravom aj ľavom) okolí bodu $x_0=1$ a využite aj interaktívny kód v učebnom texte pre experimentálne overenie limity v tomto bode - tzn. zvoľte si niekoľko hodnôt pre epsilon, napr. $\\varepsilon\\in\\{0.5, 0.25, 0.1, 0.05\\}$ a ku každému z nich nájdite vhodné $\\delta>0$ tak, aby bola splnená definícia limity v bode $x_0=1$ resp. aby bol dodržaný princíp experimentovania popísaný nad interaktívnym kódom.**"
   ]
  },
  {
   "cell_type": "code",
   "execution_count": null,
   "metadata": {},
   "outputs": [],
   "source": []
  },
  {
   "cell_type": "markdown",
   "metadata": {},
   "source": [
    "--- \n",
    "\n",
    "**5. Pomocou interaktívneho kódu preskúmajte správanie funkcie $y=\\sin\\frac{1}{x}$ v okolí bodu $x_0=0$ (ide o podobnú funkciu ako Príklade 2 b) ). Zvoľte vhodné parametre a experimentujte (napr. $x_{min}=-0.5$, $x_{max}=0.5$, $A=0$, $\\varepsilon=0.5$ a pre $\\delta$ vyskúšajte rôzne hodnoty ako napr. $\\delta\\in\\{0.5,0.4,0.3,0.2,0.1\\}$). Pokúšajte sa meniť hodnoty parametrov interaktívneho kódu - zvoľte si nejaké rozumné hodnoty pre $A$ (hodnota potenciálnej limity), $\\varepsilon$ (okolie hodnoty $A$). Následne pre zvolené $A$, $\\varepsilon$ skúšajte rôzne hodnoty pre $\\delta$ a pozorujte, čo sa deje. Prečo nie je pre funkciu $y=\\sin\\frac{1}{x}$ splnená definícia limity v bode $x_0=0$ ? Urobte experimenty pre niekoľko rôznych (zmysluplných) hodnôt $A$, $\\varepsilon$, ku ktorým budete skúšať rôzne (zmysluplné) hodnoty pre $\\delta$ a zamýšľajte sa, prečo nie je splnená definícia limity resp. to, čo je uvedené v popise experimentovania nad interaktívnym kódom.**"
   ]
  },
  {
   "cell_type": "code",
   "execution_count": null,
   "metadata": {},
   "outputs": [],
   "source": []
  },
  {
   "cell_type": "markdown",
   "metadata": {},
   "source": [
    "---\n",
    "\n",
    "**6. Preskúmajte, prečo $\\lim\\limits_{x \\to 0} \\sin\\,\\left(\\dfrac{1}{x}\\right)$ neexistuje. Využite Sage a postup aplikovaný v Príklade 2 v časti b).**  \n"
   ]
  },
  {
   "cell_type": "code",
   "execution_count": null,
   "metadata": {},
   "outputs": [],
   "source": []
  },
  {
   "cell_type": "markdown",
   "metadata": {},
   "source": [
    "---\n",
    "\n",
    "**7. Analogickým prístupom ako v Príklade 16 určte $\\lim\\limits_{x\\to\\infty} \\left(1-\\left(\\dfrac{1}{3}\\right)^x\\right)$. Jednotlivé kroky zdôvodnite.**   \n"
   ]
  },
  {
   "cell_type": "code",
   "execution_count": null,
   "metadata": {},
   "outputs": [],
   "source": []
  },
  {
   "cell_type": "markdown",
   "metadata": {},
   "source": [
    "--- \n",
    "\n",
    "**8. Aplikujte Vetu 10 a) na výpočet limity v Príklade 13. Presne popíšte splnenie predpokladov Vety 10 pre limitu v Príklade 13 - tzn. určte funkcie $f(x)$, $g(x)$, bod $x_0$ a jeho prstencové okolie, na ktorom je $g(x)>0$ a tiež zdôvodnite, že $\\lim\\limits_{x \\to x_0} f(x) > 0$.** "
   ]
  },
  {
   "cell_type": "code",
   "execution_count": null,
   "metadata": {},
   "outputs": [],
   "source": []
  },
  {
   "cell_type": "markdown",
   "metadata": {},
   "source": [
    "--- \n",
    "\n",
    "**9. Aké <span style=\"color:red\"> konkrétne </span> otázky máte k náplni študijných materiálov, ktoré by ste chceli na hodine prediskutovať?** "
   ]
  },
  {
   "cell_type": "code",
   "execution_count": null,
   "metadata": {},
   "outputs": [],
   "source": []
  }
 ],
 "metadata": {
  "kernelspec": {
   "display_name": "SageMath 9.0",
   "language": "sage",
   "name": "sagemath"
  },
  "language_info": {
   "codemirror_mode": {
    "name": "ipython",
    "version": 3
   },
   "file_extension": ".py",
   "mimetype": "text/x-python",
   "name": "python",
   "nbconvert_exporter": "python",
   "pygments_lexer": "ipython3",
   "version": "3.7.3"
  }
 },
 "nbformat": 4,
 "nbformat_minor": 2
}
