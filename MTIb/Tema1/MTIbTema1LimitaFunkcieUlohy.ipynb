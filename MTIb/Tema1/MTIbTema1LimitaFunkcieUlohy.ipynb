{
 "cells": [
  {
   "cell_type": "markdown",
   "metadata": {},
   "source": [
    "**Autor:** Andrej Gajdoš  <br> \n",
    "*[Ústav matematických vied](https://www.upjs.sk/prirodovedecka-fakulta/ustav/umv/), [Prírodovedecká fakulta](https://www.upjs.sk/prirodovedecka-fakulta/), Univerzita Pavla Jozefa Šafárika v Košiciach,* <br> \n",
    "email: [andrej.gajdos@upjs.sk](mailto:andrej.gajdos@upjs.sk)\n",
    "*** \n",
    "**_Tento materiál vznikol za podpory grantu VVGS-2021-1758._** \n",
    "*** \n",
    "\n",
    "**<font size=6 color=green> MTIb: Téma 1 - Limita funkcie: úlohy </font>**"
   ]
  },
  {
   "cell_type": "markdown",
   "metadata": {},
   "source": [
    "---\n",
    "\n",
    "**1. Z definície limity dokážte, že platí:**\n",
    "\n",
    "$$\\text{a) } \\lim\\limits_{x\\to3}\\sqrt{x}=\\sqrt{3}; \\qquad\\qquad \\text{b) } \\lim\\limits_{x\\to1}2x+1=3.$$ "
   ]
  },
  {
   "cell_type": "code",
   "execution_count": null,
   "metadata": {},
   "outputs": [],
   "source": []
  },
  {
   "cell_type": "markdown",
   "metadata": {},
   "source": [
    "---\n",
    "\n",
    "**2. Vypočítajte nasledujúce limity funkcií:**\n",
    "\n",
    "$$\\text{a) } \\lim\\limits_{x\\to 2}\\,\\left(x^2-3x+2\\right); \\qquad\\qquad \\text{b) } \\lim\\limits_{x\\to 1}\\dfrac{x^2-1}{x^2-3x+2}; \\qquad\\qquad \\text{c) } \\lim\\limits_{x\\to 4}\\dfrac{x^2-x-12}{x^2-6x+8}; \\qquad\\qquad \\text{d) } \\lim\\limits_{x\\to 5}\\dfrac{\\sqrt{x-4}-1}{x-5};$$ \n",
    "\n",
    "$$\\text{e) } \\lim\\limits_{x\\to 0}\\frac{\\sqrt[n]{1+x}-1}{x}; \\qquad\\qquad \\text{f) } \\lim\\limits_{x\\to 0}\\frac{\\cos(x)-\\cos^3(x)}{x^2}; \\qquad\\qquad \\text{g) } \\lim\\limits_{x\\to 0}\\frac{\\sin(3x)}{\\sin(4x)}; \\qquad\\qquad \\text{h) } \\lim\\limits_{x\\to 4}\\frac{\\sqrt{1+2x}-3}{\\sqrt{x}-2};$$\n",
    "\n",
    "$$\\text{i) } \\lim\\limits_{x\\to 0}\\frac{\\mathrm{e}^{2x}-1}{3x}; \\qquad\\qquad \\text{j) } \\lim\\limits_{x\\to -1}\\frac{x^3-2x-1}{x^5-2x-1}; \\qquad\\qquad \\text{k) } \\lim\\limits_{x\\to 1}\\left(\\frac{1}{x^2-1}-\\frac{2}{x^4-1}\\right); \\qquad\\qquad \\text{l) } \\lim\\limits_{x\\to \\frac{\\pi}{4}}\\frac{\\sqrt{2}\\cos(x)-1}{1-\\tan^2(x)}.$$"
   ]
  },
  {
   "cell_type": "code",
   "execution_count": null,
   "metadata": {},
   "outputs": [],
   "source": []
  },
  {
   "cell_type": "markdown",
   "metadata": {},
   "source": [
    "--- \n",
    "\n",
    "**3. Vypočítajte nasledujúce limity funkcií:** \n",
    "\n",
    "$$\\text{a) } \\lim\\limits_{x\\to 2^{-}}\\frac{x+1}{x-2}; \\qquad\\qquad \\text{b) } \\lim\\limits_{x\\to 7}\\frac{1}{|x-7|}; \\qquad\\qquad \\text{c) } \\lim\\limits_{x\\to \\infty}\\left(\\frac{x+1}{x-1}\\right)^x; \\qquad\\qquad \\text{d) } \\lim\\limits_{x\\to \\infty}\\left(1-\\frac{1}{3x}\\right)^x;$$ \n",
    "\n",
    "$$\\text{e) } \\lim\\limits_{x\\to \\infty}\\frac{x^2+2x+1}{5x}; \\qquad\\qquad \\text{f) } \\lim\\limits_{x\\to \\infty}\\frac{x^3+10x-1}{3x^3-7x^2+x+1}; \\qquad\\qquad \\text{g) } \\lim\\limits_{x\\to \\infty}\\frac{\\sin(3x-1)}{x^2}; \\qquad\\qquad \\text{h) } \\lim\\limits_{x\\to \\infty}\\left(\\frac{x^3}{x^2-1}-x\\right);$$ "
   ]
  },
  {
   "cell_type": "code",
   "execution_count": null,
   "metadata": {},
   "outputs": [],
   "source": []
  },
  {
   "cell_type": "markdown",
   "metadata": {},
   "source": [
    "---\n",
    "\n",
    "**4. Napíšte príklad takej funkcie $f(x)$, že platí: $\\lim\\limits_{x\\to\\infty} f(x)=2$ a súčasne $\\lim\\limits_{x\\to-\\infty} f(x)=-2$.**"
   ]
  },
  {
   "cell_type": "code",
   "execution_count": null,
   "metadata": {},
   "outputs": [],
   "source": []
  },
  {
   "cell_type": "markdown",
   "metadata": {},
   "source": [
    "---\n",
    "\n",
    "**5. Nájdite nasledujúce limity alebo vysvetlite, prečo neexistujú.**\n",
    "\n",
    "$$\\text{a) } \\lim\\limits_{x\\to2} \\dfrac{|x-2|}{x-2} \\qquad\\qquad \\text{b) } \\lim\\limits_{x\\to2+} \\dfrac{|x-2|}{x-2} \\qquad\\qquad \\text{c) } \\lim\\limits_{x\\to2-} \\dfrac{|x-2|}{x-2}$$"
   ]
  },
  {
   "cell_type": "code",
   "execution_count": null,
   "metadata": {},
   "outputs": [],
   "source": []
  },
  {
   "cell_type": "markdown",
   "metadata": {},
   "source": [
    "---\n",
    "\n",
    "**6.Vypočítajte nasledujúce limity alebo vysvetlite, prečo neexistujú.** \n",
    "\n",
    "$$\\text{a) } \\lim\\limits_{h\\to0} \\dfrac{(3+h)^2-3^2}{h} \\qquad\\qquad \\text{b) } \\lim\\limits_{x\\to4} \\dfrac{x-4}{\\sqrt{x}-2} \\qquad\\qquad \\text{c) } \\lim\\limits_{x\\to1} \\dfrac{x-1}{x^2-2x+1} \\qquad\\qquad \\text{d) } \\lim\\limits_{y\\to\\infty} \\dfrac{3+4y}{y+2}$$ "
   ]
  },
  {
   "cell_type": "code",
   "execution_count": null,
   "metadata": {},
   "outputs": [],
   "source": []
  },
  {
   "cell_type": "markdown",
   "metadata": {},
   "source": [
    "---\n",
    "\n",
    "**7. Po prejdení rýchlostného nárazu v čase $t = 0$ sekúnd sa vozidlo odráža hore a dole, takže výška jeho trupu od zeme v palcoch v čase $t$ je daná funkciou $h(t)=7+e^{-0.5t}\\sin(2\\pi t)$. Vypočítajte a interpretujte $\\lim\\limits_{t\\to\\infty} h(t)$.**"
   ]
  },
  {
   "cell_type": "code",
   "execution_count": null,
   "metadata": {},
   "outputs": [],
   "source": []
  },
  {
   "cell_type": "markdown",
   "metadata": {},
   "source": [
    "--- \n",
    "\n",
    "**8. Vypočítajte nasledujúce limity alebo vysvetlite, prečo neexistujú.** \n",
    "\n",
    "$$\\text{a) } \\lim\\limits_{x\\to-2} \\dfrac{x^3+4x^2+x-6}{x^2-4} \\qquad\\qquad \\text{b) } \\lim\\limits_{x\\to3} \\dfrac{1-\\sqrt{x^2-8}}{x-3} \\qquad\\qquad \\text{c) } \\lim\\limits_{x\\to0} \\dfrac{\\sin4x}{2x} \\qquad\\qquad \\text{d) } \\lim\\limits_{x\\to0} \\dfrac{\\sin3x}{\\tan\\frac{x}{3}}$$ \n",
    "\n",
    "$$\\text{e) } \\lim\\limits_{x\\to0} \\dfrac{\\sqrt{x+4}-2}{\\sin\\frac{x}{2}} \\qquad\\qquad \\text{f) } \\lim\\limits_{x\\to\\infty} \\left(\\dfrac{x+3}{x}\\right)^{1-2x} \\qquad\\qquad \\text{g) } \\lim\\limits_{x\\to0} (1+4x)^{\\frac{5}{x}-3} \\qquad\\qquad \\text{h) } \\lim\\limits_{x\\to\\pm\\infty} \\dfrac{4x^3-2x^2+3x-5}{1-8x^3}$$ \n",
    "\n",
    "$$\\text{i) } \\lim\\limits_{x\\to\\pm\\infty} \\dfrac{2x^4-x^3+2x^2+x-1}{3x-4x^2} \\qquad\\qquad \\text{j) } \\lim\\limits_{x\\to\\pm\\infty} \\dfrac{1-x^2}{2+x^2-4x^3} \\qquad\\qquad \\text{k) } \\lim\\limits_{x\\to1} \\dfrac{1}{1-x} \\qquad\\qquad \\text{l) } \\lim\\limits_{x\\to2} \\dfrac{x}{(x-2)^2}$$ "
   ]
  },
  {
   "cell_type": "code",
   "execution_count": null,
   "metadata": {},
   "outputs": [],
   "source": []
  }
 ],
 "metadata": {
  "kernelspec": {
   "display_name": "SageMath 9.0",
   "language": "sage",
   "name": "sagemath"
  },
  "language_info": {
   "codemirror_mode": {
    "name": "ipython",
    "version": 3
   },
   "file_extension": ".py",
   "mimetype": "text/x-python",
   "name": "python",
   "nbconvert_exporter": "python",
   "pygments_lexer": "ipython3",
   "version": "3.7.3"
  }
 },
 "nbformat": 4,
 "nbformat_minor": 2
}
