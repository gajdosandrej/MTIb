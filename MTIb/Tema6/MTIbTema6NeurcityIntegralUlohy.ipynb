{
 "cells": [
  {
   "cell_type": "markdown",
   "metadata": {},
   "source": [
    "**Autor:** Andrej Gajdoš  <br> \n",
    "*[Ústav matematických vied](https://www.upjs.sk/prirodovedecka-fakulta/ustav/umv/), [Prírodovedecká fakulta](https://www.upjs.sk/prirodovedecka-fakulta/), Univerzita Pavla Jozefa Šafárika v Košiciach,* <br> \n",
    "email: [andrej.gajdos@upjs.sk](mailto:andrej.gajdos@upjs.sk)\n",
    "*** \n",
    "**_Tento materiál vznikol za podpory grantu VVGS-2021-1758._** \n",
    "*** \n",
    "\n",
    "**<font size=6 color=green> MTIb: Téma 6 - Neurčitý integrál: úlohy </font>**   "
   ]
  },
  {
   "cell_type": "markdown",
   "metadata": {},
   "source": [
    "--- \n",
    "\n",
    "**1. Vypočítajte nasledujúce neurčité integrály:** \n",
    "\n",
    "$$\\text{a) } \\int(x+1)\\ \\mathrm{d}x; \\qquad \\text{b) } \\int\\frac{1}{2}x^7\\ \\mathrm{d}x; \\qquad \\text{c) } \\int(x^3-4x^2+10x+8)\\ \\mathrm{d}x; \\qquad \\text{d) } \\int(2\\mathrm{e}^x-3^{x}+\\mathrm{e}) \\ \\mathrm{d}x;$$\n",
    "\n",
    "$$\\text{e) } \\int\\frac{\\sqrt{3}}{t^2+1}\\ \\mathrm{d}t; \\qquad \\text{f) } \\int\\frac{1}{x^2 \\sqrt{x}}\\ \\mathrm{d}x; \\qquad \\text{g) } \\int(2\\sin x-3\\cos x)\\ \\mathrm{d}x; \\qquad \\text{h) } \\int\\frac{-5}{\\cos^{2} x}\\ \\mathrm{d}x;$$ \n",
    "\n",
    "$$\\text{i) } \\int\\frac{1}{z+5}\\ \\mathrm{d}z; \\qquad \\text{j) } \\int\\frac{1+x^4}{x^3}\\ \\mathrm{d}x; \\qquad \\text{k) } \\int\\frac{4-b^2}{2+b}\\ \\mathrm{d}b; \\qquad \\text{l) } \\int\\frac{1}{\\mathrm{tg}x}\\ \\mathrm{d}x.$$"
   ]
  },
  {
   "cell_type": "code",
   "execution_count": null,
   "metadata": {},
   "outputs": [],
   "source": []
  },
  {
   "cell_type": "markdown",
   "metadata": {},
   "source": [
    "--- \n",
    "\n",
    "**2. Vypočítajte nasledujúce neurčité integrály (metódou per partes):**\n",
    "\n",
    "$$\\text{a) } \\int\\sin^{2}x\\ \\mathrm{d}x; \\qquad \\text{b) } \\int(x^2+1)\\mathrm{e}^{-x}\\ \\mathrm{d}x; \\qquad \\text{c) } \\int(1-y)\\mathrm{e}^{2y}\\ \\mathrm{d}y; \\qquad \\text{d) } \\int(2y+1)\\cos y\\ \\mathrm{d}y;$$\n",
    "\n",
    "$$\\text{e) } \\int\\ln x\\ \\mathrm{d}x; \\qquad \\text{f) } \\int(\\sin t\\cos t)\\ \\mathrm{d}t; \\qquad \\text{g) } \\int\\frac{z}{\\cos^{2}z}\\ \\mathrm{d}z; \\qquad \\text{h) } \\int t\\sqrt{t-1}\\ \\mathrm{d}t.$$"
   ]
  },
  {
   "cell_type": "code",
   "execution_count": null,
   "metadata": {},
   "outputs": [],
   "source": []
  },
  {
   "cell_type": "markdown",
   "metadata": {},
   "source": [
    "---\n",
    "\n",
    "**3. Pomocou substitučnej metódy vypočítajte nasledujúce neurčité integrály:** \n",
    "\n",
    "$$\\text{a) } \\int(x+2)^9\\ \\mathrm{d}x; \\qquad \\text{b) } \\int\\frac{2}{(3x+1)^4}\\ \\mathrm{d}x; \\qquad \\text{c) } \\int\\sqrt{2x+3}\\ \\mathrm{d}x; \\qquad \\text{d) } \\int\\cos(2x) \\ \\mathrm{d}x;$$\n",
    "\n",
    "$$\\text{e) } \\int\\mathrm{e}^{5x-1} \\ \\mathrm{d}x; \\qquad \\text{f) } \\int\\frac{\\ln x}{x} \\ \\mathrm{d}x; \\qquad \\text{g) } \\int\\frac{2\\sin x}{\\sqrt[3]{\\cos^5 x}} \\ \\mathrm{d}x; \\qquad \\text{h) } \\int(2+3\\sin x)^3 \\cos x \\ \\mathrm{d}x;$$ \n",
    "\n",
    "$$\\text{i) } \\int\\cos x\\sqrt{\\sin x} \\ \\mathrm{d}x; \\qquad \\text{j) } \\int\\frac{\\sin \\sqrt{x}}{\\sqrt{x}} \\ \\mathrm{d}x; \\qquad \\text{k) } \\int\\frac{1}{\\sin^2(3x+2)} \\ \\mathrm{d}x; \\qquad \\text{l) } \\int\\frac{1}{x^3}\\cos\\frac{1}{x^2} \\ \\mathrm{d}x;$$ \n",
    "\n",
    "$$\\text{m) } \\int x\\sqrt[3]{2x^2+3} \\ \\mathrm{d}x; \\qquad \\text{n) } \\int \\frac{1}{\\cos^2 x\\sqrt{\\mathrm{tg}x}}\\ \\mathrm{d}x; \\qquad \\text{o) } \\int x\\mathrm{e}^{x^2 +1}\\ \\mathrm{d}x; \\qquad \\text{p) } \\int \\frac{\\mathrm{e}^x}{(3-2\\mathrm{e}^x)^2}\\ \\mathrm{d}x;$$\n",
    "\n",
    "$$\\text{q) } \\int \\frac{\\ln x}{x(4+\\ln^2 x)}\\ \\mathrm{d}x; \\qquad \\text{r) } \\int \\frac{1}{\\sqrt{1-9x^2}}\\ \\mathrm{d}x; \\qquad \\text{s) } \\int \\frac{\\sin^2 x\\cos x}{1+\\sin^2 x}\\ \\mathrm{d}x; \\qquad \\text{t) } \\int \\mathrm{e}^{\\sqrt{x}}\\ \\mathrm{d}x;$$ \n",
    "\n",
    "$$\\text{u) } \\int \\cos(\\ln x)\\ \\mathrm{d}x; \\qquad \\text{v) } \\int \\frac{\\mathrm{e}^{\\frac{1}{y}}}{y^2}\\ \\mathrm{d}y; \\qquad \\text{w) } \\int \\frac{\\sin y - \\cos y}{\\sqrt[4]{\\cos y + \\sin y}}\\ \\mathrm{d}y; \\qquad \\text{x) } \\int \\frac{1}{\\sqrt{1-x^2}\\arcsin x}\\ \\mathrm{d}x;$$ \n",
    "\n",
    "$$\\text{y) }\\int \\frac{x}{(x^2 -5)^5}\\ \\mathrm{d}x; \\qquad \\text{z) } \\int (x+2)\\sqrt{2x^2+8x+1}\\ \\mathrm{d}x.$$"
   ]
  },
  {
   "cell_type": "code",
   "execution_count": null,
   "metadata": {},
   "outputs": [],
   "source": []
  },
  {
   "attachments": {
    "uloha_grafy.png": {
     "image/png": "[encoded data removed]"
    }
   },
   "cell_type": "markdown",
   "metadata": {},
   "source": [
    "---\n",
    "\n",
    "**4. Načrtnite grafy dvoch funkcií $F$ takých, že $F'(x)=f(x)$, pričom pre jednu z funkcií nech platí $F(0)=0$ a pre druhú nech platí $F(0)=1$. V grafoch vyznačte na osi $x$ body $x_1,x_2,x_3$. Identifikujte lokálne minimá, maximá a inflexné body funkcie resp. funkcií $F(x)$.** \n",
    "\n",
    "![uloha_grafy.png](attachment:uloha_grafy.png)"
   ]
  },
  {
   "cell_type": "code",
   "execution_count": null,
   "metadata": {},
   "outputs": [],
   "source": []
  }
 ],
 "metadata": {
  "kernelspec": {
   "display_name": "SageMath 9.0",
   "language": "sage",
   "name": "sagemath"
  },
  "language_info": {
   "codemirror_mode": {
    "name": "ipython",
    "version": 3
   },
   "file_extension": ".py",
   "mimetype": "text/x-python",
   "name": "python",
   "nbconvert_exporter": "python",
   "pygments_lexer": "ipython3",
   "version": "3.7.3"
  }
 },
 "nbformat": 4,
 "nbformat_minor": 2
}
