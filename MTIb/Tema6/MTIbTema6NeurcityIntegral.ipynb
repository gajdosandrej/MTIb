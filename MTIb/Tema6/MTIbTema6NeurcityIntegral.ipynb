{
 "cells": [
  {
   "cell_type": "markdown",
   "metadata": {},
   "source": [
    "**Autor:** Andrej Gajdoš  <br> \n",
    "*[Ústav matematických vied](https://www.upjs.sk/prirodovedecka-fakulta/ustav/umv/), [Prírodovedecká fakulta](https://www.upjs.sk/prirodovedecka-fakulta/), Univerzita Pavla Jozefa Šafárika v Košiciach,* <br> \n",
    "email: [andrej.gajdos@upjs.sk](mailto:andrej.gajdos@upjs.sk)\n",
    "*** \n",
    "**_Tento materiál vznikol za podpory grantu VVGS-2021-1758._** \n",
    "***  \n",
    "\n",
    "**<font size=6 color=green> MTIb: Téma 6 - Neurčitý integrál. </font>**  "
   ]
  },
  {
   "cell_type": "markdown",
   "metadata": {},
   "source": [
    "**Ťažiskovou úlohou v rámci diferenciálneho počtu je úloha nájsť k danej funkcii $f$ na intervale $I$ jej deriváciu $f'$. V matematike a jej aplikáciách je často potrebné riešiť aj opačnú úlohu: ako k danej funkcii $y'=f(x)$ na intervale $I$ nájsť takú funkciu $y=g(x)$, aby $y'=g'(x)=f(x)$ pre všetky $x\\in I$.** \n",
    "\n",
    "Konkrétne uvažujme jednoduchú (_diferenciálnu_) rovnicu v tvare \n",
    "\n",
    "$$y'=2x \\qquad \\text{ resp. ekvivalentný zápis } \\qquad \\dfrac{\\mathrm{d}y}{\\mathrm{d}x}=2x.$$\n",
    "\n",
    "V tomto príklade máme $y'=f(x)=2x$. \n",
    "Cieľom je nájsť takú funkciu resp. funkcie $y=g(x)$, že keď ju/ich zderivujeme, tak dostaneme práve funkciu $2x$. Inými slovami hľadáme takú funkciu $y=g(x)$ aby platilo $y'=g'(x)=f(x)=2x$. Zápis $\\dfrac{\\mathrm{d}y}{\\mathrm{d}x}=2x$ vyjadruje to isté čo $y'=2x$ a v podstate znamená, že derivácia funkcie $y$ podľa premennej $x$ je rovná funkcii $2x$.  \n",
    "\n",
    "<font color=orange> Dokážete nájsť aspoň jednu takú funkciu $y=g(x)$, ktorá bude vyhovovať danej rovnici $y'=2x$ ? Tzn. nájsť takú funkciu $y=g(x)$, že po zderivovaní bude rovná $2x$, t.j. $y'=g'(x)=2x$. </font> \n"
   ]
  },
  {
   "cell_type": "code",
   "execution_count": null,
   "metadata": {},
   "outputs": [],
   "source": []
  },
  {
   "cell_type": "markdown",
   "metadata": {},
   "source": [
    "Asi nie je ťažké vidieť, že napr. $\\left(x^2\\right)'=2x$ (viď vzorce pre derivovanie). Preto jedna z hľadaných funkcií je práve $y=g(x)=x^2$. Táto funkcia sa nazýva _primitívnou funkciou_ k funkcii $f(x)=2x$ resp. _antiderivácia_ funkcie $f(x)=2x$. Uvedomme si, že teraz robíme akoby proces opačný k derivovaniu, tzn. nehľadáme deriváciu funkcie ale naopak, hľadáme takú funkciu $y=g(x)$, ktorú keď zderivujeme, tak dostaneme danú funkciu $y'=2x$. \n",
    "\n",
    "Evidentne aj funkcia $y=x^2+1$ je riešením rovnice $y'=2x$ lebo $y'=\\left(x^2+1\\right)'=2x$ ale taktiež $y=x^2+123456789$ vyhovuje zadanej rovnici lebo $y'=\\left(x^2+123456789\\right)'=2x$. Zrejme by sme vedeli nájsť i ďalšie podobné funkcie, ktoré by sa od seba líšili len o nejakú číselnú konštantu (absolútny člen). Asi nás neprekvapí, že takých funkcií, ktoré sú riešením rovnice $y'=2x$ je nekonečne veľa. \n",
    "\n",
    "Úvahy ilustrované na tomto jednoduchom príklade sú postupne zhrnuté ďalej v Tvrdení 1, v Tvrdení 2, v Definícii 1, v Dôsledku 1 a v Definícii 2. Pred tým ale ešte uvádzame tri príklady zo života, kde ilustrujeme využitie antiderivácie ku konkrétnej funkcii. "
   ]
  },
  {
   "cell_type": "markdown",
   "metadata": {},
   "source": [
    "--- \n",
    "\n",
    "#### <font color=blue> Príklad 1 </font>\n",
    "\n",
    "Jednou zo základných úloh mechaniky je určiť zákon dráhy (funkciu $s$) pre pohyb bodu, pričom poznáme vzťah pre jeho rýchlosť (resp. zrýchlenie); k tomu je potrebné nájsť \"antideriváciu\" funkcie vyjadrujúcej závislosť rýchlosti (resp. zrýchlenia) od  času.\n",
    "\n",
    "Uvažujme funkciu $s = s(t)$, vyjadrujúcu závislosť prejdenej dráhy hmotného bodu od času $t$ a funkciu $v = v(t)$ vyjadrujúcu závislosť rýchlosti tohto bodu od času $t$. Potom platí $v(t_0) = s'(t_0) = \\left . \\dfrac{\\mathrm{d}s}{\\mathrm{d}t}\\right|_{t=t_0}$ pre daný časový okamih $t_0$ (teda okamžitá rýchlosť pohybu hmotného bodu je deriváciou funkcie jeho dráhy podľa času). Ak poznáme funkciu $s$, môžeme vypočítať okamžitú rýchlosť $v$. \n",
    "\n",
    "Pre rovnomerne zrýchlený pohyb hmotného bodu po priamke (kde zrýchlenie je rovné konštante $a$ alebo $g$, pričom hmotný bod môže mať nejakú počiatočnú rýchlosť $v_0$) platí\n",
    "\n",
    "$$v(t) = v_0 + a\\cdot t.$$\n",
    "\n",
    "Derivovaním funkcie $s(t) = v_0\\cdot t + \\frac{1}{2}a\\cdot t^2$ sa môžeme presvedčiť, že $s'(t) = v(t)$; preto uvedený vzorec správne vyjadruje dráhu rovnomerne zrýchlene sa pohybujúceho bodu v čase $t$.\n",
    "\n",
    "\n",
    "--- "
   ]
  },
  {
   "cell_type": "markdown",
   "metadata": {},
   "source": [
    "--- \n",
    "\n",
    "#### <font color=blue> Príklad 2 </font>\n",
    "\n",
    "Petarda je odpálená zo zeme vertikálne nahor, jej počiatočná rýchlosť je $15\\ ms^{-1}$. Vypočítajte, akú výšku dosiahne petarda $2.5$ sekundy po odpálení.\n",
    "\n",
    "<ins> Riešenie: </ins>\n",
    "\n",
    "Pohyb petardy je rovnomerne spomalený (proti sile, ktorá je vyvolaná odpálením, pôsobí gravitačná sila) so spomalením $-g \\doteq - 9.80665\\ ms^{-2}$ (záporne vzaté gravitačné zrýchlenie), jej rýchlosť (podľa vzorca z predošlého príkladu) v čase $t$ je \n",
    "\n",
    "$$\n",
    "v(t) = 15 -g\\cdot t \n",
    "$$\n",
    "\n",
    "Antiderivácia funkcie $v(t)$ je $s(t) = 15t - \\dfrac{gt^2}{2}$ (opäť, ľahko vidieť, že $s'(t) = v(t)$); pre $t = 2.5\\ s$ je \n",
    "\n",
    "$$s(2.5) = 15\\cdot 2.5 - 0.5 \\cdot 9.80665\\cdot (2.5)^2 \\doteq 6.854\\ m.$$\n",
    "\n",
    "--- "
   ]
  },
  {
   "cell_type": "markdown",
   "metadata": {},
   "source": [
    "--- \n",
    "\n",
    "#### <font color=blue> Príklad 3 </font>\n",
    "\n",
    " Mesto má v r. 2011 50000 obyvateľov. Predpokladá sa, že rýchlosť rastu jeho populácie sa bude riadiť podľa vzorca $p'(t)=\\dfrac{\\mathrm{d}p}{\\mathrm{d}t} = 2000t^{1.04}$, kde $p = p(t)$ je počet obyvateľov po $t$ rokoch od r. 2011. Koľko obyvateľov bude mať toto mesto v r. 2021?\n",
    "\n",
    "<ins> Riešenie: </ins>\n",
    "\n",
    "Máme daný vzťah pre rýchlosť zmeny populácie mesta v čase (rýchlosť s akou pribúdajú obvatelia v meste v čase $t$), teda predpis pre deriváciu $p'(t)$ počtu obyvateľov. Potrebujeme nájsť antideriváciu funkcie $y = 2000t^{1.04}$; hľadaná antiderivácia je $p(t) = 2000\\dfrac{t^{2.04}}{2.04} + C$ (kde $C$ je nejaká konštanta), čo možno ľahko skontrolovať:\n",
    "\n",
    "$$\n",
    "\\left ( 2000\\dfrac{t^{2.04}}{2.04} + C \\right )' = \\left ( 2000\\dfrac{t^{2,04}}{2,04}\\right )' + (C )' = 2000\\cdot \\left(\\dfrac{t^{2.04}}{2.04}\\right )' + 0 =\n",
    "$$\n",
    "\n",
    "$$\n",
    "2000\\cdot \\dfrac{2.04\\cdot t^{1.04}}{2.04} = 2000t^{1.04}\n",
    "$$\n",
    "\n",
    "Konštantu $C$ určíme z podmienky, že v r. 2011 je počet obyvateľov (t.j. hodnota $p(0)$) rovný 50000:\n",
    "\n",
    "$$\n",
    "50000=p(0) = 2000\\dfrac{0^{2.04}}{2.04} + C = 0+C = C\n",
    "$$\n",
    "\n",
    "Teda \n",
    "$$\n",
    "p(t) = 2000\\dfrac{t^{2.04}}{2.04} + 50000\n",
    "$$\n",
    "\n",
    "Počet obyvateľov v r. 2021 je potom rovný hodnote \n",
    "\n",
    "$$\n",
    "p(10) = 2000\\dfrac{10^{2.04}}{2.04} + 50000 \\doteq 157497.86.\n",
    "$$\n",
    "\n",
    "--- "
   ]
  },
  {
   "cell_type": "markdown",
   "metadata": {},
   "source": [
    "Uvažujme funkciu $f(x)=4$, zrejme táto funkcia je konštantná a jej derivácia je nulová, t.j. $f'(x)=(4)'=0$. Podobne je to napr. s funkciou $g(x)=128$, $g'(x)=(128)'=0$. Toto pozorovanie všeobecne formuluje Tvrdenie 1.  "
   ]
  },
  {
   "cell_type": "markdown",
   "metadata": {},
   "source": [
    "--- \n",
    "\n",
    "#### <font color=green> Tvrdenie 1 </font>\n",
    "\n",
    "Nech $f$ je funkcia definovaná na otvorenom intervale $I$ a má na intervale $I$ deriváciu. Ak $f'(x)=0$ pre všetky $x\\in I$, tak funkcia $f$ je na intervale $I$ konštantná. \n",
    "\n",
    "<font color=purple> EXTRA: Dôkaz. \n",
    "Nech $f'(x)=0$ pre všetky $x\\in I$. Vezmime $x_1,x_2\\in I$, $x_1<x_2$. Podľa Lagrangeovej vety existuje $x_3\\in(x_1,x_2)$ také, že $f'(x_3)=\\dfrac{f(x_2)-f(x_1)}{x_2-x_1}$. Potom $0=\\dfrac{f(x_2)-f(x_1)}{x_2-x_1}$, teda $f(x_2)=f(x_1)$. To znamená, že funkcia $f$ je na $I$ konštantná. \n",
    "</font>\n",
    "\n",
    "---"
   ]
  },
  {
   "cell_type": "markdown",
   "metadata": {},
   "source": [
    "Inšpirujme sa úvodným príkladom a položme $f(x)=x^2$, $g(x)=x^2+1$. Uvažujme tieto funkcie napr. na intervale $I=(0,1)$. Očividne platí $f'(x)=\\left(x^2\\right)'=2x=\\left(x^2+1\\right)'=g'(x)$. Taktiež je jasné, že $g(x)=x^2+1=f(x)+1$. Uvedené pozorovanie je presne sformulované v Tvrdení 2. "
   ]
  },
  {
   "cell_type": "markdown",
   "metadata": {},
   "source": [
    "--- \n",
    "\n",
    "#### <font color=green> Tvrdenie 2 </font>\n",
    "\n",
    "Nech $f$, $g$ sú funkcie definované na otvorenom intervale $I$, majú deriváciu na intervale $I$ a nech $f'(x)=g'(x)$ pre všetky $x\\in I$. Potom existuje $C\\in\\mathbb{R}$ také, že $g(x)=f(x)+C$ pre všetky $x\\in I$. \n",
    "\n",
    "<font color=purple> EXTRA: Dôkaz. \n",
    "Označme $h=g-f$. Potom pre $x\\in I$ máme $h'(x)=f'(x)-g'(x)=0$, z čoho podľa predošlého tvrdenia vyplýva, že funkcia $h$ je konštantná na $I$. Existuje teda $C\\in\\mathbb{R}$, že $h(x)=C$ pre všetky $x\\in I$, t.j. $g(x)=f(x)+C$ pre všetky $x\\in I$. \n",
    "</font>\n",
    "\n",
    "---"
   ]
  },
  {
   "cell_type": "markdown",
   "metadata": {},
   "source": [
    "---\n",
    "\n",
    "### <font color=red> Definícia 1 </font>\n",
    "\n",
    "Nech $f$, $F$ sú funkcie definované na otvorenom intervale $I$ a $F'(x)$ existuje pre všetky $x\\in I$. Funkcia $F$ sa volá **_primitívna_** (_antiderivácia_) k $f$ na intervale $I$, ak pre všetky $x\\in I$ platí $F'(x)=f(x)$.\n",
    "\n",
    "---"
   ]
  },
  {
   "cell_type": "markdown",
   "metadata": {},
   "source": [
    "Dôsledok 1 iba zhŕňa to, čo sme videli v úvodnom príklade. Ak máme dve primitívne funkcie k nejakej danej funkcii, potom sa tieto primitívne funkcie líšia o nejakú konštantu $C$. Ak teda $F(x)=x^2$ a $G(x)=x^2+1$ sú dve primitívne funkcie k funkcii $2x$, tak zrejme $G(x)=F(x)+1$, čiže $C=1$. "
   ]
  },
  {
   "cell_type": "markdown",
   "metadata": {},
   "source": [
    "--- \n",
    "\n",
    "#### <font color=green> Dôsledok 1 </font>\n",
    "\n",
    "Nech $F$, $G$ sú  funkcie primitívne k funkcii $f$ na $I$. Potom existuje $C\\in\\mathbb{R}$ také, že $G(x)=F(x)+C$ pre všetky $x\\in I$.\n",
    "\n",
    "---"
   ]
  },
  {
   "cell_type": "markdown",
   "metadata": {},
   "source": [
    "---\n",
    "\n",
    "#### Poznámka 1\n",
    "\n",
    "* **K danej funkcii $f$ na intervale $I$ existuje nekonečne veľa primitívnych funkcií** a primitívne funkcie k funkcii $f$ sa líšia len o konštantu $C\\in\\mathbb{R}$ (Dôsledok 1).\n",
    "\n",
    "\n",
    "\n",
    "* Primitívnu funkciu k danej funkcii uvažujeme **vždy** aj na príslušnom intervale. Napríklad, funkcia $F:\\ y = \\mathrm{tg}\\,x$ je primitívna k funkcii $f:\\ y = \\dfrac{1}{\\cos^2 x}$ na intervale $\\left(-\\frac{\\pi}{2},\\frac{\\pi}{2}\\right)$ alebo na $\\left(\\frac{\\pi}{2},\\frac{3\\pi}{2}\\right)$, ale nie napr. na intervale $\\left(-\\frac{\\pi}{2},\\frac{3\\pi}{2}\\right)$, keďže pre $x = \\frac{\\pi}{2}$ je $\\cos x= 0$ a funkcie $f$ ani $F$ nie sú v tomto bode definované. \n",
    "\n",
    "---"
   ]
  },
  {
   "cell_type": "markdown",
   "metadata": {},
   "source": [
    "---\n",
    "\n",
    "### <font color=red> Definícia 2 </font>\n",
    "\n",
    "Množinu všetkých primitívnych funkcií k funkcii $f$ na intervale $I$ budeme nazývať **_neurčitým integrálom_** funkcie $f$ na intervale $I$ a označíme ho symbolom\n",
    "\n",
    "$$\\int f(x)\\,\\mathrm{d}x\\,.$$\n",
    "\n",
    "Ak funkcia $F$ je primitívna k $f$ na intervale $I$, tak píšeme $\\displaystyle\\int f(x)\\,\\mathrm{d}x=F(x)+C$ na intervale $I$ (číslo $C$ sa nazýva  **_integračná konštanta_**). Funkcii $f(x)$ pod symbolom integrálu sa niekedy hovorí aj **_integrand_** a symbol $\\mathrm{d}x$ sa zvykne nazývať **_diferenciál_** $x$. \n",
    "\n",
    "---"
   ]
  },
  {
   "cell_type": "markdown",
   "metadata": {},
   "source": [
    "Nasledujúca veta nám hovorí, že primitívna funkcia k danej funkcii definovanej na intervale $I$ je \"pekná\" v zmysle spojitosti - jej graf neobsahuje \"diery\" a \"skoky\".  Z príkladu uvedeného na začiatku tejto témy vidíme, že naozaj primitívna funkcia (antiderivácia) $x^2$ k funkcii $2x$ je pekne spojitá (vykreslite si aspoň graf v Sage). "
   ]
  },
  {
   "cell_type": "markdown",
   "metadata": {},
   "source": [
    "--- \n",
    "\n",
    "### <font color=green> Veta 1 </font>\n",
    "\n",
    "Primitívna funkcia ku funkcii $f$ definovanej na intervale $I$ je spojitá na $I$.  \n",
    "\n",
    "<font color=purple> EXTRA: Dôkaz. \n",
    "Ak $F$ je primitívna funkcia k funkcii $f$ na intervale $I$, tak pre každé $x \\in I$ platí $F'(x) = f(x)$; teda $F$ je diferencovateľná na $I$, z čoho vyplýva, že je aj spojitá na $I$. \n",
    "</font>\n",
    "\n",
    "---"
   ]
  },
  {
   "cell_type": "markdown",
   "metadata": {},
   "source": [
    "Veta 2 dáva do súvisu spojitosť funkcie a existenciu primitívnej funkcie. Konkrétne hovorí o tom, že ak máme spojitú funkciu na intervale $I$, napr. $f(x)=\\cos\\,x$ na intervale $\\langle 0,2\\pi)$, potom k nej existuje primitívna funkcia $F(x)$. V tomto príklade je $F(x)=\\sin\\,x$ lebo $(\\sin\\,x)'=\\cos\\,x$ resp. $\\displaystyle\\int \\cos\\,x\\,\\mathrm{d}x=\\sin\\,x+C$ keďže $(\\sin\\,x+C)'=\\cos\\,x$, kde $C\\in\\mathbb{R}$ je ľubovoľné reálne číslo (konštanta). "
   ]
  },
  {
   "cell_type": "markdown",
   "metadata": {},
   "source": [
    "--- \n",
    "\n",
    "### <font color=green> Veta 2 </font>\n",
    "\n",
    "Nech $f$ je  funkcia definovaná a spojitá na intervale $I$. Potom existuje primitívna funkcia k funkcii $f$. \n",
    "\n",
    "---"
   ]
  },
  {
   "cell_type": "markdown",
   "metadata": {},
   "source": [
    "--- \n",
    "\n",
    "#### Poznámka 2 \n",
    "\n",
    "**Nie ku každej (elementárnej) funkcii musí existovať antiderivácia, ktorú je možné vyjadriť pomocou elementárnych funkcií!** Napríklad antiderivácie k funkciám $e^{-x^2}$, $\\sin(x^3)$, $\\dfrac{\\sin\\,x}{x}$ nie je možné vyjadriť pomocou elementárnych funkcií. Takými funkciami sa v rámci integrovania v MTIb nebudeme zaoberať, no je potrebné si uvedomiť, že situácia s integrovaním nemusí byť vždy jednoduchá. \n",
    "\n",
    "--- "
   ]
  },
  {
   "cell_type": "markdown",
   "metadata": {},
   "source": [
    "Predstavme si teraz situáciu (viď nasledujúce dva príklady), že máme daný graf derivácie, t.j. funkcie $f'(x)$ a chceme na základe neho (a toho, čo vieme o vzťahu derivácie a pôvodnej funkcie) približne načrtnúť graf funkcie $f(x)$ (antiderivácie). Hľadáme teda taký graf funkcie $f$, aby sklon tohto grafu v každom jeho bode bol rovný derivácii $f'$ v príslušnom bode. Z predchádzajúceho semestra už vieme, že ak je derivácia $f'$ nad osou $x$ (kladná), potom $f$ je rastúca; ak je $f'$ pod osou $x$ (záporná), potom je $f$ klesajúca; ak je $f'$ rastúca, potom $f$ je konvexná; ak je $f'$ klesajúca, potom $f$ je konkávna. "
   ]
  },
  {
   "attachments": {
    "grafy1.png": {
     "image/png": "[encoded data removed]"
    }
   },
   "cell_type": "markdown",
   "metadata": {},
   "source": [
    "--- \n",
    "\n",
    "#### <font color=blue> Príklad 4 </font> \n",
    "\n",
    "Graf $f'$ je daný na obrázku dole vľavo. Načrtnite grafy pre $f$, ak v jednom prípade má platiť $f(0)=0$ a v druhom prípade má platiť $f(0)=1$. \n",
    "\n",
    "<ins> Riešenie: </ins>\n",
    "\n",
    "Pre $0\\le x \\le 2$ má funkcia $f$ konštantný sklon rovný $1$ takže v tomto intervale je funkcia $f$ priamka (lineárna funkcia). Pre $2\\le x \\le 4$ je funkcia $f$ rastúca ale rastie stále rýchlejšie a rýchlejšie (strmšie, už nie konštantne). Maximum $f$ je v bode $x=4$ a od tohto bodu funkcia $f$ klesá. Na obrázku dole vpravo vidíme dve funkcie $f$ , ich tvar je rovnaký ale líšia sa v počiatočnom bode, lebo pre jednu funkciu $f$ má platiť (podľa zadania úlohy) $f(0)=0$ a pre druhú funkciu $f$ má platiť $f(0)=1$. \n",
    "\n",
    "![grafy1.png](attachment:grafy1.png)\n",
    "\n",
    "--- "
   ]
  },
  {
   "attachments": {
    "grafy2.png": {
     "image/png": "[encoded data removed]"
    }
   },
   "cell_type": "markdown",
   "metadata": {},
   "source": [
    "--- \n",
    "\n",
    "#### <font color=blue> Príklad 5 </font> \n",
    "\n",
    "Načrtnite graf antiderivácie (primitívnej funkcie) $F(x)$ k funkcii $f(x)=e^{-x^2}$ (obrázok vľavo) tak, aby platilo $F(0)=0$. \n",
    "\n",
    "<ins> Riešenie: </ins>\n",
    "\n",
    "Graf zadanej funkcie $f(x)=e^{-x^2}$ je znázornený na obrázku dole vľavo. Sklon antiderivácie $F(x)$ je daný funkciou $f(x)$. Keďže $f(x)$ je všade kladná, potom antiderivácia $F(x)$ je vždy rastúca. Ďalej keďže $f(x)$ je rastúca pre $x<0$, tak $F(x)$ musí byť konvexná pre $x<0$. Keďže $f(x)$ je klesajúca pre $x\\ge0$, tak $F(x)$ musí byť konkávna pre $x\\ge0$. Ďalej platí $f(x)\\to0$ keď $x\\to\\pm\\infty$, a teda graf $F(x)$ sa musí na oboch koncoch ustáliť (sploštiť) - nemôže \"ujsť\" do nekonečna. \n",
    "\n",
    "![grafy2.png](attachment:grafy2.png)\n",
    "\n",
    "--- "
   ]
  },
  {
   "cell_type": "markdown",
   "metadata": {},
   "source": [
    "***\n",
    "<a id=vzorce></a>\n",
    "# <font color=brown> Výpočet jednoduchých neurčitých integrálov pomocou vzorcov pre integrovanie </font>"
   ]
  },
  {
   "cell_type": "markdown",
   "metadata": {},
   "source": [
    "Z definície neurčitého integrálu a zo vzorcov pre derivovanie dostávame priamo nasledujúce vzorce, užitočné pri výpočte neurčitých integrálov funkcií: \n",
    "\n",
    "* $\\displaystyle\\int 0\\,\\mathrm{d}x=C$, $C\\in\\mathbb{R}$. \n",
    "\n",
    "\n",
    "* $\\displaystyle\\int C\\,\\mathrm{d}x=Cx$, $C\\in\\mathbb{R}\\setminus\\{0\\}$.\n",
    "\n",
    "\n",
    "* $\\displaystyle\\int x^a\\mathrm{d}x=\\dfrac{x^{a+1}}{a+1}+C$ pre $a\\neq-1$, $x\\in\\mathbb{R}$. \n",
    "\n",
    "\n",
    "* $\\displaystyle\\int e^x\\mathrm{d}x=e^x+C$ pre $x\\in\\mathbb{R}$. \n",
    "\n",
    "\n",
    "* $\\displaystyle\\int a^x\\mathrm{d}x=\\frac{a^x}{\\ln a}+C$ pre $a>0$, $a\\ne1$, $x\\in\\mathbb{R}$. \n",
    "\n",
    "\n",
    "* $\\displaystyle\\int \\sin x\\,\\mathrm{d}x=-\\cos x +C$ pre $x\\in\\mathbb{R}$. \n",
    "\n",
    "\n",
    "* $\\displaystyle\\int \\cos x\\,\\mathrm{d}x=\\sin x+C$ pre $x\\in\\mathbb{R}$. \n",
    "\n",
    "\n",
    "* $\\displaystyle\\int \\dfrac1{\\cos^2x}\\,\\mathrm{d}x=\\mathrm{tg}\\, x+C$ pre $x\\ne(2k+1)\\dfrac{\\pi}2$, $k\\in\\mathbb{Z}$. \n",
    "\n",
    "\n",
    "* $\\displaystyle\\int \\dfrac1{\\sin^2x}\\,\\mathrm{d}x=-\\mathrm{cotg}\\, x+C$ pre $x\\ne k\\pi$, $k\\in\\mathbb{Z}$. \n",
    "\n",
    "\n",
    "* $\\displaystyle\\int \\dfrac1x\\mathrm{d}x=\\ln|x|+C$ pre $x\\in\\mathbb{R}-\\{0\\}$. <br/>\n",
    "<font color=purple> EXTRA: Zdôvodnenie. \n",
    "Ak $x>0$, tak $|x|=x$ a $(\\ln|x|+C)'=(\\ln x)'=\\dfrac1x$. <br/> \n",
    "Ak $x<0$, tak $|x|=-x$ a $(\\ln|x|+C)'=(\\ln(-x))'=\\dfrac1{-x}\\cdot(-1)=\\dfrac1x$.\n",
    "</font>\n",
    "\n",
    "\n",
    "* $\\displaystyle\\int \\dfrac{f'(x)}{f(x)}\\mathrm{d}x=\\ln|f(x)|+C$ pre všetky také $x$, že $f(x)\\ne0$. <br/> \n",
    "<font color=purple> EXTRA: Zdôvodnenie. \n",
    "Ak $f(x)>0$, tak $|f(x)|=f(x)$ a <br/> \n",
    "$(\\ln|f(x)|)'=(\\ln(f(x)))'=\\dfrac1{f(x)}\\cdot f'(x)$. <br/> \n",
    "Ak $f(x)<0$, tak $|f(x)|=-f(x)$ a platí $(\\ln|f(x)|)'\\!=(\\ln(-f(x)))'\\!=\\dfrac1{-f(x)}\\cdot(\\!-f'(x))=\\dfrac{f'(x)}{f(x)}$. \n",
    "</font> \n",
    "\n",
    "\n",
    "* $\\displaystyle\\int \\mathrm{tg}\\, x\\mathrm{d}x=-\\ln|\\cos x|+C$ pre $x\\ne(2k+1)\\pi$, $k\\in\\mathbb{Z}$. <br/> \n",
    "<font color=purple> EXTRA: Zdôvodnenie. \n",
    "$\\displaystyle\\int \\mathrm{tg}\\, x\\mathrm{d}x=\\displaystyle\\int\\dfrac{\\sin x}{\\cos x}\\mathrm{d}x=-\\displaystyle\\int\\dfrac{(\\cos x)'}{\\cos x}\\mathrm{d}x= -\\ln|\\cos x|+C$. \n",
    "</font> \n",
    "\n",
    "\n",
    "* $\\displaystyle\\int \\mathrm{cotg}\\, x\\,\\mathrm{d}x=\\ln|\\sin x|+C$ pre $x\\ne k\\pi$ $k\\in\\mathbb{Z}$. \n",
    "\n",
    "\n",
    "* $\\displaystyle\\int \\dfrac1{\\sqrt{1-x^2}}\\,\\mathrm{d}x=\\mathrm{arcsin}\\, x+C$ pre $x\\in (-1,1)$. \n",
    "\n",
    "\n",
    "* $\\displaystyle\\int \\dfrac1{1+x^2}\\,\\mathrm{d}x=\\mathrm{arctg}\\, x+C$ pre $x\\in\\mathbb{R}$. "
   ]
  },
  {
   "cell_type": "markdown",
   "metadata": {},
   "source": [
    "<font color=purple> EXTRA: Pokúste sa odvodiť niektoré zo vzťahov uvedených v predchádzajúcom zozname. Každý vzťah, ktorý bude korektne odvodený a okomentovaný bude ohodnotený jedným bonusovým bodom. Nanajvýš však môžete získať 5 bonusových bodov za túto extra úlohu :-) </font>"
   ]
  },
  {
   "cell_type": "markdown",
   "metadata": {},
   "source": [
    "--- \n",
    "\n",
    "#### <font color=blue> Príklad 6 </font>\n",
    "\n",
    "Využitím vhodných integračných vzorcov vypočítajte neurčité integrály $\\displaystyle\\int x^{4}\\,\\mathrm{d}x$, $\\displaystyle\\int \\cos x\\,\\mathrm{d}x$.  \n",
    "\n",
    "<ins> Riešenie: </ins>\n",
    "\n",
    "Keď v prvom integračnom vzorci položíme $a=4$, potom máme $\\displaystyle\\int x^4\\mathrm{d}x=\\dfrac{x^{4+1}}{4+1}+C=\\dfrac{x^{5}}{5}+C$ kde $X\\in\\mathbb{R}$, čo je zrejme pravda lebo $\\left(\\dfrac{x^{5}}{5}+C\\right)'=\\left(\\dfrac{x^{5}}{5}\\right)'+C'=5\\cdot\\dfrac{x^{4}}{5}+0=x^4$. \n",
    "\n",
    "Podobne podľa iného (ktorého?) vzorca pre integrovanie uvedeného vyššie dostaváme hneď $\\displaystyle\\int \\cos x\\,\\mathrm{d}x=\\sin\\,x+C$, $C\\in\\mathbb{R}$.  "
   ]
  },
  {
   "cell_type": "code",
   "execution_count": 1,
   "metadata": {},
   "outputs": [
    {
     "data": {
      "text/html": [
       "<html><script type=\"math/tex; mode=display\">\\newcommand{\\Bold}[1]{\\mathbf{#1}}\\frac{1}{5} \\, x^{5}</script></html>"
      ],
      "text/latex": [
       "\\begin{math}\n",
       "\\newcommand{\\Bold}[1]{\\mathbf{#1}}\\frac{1}{5} \\, x^{5}\n",
       "\\end{math}"
      ],
      "text/plain": [
       "1/5*x^5"
      ]
     },
     "metadata": {},
     "output_type": "display_data"
    },
    {
     "data": {
      "text/html": [
       "<html><script type=\"math/tex; mode=display\">\\newcommand{\\Bold}[1]{\\mathbf{#1}}\\sin\\left(x\\right)</script></html>"
      ],
      "text/latex": [
       "\\begin{math}\n",
       "\\newcommand{\\Bold}[1]{\\mathbf{#1}}\\sin\\left(x\\right)\n",
       "\\end{math}"
      ],
      "text/plain": [
       "sin(x)"
      ]
     },
     "metadata": {},
     "output_type": "display_data"
    }
   ],
   "source": [
    "# overenie v Sage pomocou funkcie integral(), kde prvy argument (vstupny parameter) je funkcia, ktoru integrujeme (integrand) a druhy argument je premenna, podla ktorej integrujeme \n",
    "show(integral(x^4,x))\n",
    "show(integral(cos(x),x))"
   ]
  },
  {
   "cell_type": "markdown",
   "metadata": {},
   "source": [
    "---"
   ]
  },
  {
   "cell_type": "markdown",
   "metadata": {},
   "source": [
    "--- \n",
    "\n",
    "#### <font color=blue> Príklad 7 </font>\n",
    "\n",
    "Vypočítajte neurčitý integrál $\\displaystyle\\int \\left(x^{4}+x\\right)\\,\\mathrm{d}x$.  \n",
    "\n",
    "<ins> Riešenie: </ins> \n",
    "\n",
    "Pod integrálom máme súčet funkcií $x^{4}$ a $x$. Zrejme podobne ako v Príklade 4 by sme vedeli osobitne určiť $\\displaystyle\\int x^{4}\\,\\mathrm{d}x$ a $\\displaystyle\\int x\\,\\mathrm{d}x$. Otázne je, ako postupovať keď máme určiť primitívnu funkciu k súčtu daných funkcií? Nasledujúce Tvrdenie 3 nám hovorí, že neurčitý integrál zo súčtu funkcií je vlastne súčet neurčitých integrálov jednotlivých funkcií. Tu konkrétne bude platiť \n",
    "\n",
    "$$\\displaystyle\\int \\left(x^{4}+x\\right)\\,\\mathrm{d}x=\\displaystyle\\int x^{4}\\,\\mathrm{d}x+\\displaystyle\\int x\\,\\mathrm{d}x.$$\n",
    "\n",
    "Ak opäť využijeme vhodné integračné vzorce (konkrétne prvý z vyššie uvedených), tak dostaneme nasledovné \n",
    "\n",
    "$$\\displaystyle\\int x^{4}\\,\\mathrm{d}x=\\left(\\dfrac{x^{5}}{5}\\right)+C_1, \\qquad\\qquad \\displaystyle\\int x\\,\\mathrm{d}x=\\dfrac{x^2}{2}+C_2.$$\n",
    "\n",
    "Vrátime sa k pôvodnému výpočtu a dosadíme čiastkové výpočty \n",
    "\n",
    "$$\\displaystyle\\int \\left(x^{4}+x\\right)\\,\\mathrm{d}x=\\displaystyle\\int x^{4}\\,\\mathrm{d}x+\\displaystyle\\int x\\,\\mathrm{d}x=\\left(\\dfrac{x^{5}}{5}\\right)+C_1+\\dfrac{x^2}{2}+C_2=\\left(\\dfrac{x^{5}}{5}\\right)+\\dfrac{x^2}{2}+C.$$\n",
    "\n",
    "Všimnime si, že vo finálnom výsledku je už iba jedna integračná konštanta $C$. Nemá zmysel písať v konečnom výsledku viacero integračných konštánt, je možné ich nahradiť jednou, tu konkrétne sme položili $C=C_1+C_2$. "
   ]
  },
  {
   "cell_type": "markdown",
   "metadata": {},
   "source": [
    "<font color=orange> Overte výpočet v Príklade 7 pomocou Sage. </font>"
   ]
  },
  {
   "cell_type": "code",
   "execution_count": null,
   "metadata": {},
   "outputs": [],
   "source": []
  },
  {
   "cell_type": "markdown",
   "metadata": {},
   "source": [
    "--- \n",
    "\n",
    "#### <font color=green> Tvrdenie 3 </font>\n",
    "\n",
    "Predpokladajme, že funkcie $f_1$ a $f_2$ majú na intervale $I$ primitívne funkcie $F_1$ a $F_2$. Potom $F_1+F_2$ je primitívna k funkcii $f_1+f_2$ na intervale $I$.\n",
    "\n",
    "<font color=purple> EXTRA: Zdôvodnenie. \n",
    "platí $F'_1(x)=f_1(x)$, $F'_2(x)=f_2(x)$ pre $x\\in I$, teda $\\left(F_1+F_2\\right)'(x)=F'_1(x)+F'_2(x)=f_1(x)+f_2(x)=\\left(f_1+f_2\\right)(x)$ pre všetky $x\\in I$.\n",
    "</font> \n",
    "\n",
    "---"
   ]
  },
  {
   "cell_type": "markdown",
   "metadata": {},
   "source": [
    "--- \n",
    "\n",
    "#### Poznámka 3\n",
    "\n",
    "* Tvrdenie 3 zapisujeme tiež v tvare $\\displaystyle\\int \\left[f_1(x)+f_2(x)\\right]\\,\\mathrm{d}x\\,=\\,\\displaystyle\\int f_1(x)\\,\\mathrm{d}x+\\displaystyle\\int f_2(x)\\,\\mathrm{d}x$.  \n",
    "\n",
    "\n",
    "* Tvrdenie 3 je možné rozšíriť (matematickou indukciou) na ľubovoľný konečný počet funkcií, tzn.  \n",
    "\n",
    "$$\\displaystyle\\int \\left[f_1(x)+f_2(x)+\\ldots+f_n(x)\\right]\\,\\mathrm{d}x\\,=\\,\\displaystyle\\int f_1(x)\\,\\mathrm{d}x+\\displaystyle\\int f_2(x)\\,\\mathrm{d}x+\\ldots+\\displaystyle\\int f_n(x)\\,\\mathrm{d}x.$$\n",
    "\n",
    "---"
   ]
  },
  {
   "cell_type": "markdown",
   "metadata": {},
   "source": [
    "<font color=orange> Vypočítajte $\\displaystyle\\int \\left(x^{4}+x^2+x+5\\right)\\,\\mathrm{d}x$ a svoj výpočet overte v Sage. </font>"
   ]
  },
  {
   "cell_type": "code",
   "execution_count": null,
   "metadata": {},
   "outputs": [],
   "source": []
  },
  {
   "cell_type": "markdown",
   "metadata": {},
   "source": [
    "--- \n",
    "\n",
    "#### <font color=blue> Príklad 8 </font>\n",
    "\n",
    "Vypočítajte neurčitý integrál $\\displaystyle\\int \\left(2\\sin\\,x+6\\cos\\,x\\right)\\,\\mathrm{d}x$.  \n",
    "\n",
    "<ins> Riešenie: </ins> \n",
    "\n",
    "Podľa Tvrdenia 3 už vieme, že môžeme písať \n",
    "\n",
    "$$\\displaystyle\\int \\left(2\\sin\\,x+6\\cos\\,x\\right)\\,\\mathrm{d}x=\\displaystyle\\int 2\\sin\\,x\\,\\mathrm{d}x+\\displaystyle\\int 6\\cos\\,x\\,\\mathrm{d}x.$$ \n",
    "\n",
    "Nasledujúce Tvrdenie 4 nám hovorí, že ak je nejaká funkcia vynásobená konštantou, túto konštantu môžeme vyňať pred integrál nasledovným spôsobom \n",
    "\n",
    "$$\\displaystyle\\int \\left(2\\sin\\,x+6\\cos\\,x\\right)\\,\\mathrm{d}x=\\displaystyle\\int 2\\sin\\,x\\,\\mathrm{d}x+\\displaystyle\\int 6\\cos\\,x\\,\\mathrm{d}x=2\\cdot\\displaystyle\\int \\sin\\,x\\,\\mathrm{d}x+6\\cdot\\displaystyle\\int \\cos\\,x\\,\\mathrm{d}x.$$ \n",
    "\n",
    "Priamou aplikáciou vzorcov pre integrovanie funkcií $\\sin\\,x$, $\\cos\\,x$ dostávame \n",
    "\n",
    "$$2\\cdot\\displaystyle\\int \\sin\\,x\\,\\mathrm{d}x=-2\\cdot\\cos\\,x+C_1,\\,C_,1\\in\\mathbb{R}; \\qquad\\qquad 6\\cdot\\displaystyle\\int \\cos\\,x\\,\\mathrm{d}x=6\\cdot\\sin\\,x+C_2,\\,C_2\\in\\mathbb{R}.$$ \n",
    "\n",
    "Keď sa teraz vrátime k pôvodnému integrálu a dosadíme získané výsledky, dostaneme finálny výsledok v tvare \n",
    "\n",
    "$$\\displaystyle\\int \\left(2\\sin\\,x+6\\cos\\,x\\right)\\,\\mathrm{d}x=-2\\cdot\\cos\\,x+C_1+6\\cdot\\sin\\,x+C_2=-2\\cdot\\cos\\,x+6\\cdot\\sin\\,x+C.$$ \n",
    "\n",
    "--- "
   ]
  },
  {
   "cell_type": "markdown",
   "metadata": {},
   "source": [
    "--- \n",
    "\n",
    "#### <font color=green> Tvrdenie 4 </font>\n",
    "\n",
    "Predpokladajme, že $a\\in\\mathbb{R}$ a $f$ má na intervale $I$ primitívnu funkciu $F$. Potom $a\\cdot F$ je funkcia primitívna k $a\\cdot f$ na intervale $I$, t.j. $\\displaystyle\\int a\\cdot f(x)\\,\\mathrm{d}x=a\\cdot\\displaystyle\\int f(x)\\,\\mathrm{d}x$. \n",
    "\n",
    "<font color=purple> EXTRA: Zdôvodnenie. \n",
    "Platí $F'(x)=f(x)$ pre $x\\in I$. Potom pre $x\\in I$ máme tiež $(aF)'(x)=a\\cdot F'(x)=a\\cdot f(x)$.\n",
    "</font> \n",
    "\n",
    "---"
   ]
  },
  {
   "cell_type": "markdown",
   "metadata": {},
   "source": [
    "***\n",
    "<a id=perpartes></a>\n",
    "# <font color=brown> Integrovanie metódou per partes </font>"
   ]
  },
  {
   "cell_type": "markdown",
   "metadata": {},
   "source": [
    "**Ďalšia veta nám prezentuje metódu vhodnú pre výpočet neurčitých integrálov, kde integrand je v tvare súčinu funkcií, pričom jednu z nich vieme jednoducho zderivovať a druhú z nich vieme jednoducho integrovať (viď príklady za Vetou 3).**  "
   ]
  },
  {
   "cell_type": "markdown",
   "metadata": {},
   "source": [
    "--- \n",
    "\n",
    "### <font color=green> Veta 3 (Integrovanie metódou per partes) </font>\n",
    "\n",
    "Nech funkcie $u$, $v$ majú na intervale $I$ derivácie $u'$, $v'$. Potom z existencie primitívnej funkcie k $u\\cdot v'$ vyplýva existencia primitívnej funkcie k $u'\\cdot v$ a pre $x\\in I$ platí\n",
    "\n",
    "$$\\displaystyle\\int u'(x)\\cdot v(x)\\,\\mathrm{d}x=u(x)\\cdot v(x)-\\displaystyle\\int u(x)\\cdot v'(x)\\,\\mathrm{d}x\\,.$$ \n",
    "\n",
    "<font color=purple> EXTRA: Dôkaz. \n",
    "Pre deriváciu súčinu funkcií platí $(u\\cdot v)'=u'\\cdot v+u\\cdot v'$, teda pre všetky $x\\in I$ je $u'(x)\\cdot v(x)=(u(x)\\cdot v(x))'-u(x)\\cdot v'(x)$. Potom\n",
    "\n",
    "$$\\displaystyle\\int u'(x)\\cdot v(x)\\,\\mathrm{d}x=\\displaystyle\\int\\left(u(x)\\cdot v(x)\\right)'\\,\\mathrm{d}x-\\displaystyle\\int u(x)\\cdot v'(x)\\,\\mathrm{d}x=u(x)\\cdot v(x)-\\displaystyle\\int u(x)\\cdot v'(x)\\,\\mathrm{d}x\\,.$$\n",
    "</font> \n",
    "\n",
    "---"
   ]
  },
  {
   "cell_type": "markdown",
   "metadata": {},
   "source": [
    "**Niekedy sa vzťah pre per partes uvádza aj v tvare** $\\displaystyle\\int u(x)\\cdot v'(x)\\,\\mathrm{d}x\\,=u(x)\\cdot v(x)-\\displaystyle\\int u'(x)\\cdot v(x)\\,\\mathrm{d}x$ (tzn. len sa prehodia členy na pravej a ľavej strane vo vzťahu z Vety 3). "
   ]
  },
  {
   "cell_type": "markdown",
   "metadata": {},
   "source": [
    "--- \n",
    "\n",
    "#### <font color=blue> Príklad 9 </font>\n",
    "\n",
    "Vypočítajte integrál $\\displaystyle\\int x\\cos x\\,\\mathrm{d}x$.  \n",
    "\n",
    "<ins> Riešenie: </ins>\n",
    "\n",
    "Použijeme metódu per partes. Položme $u'(x)=\\cos x$, $v(x)=x$. Potom $u(x)=\\sin x$ (viď integračný vzorec vyššie), $v'(x)=1$ a pre všetky $x \\in \\mathbb{R}$ máme \n",
    "\n",
    "$$\\displaystyle\\int x\\cos x\\,\\mathrm{d}x=x\\sin x-\\displaystyle\\int\\sin x\\cdot 1\\,\\mathrm{d}x=x\\sin x+\\cos x+C\\,.$$\n"
   ]
  },
  {
   "cell_type": "code",
   "execution_count": 2,
   "metadata": {},
   "outputs": [
    {
     "data": {
      "text/html": [
       "<html><script type=\"math/tex; mode=display\">\\newcommand{\\Bold}[1]{\\mathbf{#1}}\\sin\\left(x\\right)</script></html>"
      ],
      "text/latex": [
       "\\begin{math}\n",
       "\\newcommand{\\Bold}[1]{\\mathbf{#1}}\\sin\\left(x\\right)\n",
       "\\end{math}"
      ],
      "text/plain": [
       "sin(x)"
      ]
     },
     "metadata": {},
     "output_type": "display_data"
    }
   ],
   "source": [
    "# postupny vypocet pomocou metody per partes v Sage\n",
    "u_deriv(x) = cos(x)\n",
    "u(x) = integral(u_deriv(x),x)\n",
    "show(u(x))"
   ]
  },
  {
   "cell_type": "code",
   "execution_count": 3,
   "metadata": {},
   "outputs": [
    {
     "data": {
      "text/html": [
       "<html><script type=\"math/tex; mode=display\">\\newcommand{\\Bold}[1]{\\mathbf{#1}}1</script></html>"
      ],
      "text/latex": [
       "\\begin{math}\n",
       "\\newcommand{\\Bold}[1]{\\mathbf{#1}}1\n",
       "\\end{math}"
      ],
      "text/plain": [
       "1"
      ]
     },
     "metadata": {},
     "output_type": "display_data"
    }
   ],
   "source": [
    "v(x) = x \n",
    "v_deriv(x) = derivative(v(x),x)\n",
    "show(v_deriv(x))"
   ]
  },
  {
   "cell_type": "code",
   "execution_count": 4,
   "metadata": {},
   "outputs": [
    {
     "data": {
      "text/html": [
       "<html><script type=\"math/tex; mode=display\">\\newcommand{\\Bold}[1]{\\mathbf{#1}}x \\sin\\left(x\\right) + \\cos\\left(x\\right)</script></html>"
      ],
      "text/latex": [
       "\\begin{math}\n",
       "\\newcommand{\\Bold}[1]{\\mathbf{#1}}x \\sin\\left(x\\right) + \\cos\\left(x\\right)\n",
       "\\end{math}"
      ],
      "text/plain": [
       "x*sin(x) + cos(x)"
      ]
     },
     "metadata": {},
     "output_type": "display_data"
    }
   ],
   "source": [
    "# vzorec per partes \n",
    "show(u(x)*v(x)-integral(u(x)*v_deriv(x),x))"
   ]
  },
  {
   "cell_type": "code",
   "execution_count": 5,
   "metadata": {},
   "outputs": [
    {
     "data": {
      "text/html": [
       "<html><script type=\"math/tex; mode=display\">\\newcommand{\\Bold}[1]{\\mathbf{#1}}x \\sin\\left(x\\right) + \\cos\\left(x\\right)</script></html>"
      ],
      "text/latex": [
       "\\begin{math}\n",
       "\\newcommand{\\Bold}[1]{\\mathbf{#1}}x \\sin\\left(x\\right) + \\cos\\left(x\\right)\n",
       "\\end{math}"
      ],
      "text/plain": [
       "x*sin(x) + cos(x)"
      ]
     },
     "metadata": {},
     "output_type": "display_data"
    }
   ],
   "source": [
    "# kontrola vstavanou funkciou\n",
    "f(x) = x*cos(x)\n",
    "show(integral(f(x),x)) # dostaneme to iste, co postupnym vypoctom metodou per partes "
   ]
  },
  {
   "cell_type": "markdown",
   "metadata": {},
   "source": [
    "--- "
   ]
  },
  {
   "cell_type": "markdown",
   "metadata": {},
   "source": [
    "---\n",
    "\n",
    "#### Poznámka 4 \n",
    "\n",
    "Všimnime si, že Sage neuvádza vo výsledku integračnú konštantu $C$. Nezabúdajme ju však pre úplnosť a korektnosť výsledku vždy doplniť! \n",
    "\n",
    "--- "
   ]
  },
  {
   "cell_type": "markdown",
   "metadata": {},
   "source": [
    "--- \n",
    "\n",
    "#### <font color=blue> Príklad 10 </font>\n",
    "\n",
    "Vypočítajte $\\displaystyle\\int x\\ln x\\,\\mathrm{d}x$.  \n",
    "\n",
    "<ins> Riešenie: </ins>\n",
    "\n",
    "Položíme $u'(x)=x$, $v(x)=\\ln x$. Potom $u(x)=\\dfrac{x^2}{2}$, $v'(x)=\\dfrac{1}{x}$ a \n",
    "\n",
    "$$\\displaystyle\\int x\\ln x\\,\\mathrm{d}x = \\dfrac{x^2}{2}\\ln x - \\displaystyle\\int \\dfrac{x^2}{2}\\cdot \\dfrac{1}{x} \\,\\mathrm{d}x =$$\n",
    "\n",
    "$$\\dfrac{x^2}{2}\\ln x - \\frac{1}{2}\\displaystyle\\int x\\,\\mathrm{d}x = \\dfrac{x^2}{2}\\ln x - \\frac{1}{4}x^2 + C= \\dfrac{x^2}{2}\\left(\\ln x - \\frac{1}{2}\\right) + C.$$\n",
    "\n",
    "---"
   ]
  },
  {
   "cell_type": "markdown",
   "metadata": {},
   "source": [
    "<font color=orange> Ktorý integračný vzorec sa využil v predošlom príklade pri výpočte $u(x)$ na základe $u'(x)=x$ ? Pre predošlý príklad urobte postupný výpočet per partes aj kontrolný výpočet (pomocou vstavanej funkcie) v Sage. </font>"
   ]
  },
  {
   "cell_type": "code",
   "execution_count": null,
   "metadata": {},
   "outputs": [],
   "source": []
  },
  {
   "cell_type": "markdown",
   "metadata": {},
   "source": [
    "--- \n",
    "\n",
    "#### <font color=blue> Príklad 11 </font>\n",
    "\n",
    "Vypočítajte $\\displaystyle\\int x^2e^x\\,\\mathrm{d}x$.  \n",
    "\n",
    "<ins> Riešenie: </ins>\n",
    "\n",
    "Položíme $u'(x)=e^x$, $v(x)=x^2$. Potom $u(x)=e^x$, $v'(x)=2x$ a \n",
    "\n",
    "$$\\displaystyle\\int x^2e^x\\,\\mathrm{d}x=x^2e^x-\\displaystyle\\int 2x\\cdot e^x\\,\\mathrm{d}x=x^2e^x-2\\cdot\\displaystyle\\int xe^x\\,\\mathrm{d}x.$$ \n",
    "\n",
    "Opäť použijeme metódu per partes. Teraz položme $u'(x)=e^x$, $v(x)=x$; potom je daný integrál pre všetky $x \\in \\mathbb{R}$ rovný \n",
    "\n",
    "$$x^2e^x-2\\cdot(xe^x-\\displaystyle\\int e^x\\,\\mathrm{d}x)=x^2e^x-2xe^x+2e^x+C.$$ \n",
    "\n",
    "Integračnú konštantu $C$ je v podstate postačujúce dopísať až v poslednom kroku výpočtu, netreba na to však zabudnúť, aby bol výsledok úplný a správny. \n",
    "\n",
    "---"
   ]
  },
  {
   "cell_type": "markdown",
   "metadata": {},
   "source": [
    "--- \n",
    "\n",
    "#### <font color=blue> Príklad 12 </font>\n",
    "\n",
    "Vypočítajte $\\displaystyle\\int \\mathrm{arctg}\\, x\\,\\mathrm{d}x$.  \n",
    "\n",
    "<ins> Riešenie: </ins>\n",
    "\n",
    "Môžeme použiť metódu per partes tak, že $u'(x)=1$, $v(x)=\\mathrm{arctg}\\, x$. Potom $u(x)=x$, $v'(x)=\\dfrac1{1+x^2}$ a pre všetky $x \\in \\mathbb{R}$ \n",
    "\n",
    "$$\\displaystyle\\int\\mathrm{arctg}\\, x\\,\\mathrm{d}x=x\\cdot \\mathrm{arctg}\\, x-\\displaystyle\\int x\\,\\mathrm{d}x\\cdot\\dfrac1{1+x^2}\\,\\mathrm{d}x=$$ \n",
    "\n",
    "$$x\\cdot\\mathrm{arctg}\\, x-\\dfrac12\\cdot\\displaystyle\\int\\dfrac{2x}{1+x^2}\\,\\mathrm{d}x=x\\cdot\\mathrm{arctg}\\, x-\\frac12\\ln(1+x^2)+C.$$\n",
    " \n",
    "---"
   ]
  },
  {
   "cell_type": "markdown",
   "metadata": {},
   "source": [
    "--- \n",
    "\n",
    "#### <font color=blue> Príklad 13 </font>\n",
    "\n",
    "Vypočítajte $\\displaystyle\\int e^x\\cos x\\,\\mathrm{d}x$.   \n",
    "\n",
    "<ins> Riešenie: </ins>\n",
    "\n",
    "Použijeme metódu per partes: $u=e^x$, $v'=\\cos x$. Potom $u'=e^x$, $v=\\sin x$, $\\displaystyle\\int e^x\\cos\\,\\mathrm{d}x=e^x\\sin x-\\displaystyle\\int e^x\\sin x\\,\\mathrm{d}x$. Opäť použitím per partes máme: $u=e^x$, $v'=\\sin x$, $u'=e^x$, $v=-\\cos x$, čiže pôvodný integrál je pre všetky $x \\in \\mathbb{R}$ rovný \n",
    "\n",
    "$$e^x\\sin x-\\bigg(e^x(-\\cos)+\\!\\!\\displaystyle\\int\\!\\! e^x\\cos x\\,\\mathrm{d}x\\bigg)=e^x\\sin x+e^x\\cos x-\\!\\!\\displaystyle\\int\\!\\! e^x\\cos x\\,\\mathrm{d}x.$$\n",
    "\n",
    "Máme\n",
    "\n",
    "$$\\displaystyle\\int e^x\\cos x\\,\\mathrm{d}x=e^x\\sin x+e^x\\cos x-\\displaystyle\\int e^x\\cos x\\,\\mathrm{d}x\\,.$$ \n",
    "    \n",
    "Ak na obe strany rovnosti pripočítame $\\displaystyle\\int e^x\\cos x\\,\\mathrm{d}x$ a predelíme dvoma, dostaneme\n",
    "\n",
    "$$\\displaystyle\\int e^x\\cos x\\,\\mathrm{d}x=\\frac12\\, e^x(\\sin x+\\cos x)+C.$$\n",
    " \n",
    "Uvedomme si, že keby sme v druhom použití metódy per partes dali $u'=e^x$, $v=\\sin x$, nedostali by sme nič užitočné, lebo by sme sa vlastne vrátili k tomu, čo počítame na začiatku: $u=e^x$, $v'=\\cos x$, z čoho \n",
    "\n",
    "$$\\displaystyle\\int e^x\\cos x\\,\\mathrm{d}x=e^x\\sin x-\\bigg(e^x\\sin x-\\int e^x\\cos x\\,\\mathrm{d}x\\bigg)=\\int e^x\\cos x\\,\\mathrm{d}x.$$ \n",
    " \n",
    "---"
   ]
  },
  {
   "cell_type": "markdown",
   "metadata": {},
   "source": [
    "***\n",
    "<a id=substitucia></a>\n",
    "# <font color=brown> Integrovanie s využitím substitučnej metódy </font>"
   ]
  },
  {
   "cell_type": "markdown",
   "metadata": {},
   "source": [
    "**Metóda na výpočet neurčitých integrálov, ktorú si teraz predstavíme spočíva v tom, že ak máme nejaký zložitejší integrál $\\displaystyle\\int g(x)\\,\\mathrm{d}x$, tak vhodným nahradením (substitúciou) nejakej časti integrandu (časti funkcie $g(x)$), získame nový a jednoduchší integrál (s novou premennou $t$) v tvare $\\displaystyle\\int f(t)\\,\\mathrm{d}t$. Tento integrál by sme mali byť schopní pomerne jednoducho vyrátať a následne vo výsledku spätne dosadíme za premennú $t$ tak, aby sme sa vrátili k pôvodnej premennej $x$.** \n",
    "\n",
    "Predstavme si teraz na chvíľu, že poznáme funciu $F(x)=\\left(x^2+3x-5\\right)^{10}$. Ľahko zistíme, že $F'(x)=\\left((x^2+3x-5)^{10}\\right)'=10\\cdot\\left(x^2+3x-5\\right)^9\\cdot(2x+3)=(20x+30)(x^2+3x-5)^9$. Pýtajme sa teraz, čomu je rovné $\\displaystyle\\int(20x+30)(x^2+3x-5)^9\\,\\mathrm{d}x$ ? Odpoveď máme priamo pred očami, lebo \n",
    "\n",
    "$$\\displaystyle\\int(20x+30)\\left(x^2+3x-5\\right)^9\\,\\mathrm{d}x=\\left(x^2+3x-5\\right)^{10}+C.$$ \n",
    "\n",
    "Ako by sme ale postupovali pri riešení tohto integrálu, keď by sme nevychádzali z funkcie $F(x)$ ? \n",
    "\n",
    "Uvažujme teda ešte raz $\\displaystyle\\int(20x+30)(x^2+3x-5)^9\\,\\mathrm{d}x$. Asi sa zhodneme na tom, že \"najkomplikovanejšia\" časť integrandu je $\\left(x^2+3x-5\\right)^9$. Našou snahou je integrand zjednodušiť, a preto položme (nahraďme) $t = x^2+3x-5$. Potom zrejme bude platiť (po umocnení oboch strán) $(x^2+3x-5)^9=t^9$. Touto substitúciou sa vlastne $t$ stalo funkciou od $x$ tzn. $t=t(x)$ a teda diferenciál $t$ vyzerá nasledovne $\\mathrm{d}t=\\left(x^2+3x-5\\right)'\\,\\mathrm{d}x=(2x+3)\\,\\mathrm{d}x$ resp. $\\mathrm{d}t=(2x+3)\\cdot\\,\\mathrm{d}x$. V podstate sme len zderivovali obe strany rovnosti $t = x^2+3x-5$ a vyjadrili $\\mathrm{d}t$, presnejšie: $t' = (x^2+3x-5)'$ čo vieme zapísať v tvare $\\dfrac{\\mathrm{d}t}{\\mathrm{d}x}=(x^2+3x-5)'$, čo je to isté ako $\\mathrm{d}t=(x^2+3x-5)'\\mathrm{d}x$. Vráťme sa teraz k výpočtu integrálu. \n",
    "\n",
    "$$\\displaystyle\\int(20x+30)\\left(x^2+3x-5\\right)^9\\,\\mathrm{d}x=\\displaystyle\\int10(2x+3)\\left(x^2+3x-5\\right)^9\\,\\mathrm{d}x=\\displaystyle\\int10\\underbrace{\\left(x^2+3x-5\\right)^9}_{t}\\underbrace{(2x+3)\\,\\mathrm{d}x}_{\\mathrm{d}t}=\\displaystyle\\int10t^9\\,\\mathrm{d}t\\overset{\\text{integračný vzorec}}{=}t^{10}+C\\overset{t = x^2+3x-5}{=}\\left(x^2+3x-5\\right)^{10}+C.$$"
   ]
  },
  {
   "cell_type": "markdown",
   "metadata": {},
   "source": [
    "Veta 4 nám teda dáva návod na výpočet takých neurčitých integrálov, v ktorých máme ako súčasť integrandu nejakú funkciu $\\varphi(x)$ - v predošlom príklade $\\varphi(x)=x^2+3x-5$ ale tiež jej deriváciu $\\varphi'(x)$ - v predošlom príklade $\\varphi'(x)=2x+3$. V takom prípade stačí položiť (nahradiť) v integrále $t=\\varphi(x)$, z tohto vzťahu vyjadríme diferenciály ($\\mathrm{d}t$ a $\\mathrm{d}\\varphi$) a položíme $\\mathrm{d}t=\\varphi(x)'\\,\\mathrm{d}x$, čo tiež nahradíme v integráli a týmto činom sa celý výpočet integrálu zjenoduší tak, ako to ilustruje Veta 4 a nasledujúce príklady. Samozrejme, po výpočte neurčitého integrálu podľa novej premennej $t$ je potrebné sa vrátiť k pôvodnej premennej $x$ tak, že vo výsledku dosadíme spätne $t=\\varphi(x)$. "
   ]
  },
  {
   "cell_type": "markdown",
   "metadata": {},
   "source": [
    "--- \n",
    "\n",
    "### <font color=green> Veta 4 (Integrovanie substitučnou metódou) </font>\n",
    "\n",
    "Nech $F(t)$ je primitívna funkcia k funkcii $f(t)$ na intervale $M$. Ďalej, nech funkcia $\\varphi(x)$ má v intervale $I$ deriváciu $\\varphi'(x)$ a nech pre každé $x\\in I$ je $\\varphi(x)\\in M$. Potom zložená funkcia $F(\\varphi(x))$ je primitívna k funkcii $f(\\varphi(x))\\cdot\\varphi'(x)$ na intervale $I$, t.j.\n",
    "\n",
    "$$\\displaystyle\\int f(\\varphi(x))\\cdot\\varphi'(x)\\,\\mathrm{d}x=\\displaystyle\\int f(t)\\,\\mathrm{d}t\\,.$$\n",
    "\n",
    "<font color=purple> EXTRA: Dôkaz. \n",
    "Podľa predpokladov je $F'(t)=f(t)$ pre všetky $t\\in M$. Pre derivovanie zloženej funkcie platí, že ak $x\\in I$, tak $F'(\\varphi(x))=f(\\varphi(x))\\cdot\\varphi'(x)$, čo bolo treba dokázať. \n",
    "</font> \n",
    "\n",
    "---"
   ]
  },
  {
   "cell_type": "markdown",
   "metadata": {},
   "source": [
    "---\n",
    "\n",
    "#### Poznámka 5 \n",
    "\n",
    "* Všimnime si, že v uvedenom vzorci píšeme namiesto $\\varphi'(x)\\,\\mathrm{d}x$ výraz $\\mathrm{d}t$; toto sa často píše v príkladoch. Výraz $\\varphi'(x)\\,\\mathrm{d}x$ je diferenciál funkcie $y = \\varphi(x)$. \n",
    "\n",
    "\n",
    "* Detailnejšie: \n",
    "$$t = \\phi(x)\\qquad $$ \n",
    "<br/>\n",
    "$$\\text{zderivujeme obe strany rovnosti podľa premennej } x\\,\\, ( \\text{všimnime si, že } t \\text{ je teraz funkciou premennej } x \\text{ tzn. } t=t(x))$$ \n",
    "<br/>\n",
    "$$t'(x)=\\phi'(x)$$\n",
    "<br/>\n",
    "$$\\dfrac{\\mathrm{d}t(x)}{\\mathrm{d}x}=\\phi'(x)$$\n",
    "<br/>\n",
    "$$\\text{vyjadríme diferenciály}$$\n",
    "<br/>\n",
    "$$\\mathrm{d}t=\\phi'(x)\\mathrm{d}x$$\n",
    "<br/>\n",
    "$$\\text{následne je možné nahradiť funkciu } \\phi(x)\\,\\, \\text{premennou } t\\,\\, \\text{a taktiež nahradiť diferenciál funkcie } \\phi(x)\\,\\, \\text{podľa predchádzajúceho vzťahu, tzn. výraz } \\phi'(x)\\mathrm{d}x\\,\\, \\text{nahradiť výrazom } \\mathrm{d}t,\\,\\, \\text{čím sa integrál zjednoduší}$$\n",
    "\n",
    "--- "
   ]
  },
  {
   "cell_type": "markdown",
   "metadata": {},
   "source": [
    "--- \n",
    "\n",
    "#### <font color=blue> Príklad 14 </font>\n",
    "\n",
    "Vypočítajte integrál $\\displaystyle\\int\\cos 5x\\,\\mathrm{d}x$.  \n",
    "\n",
    "<ins> Riešenie: </ins>\n",
    "\n",
    "Položme substitúciu $5x=t$. Funkcia $\\varphi(x)=5x$ má deriváciu na $\\mathbb{R}$, $\\varphi'(x)=5$. Podľa Vety 4 resp. Poznámky 5 nahrádzame tiež $\\varphi'(x)\\,\\mathrm{d}x=5\\,\\mathrm{d}x$ výrazom $\\mathrm{d}t$. Potom pre všetky $x\\in\\mathbb{R}$ máme podľa predchádzajúcej vety\n",
    "\n",
    "$$\\displaystyle\\int\\!\\!\\!\\cos 5x\\,\\mathrm{d}x=1\\cdot\\displaystyle\\int\\!\\!\\!\\cos 5x\\,\\mathrm{d}x=\\frac55\\cdot\\displaystyle\\int\\!\\!\\!\\cos 5x\\,\\mathrm{d}x=\\frac15\\!\\!\\displaystyle\\int\\!\\!\\!\\cos \\underbrace{5x}_{t}\\cdot\\underbrace{5\\,\\mathrm{d}x}_{\\mathrm{d}t}=\\frac15\\!\\!\\displaystyle\\int\\!\\!\\!\\cos t\\,\\mathrm{d}t=\\frac15\\sin t+C=\\frac15\\sin 5x+C.$$\n",
    " "
   ]
  },
  {
   "cell_type": "code",
   "execution_count": 6,
   "metadata": {},
   "outputs": [
    {
     "data": {
      "text/html": [
       "<html><script type=\"math/tex; mode=display\">\\newcommand{\\Bold}[1]{\\mathbf{#1}}x \\ {\\mapsto}\\ \\cos\\left(t\\right)</script></html>"
      ],
      "text/latex": [
       "\\begin{math}\n",
       "\\newcommand{\\Bold}[1]{\\mathbf{#1}}x \\ {\\mapsto}\\ \\cos\\left(t\\right)\n",
       "\\end{math}"
      ],
      "text/plain": [
       "x |--> cos(t)"
      ]
     },
     "metadata": {},
     "output_type": "display_data"
    }
   ],
   "source": [
    "# vypocet integralu pomocou substitucie postupnymi krokmi \n",
    "f(x) = cos(5*x) \n",
    "t = var('t')\n",
    "f = f.subs(x = t/5) # substitucia x = 5/t\n",
    "show(f)"
   ]
  },
  {
   "cell_type": "code",
   "execution_count": 7,
   "metadata": {},
   "outputs": [
    {
     "data": {
      "text/html": [
       "<html><script type=\"math/tex; mode=display\">\\newcommand{\\Bold}[1]{\\mathbf{#1}}\\sin\\left(t\\right)</script></html>"
      ],
      "text/latex": [
       "\\begin{math}\n",
       "\\newcommand{\\Bold}[1]{\\mathbf{#1}}\\sin\\left(t\\right)\n",
       "\\end{math}"
      ],
      "text/plain": [
       "sin(t)"
      ]
     },
     "metadata": {},
     "output_type": "display_data"
    }
   ],
   "source": [
    "vysledok1 = integral(f(t), t) # integrovanie \n",
    "show(vysledok1)"
   ]
  },
  {
   "cell_type": "code",
   "execution_count": 8,
   "metadata": {},
   "outputs": [
    {
     "data": {
      "text/html": [
       "<html><script type=\"math/tex; mode=display\">\\newcommand{\\Bold}[1]{\\mathbf{#1}}\\sin\\left(5 \\, x\\right)</script></html>"
      ],
      "text/latex": [
       "\\begin{math}\n",
       "\\newcommand{\\Bold}[1]{\\mathbf{#1}}\\sin\\left(5 \\, x\\right)\n",
       "\\end{math}"
      ],
      "text/plain": [
       "sin(5*x)"
      ]
     },
     "metadata": {},
     "output_type": "display_data"
    }
   ],
   "source": [
    "vysledok2 = vysledok1.subs(t = 5*x) # spatne nahradenie t = 5*x\n",
    "show(vysledok2)"
   ]
  },
  {
   "cell_type": "code",
   "execution_count": 9,
   "metadata": {},
   "outputs": [
    {
     "data": {
      "text/html": [
       "<html><script type=\"math/tex; mode=display\">\\newcommand{\\Bold}[1]{\\mathbf{#1}}\\frac{1}{5} \\, \\sin\\left(5 \\, x\\right)</script></html>"
      ],
      "text/latex": [
       "\\begin{math}\n",
       "\\newcommand{\\Bold}[1]{\\mathbf{#1}}\\frac{1}{5} \\, \\sin\\left(5 \\, x\\right)\n",
       "\\end{math}"
      ],
      "text/plain": [
       "1/5*sin(5*x)"
      ]
     },
     "metadata": {},
     "output_type": "display_data"
    }
   ],
   "source": [
    "# kontrolny vypocet v Sage\n",
    "f(x) = cos(5*x)\n",
    "show(integral(f(x), x))"
   ]
  },
  {
   "cell_type": "markdown",
   "metadata": {},
   "source": [
    "--- "
   ]
  },
  {
   "cell_type": "markdown",
   "metadata": {},
   "source": [
    "--- \n",
    "\n",
    "#### <font color=blue> Príklad 15 </font>\n",
    "\n",
    "Vypočítajte integrál $\\displaystyle\\int\\dfrac{\\mathrm{d}x}{x\\sqrt{1-\\ln^2 x}}$.   \n",
    "\n",
    "<ins> Riešenie: </ins>\n",
    "\n",
    "Vezmime substitúciu $\\ln x=t$. Funkcia $\\varphi(x)=\\ln x$ má deriváciu $\\varphi'(x)=\\dfrac1x$ na $(0,\\infty)$. Pre $x\\in(0,\\infty)$ je $t=\\ln x\\in\\mathbb{R}$. Zrejme $\\mathrm{d}t=\\frac{1}{x}\\,\\mathrm{d}{x}$. Potom platí\n",
    "\n",
    "$$\\displaystyle\\int\\frac{\\mathrm{d}x}{x\\sqrt{1-\\ln^2x}}=\\displaystyle\\int\\frac1{\\sqrt{1-\\underbrace{\\ln^2x}_{t^2}}}\\cdot\\underbrace{\\frac1x\\,\\mathrm{d}x}_{\\mathrm{d}t}=\\displaystyle\\int\\frac1{\\sqrt{1-t^2}}\\,\\mathrm{d}t=\\mathrm{arcsin}\\, t+C=\\arcsin(\\ln x)+C.$$\n",
    " \n",
    "---"
   ]
  },
  {
   "cell_type": "markdown",
   "metadata": {},
   "source": [
    "<font color=orange> Ktorý integračný vzorec sa využil v predošlom príklade pri výpočte integrálu po substitúcii ? Pre predošlý príklad urobte postupný výpočet pomocou substitúcie aj kontrolný výpočet (pomocou vstavanej funkcie) v Sage. </font>"
   ]
  },
  {
   "cell_type": "code",
   "execution_count": null,
   "metadata": {},
   "outputs": [],
   "source": []
  },
  {
   "cell_type": "markdown",
   "metadata": {},
   "source": [
    "--- \n",
    "\n",
    "#### <font color=blue> Príklad 16 </font>\n",
    "\n",
    "Vypočítajte integrál $\\displaystyle\\int\\dfrac{x^2}{x^6 +1}\\,\\mathrm{d}x$.    \n",
    "\n",
    "<ins> Riešenie: </ins>\n",
    "\n",
    "Vezmime substitúciu $x^3=t$. Potom $3x^2 \\,\\mathrm{d}x = \\mathrm{d}t$, teda $x^2 \\,\\mathrm{d}x = \\dfrac{\\mathrm{d}t}{3}$ a\n",
    "\n",
    "$$\\displaystyle\\int\\!\\!\\dfrac{x^2}{x^6 +1}\\,\\mathrm{d}x =\\!\\!\\! \\displaystyle\\int\\!\\!\\dfrac{x^2}{(x^3)^2 +1}\\,\\mathrm{d}x =\\!\\!\\! \\displaystyle\\int\\!\\! \\dfrac{\\frac{\\mathrm{d}t}{3}}{t^2 +1} = \\frac{1}{3}\\mathrm{arctg}\\, t +C = \\frac{1}{3}\\mathrm{arctg}(x^3)+C.$$\n",
    " \n",
    "---"
   ]
  },
  {
   "cell_type": "markdown",
   "metadata": {},
   "source": [
    "--- \n",
    "\n",
    "#### <font color=blue> Príklad 17 </font>\n",
    "\n",
    "Vypočítajte integrál $\\displaystyle\\int\\dfrac{1}{x^2 - 4x + 12}\\,\\mathrm{d}x$.  \n",
    "\n",
    "<ins> Riešenie: </ins>\n",
    "\n",
    "Platí $\\displaystyle\\int\\dfrac{1}{x^2 - 4x + 12}\\,\\mathrm{d}x = \\displaystyle\\int \\dfrac{1}{x^2 - 4x + 4 + 8}\\,\\mathrm{d}x = \\displaystyle\\int \\dfrac{1}{(x-2)^2 + 8}\\,\\mathrm{d}x = \\displaystyle\\int \\dfrac{1}{8\\left ( \\left ( \\frac{x-2}{\\sqrt{8}}\\right )^2 +1\\right )}\\,\\mathrm{d}x$. \n",
    "\n",
    "Ďalej použijeme substitúciu $\\frac{x-2}{\\sqrt{8}} = t$; z toho máme $x - 2 = t\\sqrt{8}$ a $\\,\\mathrm{d}x = \\sqrt{8}\\,\\mathrm{d}t$, čiže\n",
    " \n",
    "$$\\displaystyle\\int \\dfrac{1}{8\\left ( \\left ( \\frac{x-2}{\\sqrt{8}}\\right )^2 +1\\right )}\\,\\mathrm{d}x = \\frac{1}{8}\\displaystyle\\int \\dfrac{1}{t^2 +1}\\sqrt{8}\\,\\mathrm{d}t = \\frac{\\sqrt{8}}{8}\\mathrm{arctg}\\, t + C = \\frac{1}{\\sqrt{8}}\\mathrm{arctg}\\left ( \\frac{x-2}{\\sqrt{8}}\\right )+C.$$  "
   ]
  },
  {
   "cell_type": "code",
   "execution_count": 10,
   "metadata": {},
   "outputs": [
    {
     "data": {
      "text/html": [
       "<html><script type=\"math/tex; mode=display\">\\newcommand{\\Bold}[1]{\\mathbf{#1}}\\frac{1}{4} \\, \\sqrt{2} \\arctan\\left(\\frac{1}{4} \\, \\sqrt{2} {\\left(x - 2\\right)}\\right)</script></html>"
      ],
      "text/latex": [
       "\\begin{math}\n",
       "\\newcommand{\\Bold}[1]{\\mathbf{#1}}\\frac{1}{4} \\, \\sqrt{2} \\arctan\\left(\\frac{1}{4} \\, \\sqrt{2} {\\left(x - 2\\right)}\\right)\n",
       "\\end{math}"
      ],
      "text/plain": [
       "1/4*sqrt(2)*arctan(1/4*sqrt(2)*(x - 2))"
      ]
     },
     "metadata": {},
     "output_type": "display_data"
    }
   ],
   "source": [
    "# kontrolny vypocet v Sage da rovnaky vysledok \n",
    "show(integral(1 / (x^2 - 4*x + 12), x))"
   ]
  },
  {
   "cell_type": "code",
   "execution_count": 11,
   "metadata": {},
   "outputs": [
    {
     "data": {
      "text/html": [
       "<html><script type=\"math/tex; mode=display\">\\newcommand{\\Bold}[1]{\\mathbf{#1}}\\frac{1}{4} \\, \\sqrt{2}</script></html>"
      ],
      "text/latex": [
       "\\begin{math}\n",
       "\\newcommand{\\Bold}[1]{\\mathbf{#1}}\\frac{1}{4} \\, \\sqrt{2}\n",
       "\\end{math}"
      ],
      "text/plain": [
       "1/4*sqrt(2)"
      ]
     },
     "metadata": {},
     "output_type": "display_data"
    },
    {
     "data": {
      "text/html": [
       "<html><script type=\"math/tex; mode=display\">\\newcommand{\\Bold}[1]{\\mathbf{#1}}\\frac{1}{4} \\, \\sqrt{2}</script></html>"
      ],
      "text/latex": [
       "\\begin{math}\n",
       "\\newcommand{\\Bold}[1]{\\mathbf{#1}}\\frac{1}{4} \\, \\sqrt{2}\n",
       "\\end{math}"
      ],
      "text/plain": [
       "1/4*sqrt(2)"
      ]
     },
     "metadata": {},
     "output_type": "display_data"
    },
    {
     "data": {
      "text/html": [
       "<html><script type=\"math/tex; mode=display\">\\newcommand{\\Bold}[1]{\\mathbf{#1}}\\frac{1}{4} \\, \\sqrt{2} = \\frac{1}{4} \\, \\sqrt{2}</script></html>"
      ],
      "text/latex": [
       "\\begin{math}\n",
       "\\newcommand{\\Bold}[1]{\\mathbf{#1}}\\frac{1}{4} \\, \\sqrt{2} = \\frac{1}{4} \\, \\sqrt{2}\n",
       "\\end{math}"
      ],
      "text/plain": [
       "1/4*sqrt(2) == 1/4*sqrt(2)"
      ]
     },
     "metadata": {},
     "output_type": "display_data"
    },
    {
     "data": {
      "text/html": [
       "<html><script type=\"math/tex; mode=display\">\\newcommand{\\Bold}[1]{\\mathbf{#1}}\\frac{1}{4} \\, \\sqrt{2}</script></html>"
      ],
      "text/latex": [
       "\\begin{math}\n",
       "\\newcommand{\\Bold}[1]{\\mathbf{#1}}\\frac{1}{4} \\, \\sqrt{2}\n",
       "\\end{math}"
      ],
      "text/plain": [
       "1/4*sqrt(2)"
      ]
     },
     "metadata": {},
     "output_type": "display_data"
    }
   ],
   "source": [
    "# na prvy pohlad sa vysledky nemusia zdat rovnake, staci vsak zlomky, ktore vystupuju vo vysledku vynasobit sqrt(2) / sqrt(2)\n",
    "show(sqrt(2)/4)\n",
    "show(1/sqrt(8))\n",
    "show(sqrt(2)/4 == 1/sqrt(8))\n",
    "show((sqrt(2)/4)*(sqrt(2)/sqrt(2)))"
   ]
  },
  {
   "cell_type": "markdown",
   "metadata": {},
   "source": [
    "--- "
   ]
  },
  {
   "cell_type": "markdown",
   "metadata": {},
   "source": [
    "**Z úvah, definícii a príkladov uvedených v texte vyplýva, že operácia derivovania a integrovania sú v istom zmysle akoby opačné (inverzné) operácie.** Inými slovami, ak zderivujeme primitívnu funkciu (resp. antideriváciu) $F(x)$ k funkcii $f(x)$, tak dostaneme funkciu $f(x)$. To vlastne znamená, že derivovanie a integrovanie sa vzájomne \"zrušia\", môžeme to symbolicky vyjadriť nasledovne \n",
    "\n",
    "$$\\dfrac{\\mathrm{d}}{\\mathrm{d}x}\\left(\\displaystyle\\int f(x)\\,\\mathrm{d}x\\right)=f(x).$$ \n",
    "\n",
    "Je to podobné, ako keď zložíme funkciu $f$ s inverznou funkciou $f^{-1}$, tie sa vzájomne akoby \"zrušia\" a dostaneme identitu $x$, t.j. $(f \\circ f^{-1})(x)=x$ a vice versa. \n",
    "\n",
    "Kvôli prehľadnosti a ilustrácii uvedenej myšlienky prikladáme ešte jednu tabuľku vzorcov pre derivovanie a odpovedajúcich vzorcov pre integrovanie. \n"
   ]
  },
  {
   "attachments": {
    "vzorce.png": {
     "image/png": "[encoded data removed]"
    }
   },
   "cell_type": "markdown",
   "metadata": {},
   "source": [
    "![vzorce.png](attachment:vzorce.png)"
   ]
  },
  {
   "cell_type": "markdown",
   "metadata": {},
   "source": [
    "**Nasledujúci interaktívny kód Vám môže poslúžiť ako kontrolný nástroj pri výpočte základných typov neurčitých integrálov.** "
   ]
  },
  {
   "cell_type": "code",
   "execution_count": 12,
   "metadata": {},
   "outputs": [
    {
     "data": {
      "application/vnd.jupyter.widget-view+json": {
       "model_id": "e19ec2fdafa4498abe932af87793e440",
       "version_major": 2,
       "version_minor": 0
      },
      "text/plain": [
       "Manual interactive function <function integral at 0x6ffe6aca1290> with 1 widget\n",
       "  f: EvalText(value='x^3 - 3*x…"
      ]
     },
     "metadata": {},
     "output_type": "display_data"
    }
   ],
   "source": [
    "# Indefinite Integral - an example\n",
    "# loading library \"definite_integral\"\n",
    "from sage.symbolic.integration.integral import indefinite_integral\n",
    "\n",
    "# input : a function f\n",
    "# output : a function F\n",
    "# author: P. Szabó, 16 March 2018\n",
    "@interact\n",
    "def integral(\n",
    "    f = input_box(default = x^3-3*x^2+2*x),auto_update=False):\n",
    "    f(x)=f\n",
    "    r=LatexExpr(\"\\\\int(\")+latex(f(x))+LatexExpr(\")dx=\")\n",
    "    q=indefinite_integral(f(x),x)\n",
    "    show(r+latex(q)+\" + C\")"
   ]
  },
  {
   "cell_type": "markdown",
   "metadata": {},
   "source": [
    "***\n",
    "<a id=zdroje></a>\n",
    "# <font color=brown> Použité zdroje</font>"
   ]
  },
  {
   "cell_type": "markdown",
   "metadata": {},
   "source": [
    "* Boelkins M., Austin D., Schlicker S. (2018). Active Calculus. 978-1085940856. \n",
    "\n",
    "\n",
    "* Goldstein L. J. et al. (2017). Calculus & Its Applications. Pearson Education. \n",
    "\n",
    "\n",
    "* Hartman G. et al. (2018). APEX Calculus. 978-1514225158. \n",
    "\n",
    "\n",
    "* Hallet D. H. et al. (2017). Calculus: Single Variable. Wiley. \n",
    "\n",
    "\n",
    "* Hallet D. H. (2014). Applied Calculus. John Wiley & Sons. \n",
    "\n",
    "\n",
    "* [Prednáška](https://umv.science.upjs.sk/madaras/MZIb/MZIb_1.pdf) prof. Madaras."
   ]
  }
 ],
 "metadata": {
  "kernelspec": {
   "display_name": "SageMath 9.0",
   "language": "sage",
   "name": "sagemath"
  },
  "language_info": {
   "codemirror_mode": {
    "name": "ipython",
    "version": 3
   },
   "file_extension": ".py",
   "mimetype": "text/x-python",
   "name": "python",
   "nbconvert_exporter": "python",
   "pygments_lexer": "ipython3",
   "version": "3.7.3"
  }
 },
 "nbformat": 4,
 "nbformat_minor": 2
}
